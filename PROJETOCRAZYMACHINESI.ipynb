{
  "nbformat": 4,
  "nbformat_minor": 0,
  "metadata": {
    "colab": {
      "name": "PROJETOCRAZYMACHINESI.ipynb",
      "provenance": [],
      "collapsed_sections": [
        "3IrNByfUIPQi",
        "0KFrBrQPIdkV",
        "LAHLxeCEIjy0",
        "G0lj3AwlI1Ks",
        "4L1HatoYIMZm",
        "pk8GOc_BShp8",
        "jBf8fwduDEim",
        "xEZNP0FGVxsD",
        "2EiYffFWVn8s",
        "O0iyvT4mNDDl",
        "-6tq8FITOVLo",
        "WrNqp_ytM3JJ",
        "9bTQL6J5GvWe",
        "rMEpbmqlwKG6",
        "xUHHzeSwQeBr",
        "ghfQFff7It7D",
        "hY_OvRCqRfxc",
        "ZE9HVE0FRx1h",
        "eCY7ZO_eSIbP",
        "c-MlZ-MmIWsH",
        "u895sRmNIRwt",
        "IDX8uWJ_I0JO",
        "lUrFUPpwI6Jt",
        "I_OuxrzUI9UU",
        "GhNxZrL3JMPn",
        "cVrDC2BkKGtZ",
        "5Hv7BYZ4MKWn",
        "G1dw-YxpHvHi",
        "L6aWaOzqN1zh",
        "cx8dFov6XXjn",
        "eXYPfjwsNyT6",
        "5ots3UJnTFuF"
      ],
      "include_colab_link": true
    },
    "kernelspec": {
      "name": "python3",
      "display_name": "Python 3"
    },
    "language_info": {
      "name": "python"
    }
  },
  "cells": [
    {
      "cell_type": "markdown",
      "metadata": {
        "id": "view-in-github",
        "colab_type": "text"
      },
      "source": [
        "<a href=\"https://colab.research.google.com/github/JulioCsarCM/Projeto-Crazy-Machines-S.I/blob/main/PROJETOCRAZYMACHINESI.ipynb\" target=\"_parent\"><img src=\"https://colab.research.google.com/assets/colab-badge.svg\" alt=\"Open In Colab\"/></a>"
      ]
    },
    {
      "cell_type": "markdown",
      "source": [
        "# <font color=lighblue> 1 - Introdução: Data Science:"
      ],
      "metadata": {
        "id": "3IrNByfUIPQi"
      }
    },
    {
      "cell_type": "markdown",
      "source": [
        "<div style=\"text-align: right\">\n",
        "\n",
        "Ciência de Dados é uma disciplina que trabalha com a exploração e análise de todos os dados disponíveis, com o objetivo de desenvolver compreensão, extrair conhecimento e formular ações que gerem resultados.\n",
        "\n",
        "\n",
        "Cientistas de dados utilizam-se do método científico para a análise exploratória dos dados, formando hipóteses, validando-as (através de simulação e modelagem estatística).\n",
        "\n",
        "\n",
        "- Cientistas de dados com foco de **Negócios**: \n",
        "Geram conhecimentos valiosos identificando padrões e discrepâncias dos dados analisados.\n",
        "\n",
        "\n",
        "O Principal Objetivo é converter dados brutos em informações gerando inteligência de negócios, auxiliando os líderes empresariais e gestores, com a finalidade de decisões Baseada em Fatos.\n",
        "\n",
        "   - Utiliza Técnicas:\n",
        "\n",
        "  - Ciências da Computação\n",
        " - Sistemas/Software\n",
        " - Matemáticas (Estatistica)\n",
        " - Visualização de Dados\n",
        " - Aprendizado de Máquina\n",
        "  - Mineração de Dados \n",
        "   Modelagem Preditiva (Machine-Deep Learning). \n",
        "    - Processa \"Big-Data\" de Diferentes Formatos e Fontes.\n",
        "     - Análise de mídias sociais\n",
        "     - Área de negócios\n",
        "\n",
        "\n",
        "\n",
        "### Diferença entre os Dados:\n",
        "\n",
        "### Estruturado:\n",
        "\n",
        "Dados estruturados são aqueles que possuem Organização e Padronização, uma separação clara e bem definida da informação que está sendo\n",
        "guardada em cada porção da estrutura de armazenamento.\n",
        "Os Exemplos que foram utilizados neste são arquivos `.txt` ou `.csv`, que carregam informações organizados por linhas `,` e Colunas.\n",
        " Outros Exemplos: Arquivos de Banco de Dados, Planilha Eletrônicas, Tabelas e Registros que utilizam separador com (vírgulas) `,` .\n",
        "\n",
        "### Não-Estruturado:\n",
        "\n",
        "Informações aleatórias, que não estão organizadas. São dados que não podem ser organizados em linhas e colunas, onde não existe uma separação clara e bem definida da informação que está sendo armazenada. \n",
        "\n",
        "Exemplo de dado Não-Estruturado: \n",
        "- Reclamação feita por um cliente em uma Plataforma digital (Reclame Aqui.)\n",
        "\n",
        "- Texto qualquer de Facebook e etc.\n",
        "\n",
        "- Imagens da Internet.\n",
        "\n",
        "Com função de Análises e Extração de Informações, podemos assemelhar ao Trabalho de (B.I - Business Inteligence - Negócios Inteligentes) que utiliza de análise de dados \"descritiva\" ou \"retrospectiva\" ao uso da análise preditiva.\n",
        "                                                  \n",
        "---"
      ],
      "metadata": {
        "id": "z8kf2rX_R4Gm"
      }
    },
    {
      "cell_type": "markdown",
      "source": [
        "# <font color=lighblue> 2 - Python:"
      ],
      "metadata": {
        "id": "0KFrBrQPIdkV"
      }
    },
    {
      "cell_type": "markdown",
      "source": [
        "`Surgimento:`\t20 de fevereiro de 1991 \n",
        "\n",
        " `Responsável:`Guido van Rossum, 66 Anos - Holandês.\n",
        "\n",
        " `Organização:` Python Software Foundation (PSF) - (sem fins lucrátivo)\n",
        " https://www.python.org/psf/\n",
        "\n",
        "<center>\n",
        "<img src=\"https://logospng.org/download/python/logo-python-256.png\" width=\"150\" height=\"150\">\n",
        "</center>\n",
        "\n",
        "Python é uma linguagem de Programação de de alto nível, utiliza o inglês como idioma-base, para execução e Interpretação de  `Scripts/Códigos/Comandos`, podendo ter um comportamento Imperativo, também classificado como Programação Orientada a Objetos, Com Operação Funcional para Resoluções Matemáticas e consegue ter boas Execuções com Tipos de Dados.\n",
        "\n",
        "A linguagem foi projetada com a filosofia de enfatizar a importância do esforço do programador sobre o esforço computacional. \n",
        "\n",
        "Prioriza a legibilidade do código sobre a velocidade executada. \n",
        "\n",
        "Combina com Sintaxe Concisa e Clara com os Recursos Poderosos de sua Biblioteca Padrão e por Módulos e Frameworks desenvolvidos por terceiros.\n",
        " \n",
        "---\n",
        "\n",
        "Comando para Verificar a Versão do Python:\n"
      ],
      "metadata": {
        "id": "u2Ibu46pQfz8"
      }
    },
    {
      "cell_type": "code",
      "source": [
        "!python -V"
      ],
      "metadata": {
        "colab": {
          "base_uri": "https://localhost:8080/"
        },
        "id": "y5zWR_NqL0N7",
        "outputId": "dad52aec-bdc4-41ae-afca-01333e66e8c5"
      },
      "execution_count": null,
      "outputs": [
        {
          "output_type": "stream",
          "name": "stdout",
          "text": [
            "Python 3.7.13\n"
          ]
        }
      ]
    },
    {
      "cell_type": "markdown",
      "source": [
        "# <h1><font color=lighblue> 3 - Ambiente de Desenvolvimento: Google Colaboratory ou Anaconda-Jupyter Notebook.\n",
        "\n",
        "---\n"
      ],
      "metadata": {
        "id": "LAHLxeCEIjy0"
      }
    },
    {
      "cell_type": "markdown",
      "source": [
        "## <h2> Diferença entre Google Colab e Jupyter Notebook.\n",
        "<div style=\"text-align: right\">\n",
        "\n",
        "Ambos Interpretadores/IDE funcionam de forma semelhante e atualmente são os mais utilizados em ciência de dados, estão listados como as melhores ferramentas para trabalhar com Python utilizando de técnicas do DataScience.\n",
        "\n",
        "---\n",
        "<center>\n",
        "\n",
        "<img src=\"https://repository-images.githubusercontent.com/304608186/0b06d300-5dc1-11eb-9a33-97a745c89ceb\" width=\"200\" height=\"170\">\n",
        "\n",
        "</center>\n",
        "\n",
        "\n",
        "- Ambiente Desenvolvimento Online (Necessita de Conexão com Internet)\n",
        "- Utiliza Virtual Machine para executar o serviço de RAM e Disco\n",
        "- O código do seu notebook é executado em uma máquina virtual dedicada à sua Conta Google utilizando o serviço Google Drive. \n",
        "\n",
        "- As máquinas virtuais são recicladas após um determinado tempo ocioso, ou caso a janela seja fechada;\n",
        "\n",
        "- Para restaurar seu notebook, talvez seja necessário refazer o upload do arquivo .csv e executar as opções \"Runtime\" e \"Restart and run all...\".\n",
        "- Requisitos: Browser deve estar Atualizado, de Preferência execute utilizando Google Chrome ou Mozilla Firefox, (Conta Google é obrigatorio*) \n",
        "\n",
        "---\n",
        "\n",
        "Obs: Algumas Aplicações de Variáveis irão utilizar de Recursos da Memória RAM e CPU-GPU do Browser-PC que estiver Executando as operações.\n",
        "\n",
        "---\n",
        "\n",
        "<center>\n",
        "<img src=\"https://technology.amis.nl/wp-content/uploads/2020/11/image-27.png\" width=\"200\" height=\"170\">\n",
        "</center>\n",
        "\n",
        "- Necessita Apenas da Instalação do Anaconda que utiliza do Jupyter Notebook como IDE para escritura de códigos, e Instalador Python para Execução dos Programas, Depois de Instalado funciona Corretamento pelo Browser-\n",
        "Sem Conexão de Internet.\n",
        "\n",
        "- Jupyter Notebook (IDE): Trabalha em conjunto com o Python instalado, e serviços de hospedagem (Porta 8080 - Local Host) fornecido pela anaconda.\n",
        "\n",
        "- Requisitos Minimos: Indicado para Computadores com pouca CPU - GPU - Memória, Funciona com simples Browser.\n",
        "\n",
        "- Recomendado para trabalhar com Scripts de Multiplataforma, (em sincronia com outros Componentes de Software ou Sistemas).\n",
        " \n",
        "- Ambiente de Desenvolvimento para Projetos Complexos envolvendo instalações de diversos pacotes e bibliotecas.\n",
        "\n",
        "As ferramentas/Bibliotecas que foram Instaladas são utilizadas e Funcionam Corretamente em Ambos tanto Google Colab e Jupyter Notebook.\n",
        "\n",
        "- Pandas\n",
        "- Numpy\n",
        "- Latex\n",
        "- Matploit\n",
        "\n",
        "---\n",
        "\n",
        "</div>"
      ],
      "metadata": {
        "id": "QfPiASdoQTzC"
      }
    },
    {
      "cell_type": "markdown",
      "source": [
        "# <font color=lighblue> 4 – Instrução do Projeto: \n",
        "\n"
      ],
      "metadata": {
        "id": "G0lj3AwlI1Ks"
      }
    },
    {
      "cell_type": "markdown",
      "source": [
        "<div style=\"text-align: right\">\n",
        "\n",
        "- Estrutura Python, \n",
        "- Comandos Básicos, \n",
        "- Bibliotecas, Instalações e Ferramentas, Execução de Ciência de Dados com Python. \n",
        "</div>\n",
        " \n",
        "---\n",
        "\n",
        "## Características Básicas da Linguagem: \n",
        "\n",
        "<div style=\"text-align: right\">\n",
        "<center>\n",
        "\n",
        "Como iremos trabalhar com ciência de Dados, é importante Ressaltar Operações Matemáticas são Realizadas no Python Utilizando Operadores Aritméticos, Relacionais, Lógicos, Estatísticas e Comandos de entrada-saída `input`\\ `output` (leitura da digitação do teclado).\n",
        "O interpretador Python Identifica o Tipo de Número e Operação que deve ser Realizada conforme à digitação, Trabalhando de Forma Semelhante à Calculadora. \n",
        "</center>\n",
        "\n",
        "<center>\n",
        "</div>\n",
        "\n",
        "Os tipos de dados básicos e utilizados são: \n",
        "\n",
        "### <font color=orange> Numérico: \n",
        "Utilizado para Números: de (1 a 199) ou (10 a 1999).\n",
        "\n",
        "### <font color=orange>Int:\n",
        " Números Inteiros: (-3, -2, -1, 0, 1, 200, 30000)\n",
        "\n",
        "### <font color=orange>Float (Pontos Flutuantes):\n",
        "São Números Racionais-Reais: ( `-0.5115` ,  `52,509,` `(-3.190)` ), e também Números Fracionários.\n",
        "\n",
        "### <font color=orange>String:\n",
        "Utilizado para Caracteres, Textos ou Palavras. \n",
        "\n",
        "###<font color=orange> Lógico ou Booleano:\n",
        "Utilizado em situações em que irá resultar em um valor de Verdadeiro (true) ou Falso (false), trabalha com Declarações Condicionais.\n",
        "\n",
        "### <font color=orange> None: \n",
        "Representa Ausência de valor.\n",
        "\n",
        "</center>\n",
        "\n",
        "</div>\n",
        "\n",
        "---\n",
        "<center>\n",
        "\n",
        "#### **Operadores Aritméticos**           \n",
        "\n",
        "| Operação      | Operador |\n",
        "|---------------|:--------:|\n",
        "| Adição        |     +    |\n",
        "| Subtração     |     -    |\n",
        "| Multiplicação |     *    |\n",
        "| Divisão       |     /    |\n",
        "| Exponenciação |    **    |\n",
        "| Parte Inteira |    //    |\n",
        "| Módulo        |     %    |\n",
        "\n",
        "---\n",
        "\n",
        "#### **Operadores Relacionais**\n",
        "| Descrição        | Operador |\n",
        "|------------------|:--------:|\n",
        "| Maior que        |     >    |\n",
        "| Menor que        |     <    |\n",
        "| Igual a          |    ==    |\n",
        "| Maior ou igual a |    >=    |\n",
        "| Menor ou igual a |    <=    |\n",
        "| Diferente        |    !=    |\n",
        "\n",
        "\n",
        "---\n",
        "#### **Operadores Lógicos**\n",
        "\n",
        "| Operador Lógico \t| Função    \t| Prioridade \t|\n",
        "|-----------------\t|-----------\t|:----------:\t|\n",
        "| NOT             \t| Negação   \t|      1     \t|\n",
        "| AND             \t| Conjunção \t|      2     \t|\n",
        "| OR              \t| Disjunção \t|      3     \t|\n",
        "\n",
        "</p>\n",
        "\n",
        "---"
      ],
      "metadata": {
        "id": "FOhP735PQpQL"
      }
    },
    {
      "cell_type": "markdown",
      "source": [
        "# <font color=lighblue> 4.1 - Variaveis:\n"
      ],
      "metadata": {
        "id": "4L1HatoYIMZm"
      }
    },
    {
      "cell_type": "markdown",
      "source": [
        "São dados localizados na memória do computador nas quais podemos armazenar uma informação temporariamente (valores), rotulando-a com algum nome identificador. \n",
        "Dado ao local da memória que contém os valores.\n",
        "\n",
        "Case Sensitive, ou seja, existe diferenciação de caracteres maiúsculos ou minúsculos.\n",
        "\n",
        "Python também tem palavras Reservadas que não podem ser usadas como Variáveis, como ***\"and, assert, for\",*** dentre outras.\n",
        "\n",
        "Em Python as Variáveis funcionam trabalhando com a codificação de um script durante o tempo de execução.  \n",
        "Dessa forma, conseguiremos acessar as informações de maneira mais simples enquanto o nosso código estiver rodando. \n",
        "\n",
        "---\n",
        "\n",
        "***Regras de Variáveis:*** Não podemos utilizar acentuação, ou Caracteres como o ***“Ç”*** na declaração de nomes das variáveis.\n",
        "\n",
        "### <font color=orange>Observações:\n",
        "- Existem algumas palavras reservadas da linguagem que não podem ser utilizadas como nomes de variável:\n",
        "\n",
        "| |Lista de Palavras <br>Reservadas em Python| |\n",
        "|:-------------:|:------------:|:-------------:|\n",
        "| and           | as           | not           | \n",
        "| assert        | finally      | or            | \n",
        "| break         | for          | pass          | \n",
        "| class         | from         | nonlocal      | \n",
        "| continue      | global       | raise         | \n",
        "| def           | if           | return        | \n",
        "| del           | import       | try           | \n",
        "| elif          | in           | while         | \n",
        "| else          | is           | with          | \n",
        "| except        | lambda       | yield         | \n",
        "| False         | True         | None          | \n",
        "\n",
        "---\n",
        "\n",
        " <font color=orange> _  (UnderScore):\n",
        "\n",
        "Pode ser utilizado em Operações Matemáticas, carregando o dado de algum cálculo feito e atribuindo o valor ao (undersocre) _  \n",
        "\n",
        "---\n",
        "\n",
        "# <font color=lighblue> Exemplos: Execuções Matemáticas, com UnderScore Atribuído"
      ],
      "metadata": {
        "id": "_N2OqPP8QyWT"
      }
    },
    {
      "cell_type": "code",
      "execution_count": null,
      "metadata": {
        "colab": {
          "base_uri": "https://localhost:8080/"
        },
        "id": "Bo-42WAgIIAt",
        "outputId": "a859465d-f9c2-4728-dea1-953a609fd30c"
      },
      "outputs": [
        {
          "output_type": "execute_result",
          "data": {
            "text/plain": [
              "608270404778.5"
            ]
          },
          "metadata": {},
          "execution_count": 20
        }
      ],
      "source": [
        "5 * 2 + _"
      ]
    },
    {
      "cell_type": "code",
      "source": [
        "_ / 2 + _"
      ],
      "metadata": {
        "colab": {
          "base_uri": "https://localhost:8080/"
        },
        "id": "74o-e4WqMir2",
        "outputId": "7c01b660-de95-4ab0-d2f9-a59c1c053e2f"
      },
      "execution_count": null,
      "outputs": [
        {
          "output_type": "execute_result",
          "data": {
            "text/plain": [
              "608270404768.5"
            ]
          },
          "metadata": {},
          "execution_count": 19
        }
      ]
    },
    {
      "cell_type": "code",
      "source": [
        "(_ + 3 * 2 + 5) * (_ + 2) - (_ - 3) /  _ "
      ],
      "metadata": {
        "colab": {
          "base_uri": "https://localhost:8080/"
        },
        "id": "_5_vLtVgMf2c",
        "outputId": "782473b9-e07a-477a-9f99-8b051819a066"
      },
      "execution_count": null,
      "outputs": [
        {
          "output_type": "execute_result",
          "data": {
            "text/plain": [
              "405513603179.0"
            ]
          },
          "metadata": {},
          "execution_count": 18
        }
      ]
    },
    {
      "cell_type": "code",
      "source": [
        "x = 10\n",
        "y = 6.66\n",
        "z = 7,7898\n",
        "\n",
        "print(type(x))\n",
        "print(type(y))\n",
        "print(type(z))"
      ],
      "metadata": {
        "id": "WHKq5i7KNqcu",
        "colab": {
          "base_uri": "https://localhost:8080/"
        },
        "outputId": "4d0ef313-95cb-4430-fb54-db599c6b7ca8"
      },
      "execution_count": null,
      "outputs": [
        {
          "output_type": "stream",
          "name": "stdout",
          "text": [
            "<class 'int'>\n",
            "<class 'float'>\n",
            "<class 'tuple'>\n"
          ]
        }
      ]
    },
    {
      "cell_type": "markdown",
      "source": [
        "Comando: `print(type(X)` *exibe o Valor que está armazenado na < Classe >*\n",
        "\n",
        "*Nesses 3 exemplos ele carregou*: `x: inteiro `, `y: flutuante`, `z: tuplas` "
      ],
      "metadata": {
        "id": "aZzShOFaIaP9"
      }
    },
    {
      "cell_type": "markdown",
      "source": [
        "# <font color=lighblue> 4.2 - Listas:"
      ],
      "metadata": {
        "id": "pk8GOc_BShp8"
      }
    },
    {
      "cell_type": "markdown",
      "source": [
        "É uma estrutura de dados que não possui nenhum, um ou mais elementos ou itens.\n",
        "\n",
        "Os itens são ordenados a partir de um índice, apresentando flexibilidade para manipulação dos dados como inclusão, exclusão, alteração, ordenação, etc.\n",
        "\n",
        "As listas são estruturas dinâmicas, ou seja, permitem que as operações possam ser realizadas em tempo de execução. \n",
        "\n",
        "Outro detalhe importante é que os dados armazenados em uma lista podem ser de tipos variados, permitindo um maior controle sobre os mesmos.\n",
        "\n",
        "Em Python uma lista é representada por um par de colchetes `[ ]`.\n",
        "\n",
        "Documentação Python - Listas:\n",
        "[https://docs.python.org/3.6/tutorial/datastructures.html#list-comprehensions](https://docs.python.org/3.6/tutorial/datastructures.html#list-comprehensions)"
      ],
      "metadata": {
        "id": "fVY1OnSXQ89c"
      }
    },
    {
      "cell_type": "code",
      "source": [
        "lista1 = ['Isso é uma Lista em:']\n",
        "\n",
        "programacao = ['P', 'Y', 'T', 'H', 'O', 'N']\n",
        "\n",
        "medias = [1, 2, 3, 4, 5, 6, 7, 8, 9, 10]\n",
        "\n",
        "grupo = ['GRUPO: Crazy Machines - S.I']"
      ],
      "metadata": {
        "id": "N6uOwy5cSg9O"
      },
      "execution_count": null,
      "outputs": []
    },
    {
      "cell_type": "code",
      "source": [
        "print(lista1)\n",
        "print(programacao)\n",
        "print(medias)\n",
        "print(grupo)"
      ],
      "metadata": {
        "colab": {
          "base_uri": "https://localhost:8080/"
        },
        "id": "r_EWGQtCDDxY",
        "outputId": "c8747544-11b3-46d3-e08f-dfbf4e31d35d"
      },
      "execution_count": null,
      "outputs": [
        {
          "output_type": "stream",
          "name": "stdout",
          "text": [
            "['Isso é uma Lista em:']\n",
            "['P', 'Y', 'T', 'H', 'O', 'N']\n",
            "[1, 2, 3, 4, 5, 6, 7, 8, 9, 10]\n",
            "['GRUPO: Crazy Machines - S.I']\n"
          ]
        }
      ]
    },
    {
      "cell_type": "code",
      "source": [
        "dados = ['ACIDENTES', 'AÉREOS', 2012, 2022 , True , False , None]\n",
        "print(dados)"
      ],
      "metadata": {
        "colab": {
          "base_uri": "https://localhost:8080/"
        },
        "id": "SEWH-jTgF9MC",
        "outputId": "49b60270-d0e5-4fc1-cef8-02078fbd119c"
      },
      "execution_count": null,
      "outputs": [
        {
          "output_type": "stream",
          "name": "stdout",
          "text": [
            "['ACIDENTES', 'AÉREOS', 2012, 2022, True, False, None]\n"
          ]
        }
      ]
    },
    {
      "cell_type": "code",
      "source": [
        "dados = [ \n",
        "    ['Rodas de liga', 'Travas elétricas', 'Piloto automático', 'Bancos de couro', 'Ar condicionado', 'Sensor de estacionamento', 'Sensor crepuscular', 'Sensor de chuva'],\n",
        "    ['Central multimídia', 'Teto panorâmico', 'Freios ABS', '4 X 4', 'Painel digital', 'Piloto automático', 'Bancos de couro', 'Câmera de estacionamento'],\n",
        "    ['Piloto automático', 'Controle de estabilidade', 'Sensor crepuscular', 'Freios ABS', 'Câmbio automático', 'Bancos de couro', 'Central multimídia', 'Vidros elétricos']\n",
        "]\n",
        "dados"
      ],
      "metadata": {
        "id": "rJ9LWBg59efC"
      },
      "execution_count": null,
      "outputs": []
    },
    {
      "cell_type": "code",
      "source": [
        "print(type(dados))"
      ],
      "metadata": {
        "colab": {
          "base_uri": "https://localhost:8080/"
        },
        "id": "ehOSqgx5GO6i",
        "outputId": "4fb1faf4-8b39-4393-ff90-27760258a3b4"
      },
      "execution_count": null,
      "outputs": [
        {
          "output_type": "stream",
          "name": "stdout",
          "text": [
            "<class 'list'>\n"
          ]
        }
      ]
    },
    {
      "cell_type": "code",
      "source": [
        "for x in dados:\n",
        "  print(type(x))"
      ],
      "metadata": {
        "colab": {
          "base_uri": "https://localhost:8080/"
        },
        "id": "ADzvIgHRJ78l",
        "outputId": "b9ec4366-10ef-4a5a-fb2c-6bd825329d75"
      },
      "execution_count": null,
      "outputs": [
        {
          "output_type": "stream",
          "name": "stdout",
          "text": [
            "<class 'str'>\n",
            "<class 'str'>\n",
            "<class 'int'>\n",
            "<class 'int'>\n",
            "<class 'bool'>\n",
            "<class 'bool'>\n",
            "<class 'NoneType'>\n"
          ]
        }
      ]
    },
    {
      "cell_type": "markdown",
      "source": [
        "## DataFrames a partir de Listas\n",
        "\n",
        "Listas também são estruturas muito usadas em Python, e não é incomum termos que criar *DataFrames*  a partir destas.\n",
        "\n",
        "Para organizar nossas várias listas de um modo que seja fácil sia conversão em *DataFrame*, vou usar a função *built-in* `zip()`."
      ],
      "metadata": {
        "id": "NJ3jFzshEIgq"
      }
    },
    {
      "cell_type": "code",
      "source": [
        "nomes = ['Ucrânia', 'Finlândia','Rússia','China','Índia','Corêia-Norte', 'N.A.T.O', 'Brasil','Venezuela','Argentina']\n",
        "idades = [30, 104, 30, 72, 72, 76, 73, 33, 77, 58]\n",
        "potencia = ['Médio', 'Alto', 'ALTO', 'ALTO', 'Médio', 'Baixo', 'ALTO', 'Médio', 'Baixo', 'Baixo',]\n",
        "nuclear = [False, True, True, True, True, True, True, True, False,  False]\n",
        "\n",
        "labels = ['Paises/federações', 'Idades', 'Potencial de Destruição', 'Armamento Nuclear']\n",
        "list_cols = [nomes, idades, potencia, nuclear]\n",
        "\n",
        "# usar função zip\n",
        "dados = dict(list(zip(labels, list_cols)))\n",
        "\n",
        "# criar DataFrame\n",
        "df = pd.DataFrame(dados)\n",
        "\n",
        "# visualizar DataFrame\n",
        "df"
      ],
      "metadata": {
        "colab": {
          "base_uri": "https://localhost:8080/",
          "height": 363
        },
        "id": "JTOvvjs5Eczv",
        "outputId": "8cccbe05-67db-40cd-d52a-69ea495d0229"
      },
      "execution_count": 22,
      "outputs": [
        {
          "output_type": "execute_result",
          "data": {
            "text/plain": [
              "  Paises/federações  Idades Potencial de Destruição  Armamento Nuclear\n",
              "0           Ucrânia      30                   Médio              False\n",
              "1         Finlândia     104                    Alto               True\n",
              "2            Rússia      30                    ALTO               True\n",
              "3             China      72                    ALTO               True\n",
              "4             Índia      72                   Médio               True\n",
              "5      Corêia-Norte      76                   Baixo               True\n",
              "6           N.A.T.O      73                    ALTO               True\n",
              "7            Brasil      33                   Médio               True\n",
              "8         Venezuela      77                   Baixo              False\n",
              "9         Argentina      58                   Baixo              False"
            ],
            "text/html": [
              "\n",
              "  <div id=\"df-0c07c549-32e6-4d6e-ad0b-d0900541bcfa\">\n",
              "    <div class=\"colab-df-container\">\n",
              "      <div>\n",
              "<style scoped>\n",
              "    .dataframe tbody tr th:only-of-type {\n",
              "        vertical-align: middle;\n",
              "    }\n",
              "\n",
              "    .dataframe tbody tr th {\n",
              "        vertical-align: top;\n",
              "    }\n",
              "\n",
              "    .dataframe thead th {\n",
              "        text-align: right;\n",
              "    }\n",
              "</style>\n",
              "<table border=\"1\" class=\"dataframe\">\n",
              "  <thead>\n",
              "    <tr style=\"text-align: right;\">\n",
              "      <th></th>\n",
              "      <th>Paises/federações</th>\n",
              "      <th>Idades</th>\n",
              "      <th>Potencial de Destruição</th>\n",
              "      <th>Armamento Nuclear</th>\n",
              "    </tr>\n",
              "  </thead>\n",
              "  <tbody>\n",
              "    <tr>\n",
              "      <th>0</th>\n",
              "      <td>Ucrânia</td>\n",
              "      <td>30</td>\n",
              "      <td>Médio</td>\n",
              "      <td>False</td>\n",
              "    </tr>\n",
              "    <tr>\n",
              "      <th>1</th>\n",
              "      <td>Finlândia</td>\n",
              "      <td>104</td>\n",
              "      <td>Alto</td>\n",
              "      <td>True</td>\n",
              "    </tr>\n",
              "    <tr>\n",
              "      <th>2</th>\n",
              "      <td>Rússia</td>\n",
              "      <td>30</td>\n",
              "      <td>ALTO</td>\n",
              "      <td>True</td>\n",
              "    </tr>\n",
              "    <tr>\n",
              "      <th>3</th>\n",
              "      <td>China</td>\n",
              "      <td>72</td>\n",
              "      <td>ALTO</td>\n",
              "      <td>True</td>\n",
              "    </tr>\n",
              "    <tr>\n",
              "      <th>4</th>\n",
              "      <td>Índia</td>\n",
              "      <td>72</td>\n",
              "      <td>Médio</td>\n",
              "      <td>True</td>\n",
              "    </tr>\n",
              "    <tr>\n",
              "      <th>5</th>\n",
              "      <td>Corêia-Norte</td>\n",
              "      <td>76</td>\n",
              "      <td>Baixo</td>\n",
              "      <td>True</td>\n",
              "    </tr>\n",
              "    <tr>\n",
              "      <th>6</th>\n",
              "      <td>N.A.T.O</td>\n",
              "      <td>73</td>\n",
              "      <td>ALTO</td>\n",
              "      <td>True</td>\n",
              "    </tr>\n",
              "    <tr>\n",
              "      <th>7</th>\n",
              "      <td>Brasil</td>\n",
              "      <td>33</td>\n",
              "      <td>Médio</td>\n",
              "      <td>True</td>\n",
              "    </tr>\n",
              "    <tr>\n",
              "      <th>8</th>\n",
              "      <td>Venezuela</td>\n",
              "      <td>77</td>\n",
              "      <td>Baixo</td>\n",
              "      <td>False</td>\n",
              "    </tr>\n",
              "    <tr>\n",
              "      <th>9</th>\n",
              "      <td>Argentina</td>\n",
              "      <td>58</td>\n",
              "      <td>Baixo</td>\n",
              "      <td>False</td>\n",
              "    </tr>\n",
              "  </tbody>\n",
              "</table>\n",
              "</div>\n",
              "      <button class=\"colab-df-convert\" onclick=\"convertToInteractive('df-0c07c549-32e6-4d6e-ad0b-d0900541bcfa')\"\n",
              "              title=\"Convert this dataframe to an interactive table.\"\n",
              "              style=\"display:none;\">\n",
              "        \n",
              "  <svg xmlns=\"http://www.w3.org/2000/svg\" height=\"24px\"viewBox=\"0 0 24 24\"\n",
              "       width=\"24px\">\n",
              "    <path d=\"M0 0h24v24H0V0z\" fill=\"none\"/>\n",
              "    <path d=\"M18.56 5.44l.94 2.06.94-2.06 2.06-.94-2.06-.94-.94-2.06-.94 2.06-2.06.94zm-11 1L8.5 8.5l.94-2.06 2.06-.94-2.06-.94L8.5 2.5l-.94 2.06-2.06.94zm10 10l.94 2.06.94-2.06 2.06-.94-2.06-.94-.94-2.06-.94 2.06-2.06.94z\"/><path d=\"M17.41 7.96l-1.37-1.37c-.4-.4-.92-.59-1.43-.59-.52 0-1.04.2-1.43.59L10.3 9.45l-7.72 7.72c-.78.78-.78 2.05 0 2.83L4 21.41c.39.39.9.59 1.41.59.51 0 1.02-.2 1.41-.59l7.78-7.78 2.81-2.81c.8-.78.8-2.07 0-2.86zM5.41 20L4 18.59l7.72-7.72 1.47 1.35L5.41 20z\"/>\n",
              "  </svg>\n",
              "      </button>\n",
              "      \n",
              "  <style>\n",
              "    .colab-df-container {\n",
              "      display:flex;\n",
              "      flex-wrap:wrap;\n",
              "      gap: 12px;\n",
              "    }\n",
              "\n",
              "    .colab-df-convert {\n",
              "      background-color: #E8F0FE;\n",
              "      border: none;\n",
              "      border-radius: 50%;\n",
              "      cursor: pointer;\n",
              "      display: none;\n",
              "      fill: #1967D2;\n",
              "      height: 32px;\n",
              "      padding: 0 0 0 0;\n",
              "      width: 32px;\n",
              "    }\n",
              "\n",
              "    .colab-df-convert:hover {\n",
              "      background-color: #E2EBFA;\n",
              "      box-shadow: 0px 1px 2px rgba(60, 64, 67, 0.3), 0px 1px 3px 1px rgba(60, 64, 67, 0.15);\n",
              "      fill: #174EA6;\n",
              "    }\n",
              "\n",
              "    [theme=dark] .colab-df-convert {\n",
              "      background-color: #3B4455;\n",
              "      fill: #D2E3FC;\n",
              "    }\n",
              "\n",
              "    [theme=dark] .colab-df-convert:hover {\n",
              "      background-color: #434B5C;\n",
              "      box-shadow: 0px 1px 3px 1px rgba(0, 0, 0, 0.15);\n",
              "      filter: drop-shadow(0px 1px 2px rgba(0, 0, 0, 0.3));\n",
              "      fill: #FFFFFF;\n",
              "    }\n",
              "  </style>\n",
              "\n",
              "      <script>\n",
              "        const buttonEl =\n",
              "          document.querySelector('#df-0c07c549-32e6-4d6e-ad0b-d0900541bcfa button.colab-df-convert');\n",
              "        buttonEl.style.display =\n",
              "          google.colab.kernel.accessAllowed ? 'block' : 'none';\n",
              "\n",
              "        async function convertToInteractive(key) {\n",
              "          const element = document.querySelector('#df-0c07c549-32e6-4d6e-ad0b-d0900541bcfa');\n",
              "          const dataTable =\n",
              "            await google.colab.kernel.invokeFunction('convertToInteractive',\n",
              "                                                     [key], {});\n",
              "          if (!dataTable) return;\n",
              "\n",
              "          const docLinkHtml = 'Like what you see? Visit the ' +\n",
              "            '<a target=\"_blank\" href=https://colab.research.google.com/notebooks/data_table.ipynb>data table notebook</a>'\n",
              "            + ' to learn more about interactive tables.';\n",
              "          element.innerHTML = '';\n",
              "          dataTable['output_type'] = 'display_data';\n",
              "          await google.colab.output.renderOutput(dataTable, element);\n",
              "          const docLink = document.createElement('div');\n",
              "          docLink.innerHTML = docLinkHtml;\n",
              "          element.appendChild(docLink);\n",
              "        }\n",
              "      </script>\n",
              "    </div>\n",
              "  </div>\n",
              "  "
            ]
          },
          "metadata": {},
          "execution_count": 22
        }
      ]
    },
    {
      "cell_type": "markdown",
      "source": [
        "# <font color=lighblue> 4.3 - Dicionarios:"
      ],
      "metadata": {
        "id": "jBf8fwduDEim"
      }
    },
    {
      "cell_type": "markdown",
      "source": [
        "DataFrames a partir de Dicionários:\n",
        "\n",
        "Uma das estruturas básicas do Python é o Dicionário. É muito conveniente informarmos nossos dados em uma variável do tipo `dict`, pois sua conversão em DataFrame é muito simples e direta."
      ],
      "metadata": {
        "id": "GEx6ybnDDC03"
      }
    },
    {
      "cell_type": "code",
      "source": [
        "import pandas as pd\n",
        "\n",
        "# criar dicionário\n",
        "dados = {\n",
        "    'Nomes': ['Júlio César', 'Paulo Henrique', 'Vitor', 'Weligton L.', 'Wellington N.'],\n",
        "    'Idades': [65, 32, 25, 49, 51],\n",
        "    'Estado': ['SP', 'SP', 'SP', 'SP', 'SP'],\n",
        "    'Estuda Python': [True, True, True, True, True]\n",
        "}\n",
        "\n",
        "# criar DataFrame\n",
        "df = pd.DataFrame(dados)\n",
        "\n",
        "# visualizar DataFrame\n",
        "df"
      ],
      "metadata": {
        "id": "iJFNsWQKDeA2",
        "outputId": "4ebd2ca2-f916-4f6e-ce54-204f35f604d8",
        "colab": {
          "base_uri": "https://localhost:8080/",
          "height": 206
        }
      },
      "execution_count": 23,
      "outputs": [
        {
          "output_type": "execute_result",
          "data": {
            "text/plain": [
              "            Nomes  Idades Estado  Estuda Python\n",
              "0     Júlio César      65     SP           True\n",
              "1  Paulo Henrique      32     SP           True\n",
              "2           Vitor      25     SP           True\n",
              "3     Weligton L.      49     SP           True\n",
              "4   Wellington N.      51     SP           True"
            ],
            "text/html": [
              "\n",
              "  <div id=\"df-05d4c57a-411e-4907-97ba-aad4d86730f3\">\n",
              "    <div class=\"colab-df-container\">\n",
              "      <div>\n",
              "<style scoped>\n",
              "    .dataframe tbody tr th:only-of-type {\n",
              "        vertical-align: middle;\n",
              "    }\n",
              "\n",
              "    .dataframe tbody tr th {\n",
              "        vertical-align: top;\n",
              "    }\n",
              "\n",
              "    .dataframe thead th {\n",
              "        text-align: right;\n",
              "    }\n",
              "</style>\n",
              "<table border=\"1\" class=\"dataframe\">\n",
              "  <thead>\n",
              "    <tr style=\"text-align: right;\">\n",
              "      <th></th>\n",
              "      <th>Nomes</th>\n",
              "      <th>Idades</th>\n",
              "      <th>Estado</th>\n",
              "      <th>Estuda Python</th>\n",
              "    </tr>\n",
              "  </thead>\n",
              "  <tbody>\n",
              "    <tr>\n",
              "      <th>0</th>\n",
              "      <td>Júlio César</td>\n",
              "      <td>65</td>\n",
              "      <td>SP</td>\n",
              "      <td>True</td>\n",
              "    </tr>\n",
              "    <tr>\n",
              "      <th>1</th>\n",
              "      <td>Paulo Henrique</td>\n",
              "      <td>32</td>\n",
              "      <td>SP</td>\n",
              "      <td>True</td>\n",
              "    </tr>\n",
              "    <tr>\n",
              "      <th>2</th>\n",
              "      <td>Vitor</td>\n",
              "      <td>25</td>\n",
              "      <td>SP</td>\n",
              "      <td>True</td>\n",
              "    </tr>\n",
              "    <tr>\n",
              "      <th>3</th>\n",
              "      <td>Weligton L.</td>\n",
              "      <td>49</td>\n",
              "      <td>SP</td>\n",
              "      <td>True</td>\n",
              "    </tr>\n",
              "    <tr>\n",
              "      <th>4</th>\n",
              "      <td>Wellington N.</td>\n",
              "      <td>51</td>\n",
              "      <td>SP</td>\n",
              "      <td>True</td>\n",
              "    </tr>\n",
              "  </tbody>\n",
              "</table>\n",
              "</div>\n",
              "      <button class=\"colab-df-convert\" onclick=\"convertToInteractive('df-05d4c57a-411e-4907-97ba-aad4d86730f3')\"\n",
              "              title=\"Convert this dataframe to an interactive table.\"\n",
              "              style=\"display:none;\">\n",
              "        \n",
              "  <svg xmlns=\"http://www.w3.org/2000/svg\" height=\"24px\"viewBox=\"0 0 24 24\"\n",
              "       width=\"24px\">\n",
              "    <path d=\"M0 0h24v24H0V0z\" fill=\"none\"/>\n",
              "    <path d=\"M18.56 5.44l.94 2.06.94-2.06 2.06-.94-2.06-.94-.94-2.06-.94 2.06-2.06.94zm-11 1L8.5 8.5l.94-2.06 2.06-.94-2.06-.94L8.5 2.5l-.94 2.06-2.06.94zm10 10l.94 2.06.94-2.06 2.06-.94-2.06-.94-.94-2.06-.94 2.06-2.06.94z\"/><path d=\"M17.41 7.96l-1.37-1.37c-.4-.4-.92-.59-1.43-.59-.52 0-1.04.2-1.43.59L10.3 9.45l-7.72 7.72c-.78.78-.78 2.05 0 2.83L4 21.41c.39.39.9.59 1.41.59.51 0 1.02-.2 1.41-.59l7.78-7.78 2.81-2.81c.8-.78.8-2.07 0-2.86zM5.41 20L4 18.59l7.72-7.72 1.47 1.35L5.41 20z\"/>\n",
              "  </svg>\n",
              "      </button>\n",
              "      \n",
              "  <style>\n",
              "    .colab-df-container {\n",
              "      display:flex;\n",
              "      flex-wrap:wrap;\n",
              "      gap: 12px;\n",
              "    }\n",
              "\n",
              "    .colab-df-convert {\n",
              "      background-color: #E8F0FE;\n",
              "      border: none;\n",
              "      border-radius: 50%;\n",
              "      cursor: pointer;\n",
              "      display: none;\n",
              "      fill: #1967D2;\n",
              "      height: 32px;\n",
              "      padding: 0 0 0 0;\n",
              "      width: 32px;\n",
              "    }\n",
              "\n",
              "    .colab-df-convert:hover {\n",
              "      background-color: #E2EBFA;\n",
              "      box-shadow: 0px 1px 2px rgba(60, 64, 67, 0.3), 0px 1px 3px 1px rgba(60, 64, 67, 0.15);\n",
              "      fill: #174EA6;\n",
              "    }\n",
              "\n",
              "    [theme=dark] .colab-df-convert {\n",
              "      background-color: #3B4455;\n",
              "      fill: #D2E3FC;\n",
              "    }\n",
              "\n",
              "    [theme=dark] .colab-df-convert:hover {\n",
              "      background-color: #434B5C;\n",
              "      box-shadow: 0px 1px 3px 1px rgba(0, 0, 0, 0.15);\n",
              "      filter: drop-shadow(0px 1px 2px rgba(0, 0, 0, 0.3));\n",
              "      fill: #FFFFFF;\n",
              "    }\n",
              "  </style>\n",
              "\n",
              "      <script>\n",
              "        const buttonEl =\n",
              "          document.querySelector('#df-05d4c57a-411e-4907-97ba-aad4d86730f3 button.colab-df-convert');\n",
              "        buttonEl.style.display =\n",
              "          google.colab.kernel.accessAllowed ? 'block' : 'none';\n",
              "\n",
              "        async function convertToInteractive(key) {\n",
              "          const element = document.querySelector('#df-05d4c57a-411e-4907-97ba-aad4d86730f3');\n",
              "          const dataTable =\n",
              "            await google.colab.kernel.invokeFunction('convertToInteractive',\n",
              "                                                     [key], {});\n",
              "          if (!dataTable) return;\n",
              "\n",
              "          const docLinkHtml = 'Like what you see? Visit the ' +\n",
              "            '<a target=\"_blank\" href=https://colab.research.google.com/notebooks/data_table.ipynb>data table notebook</a>'\n",
              "            + ' to learn more about interactive tables.';\n",
              "          element.innerHTML = '';\n",
              "          dataTable['output_type'] = 'display_data';\n",
              "          await google.colab.output.renderOutput(dataTable, element);\n",
              "          const docLink = document.createElement('div');\n",
              "          docLink.innerHTML = docLinkHtml;\n",
              "          element.appendChild(docLink);\n",
              "        }\n",
              "      </script>\n",
              "    </div>\n",
              "  </div>\n",
              "  "
            ]
          },
          "metadata": {},
          "execution_count": 23
        }
      ]
    },
    {
      "cell_type": "markdown",
      "source": [
        "# <font color=lighblue> Cadastro de 5 tipos de Aeronaves usando Listas"
      ],
      "metadata": {
        "id": "xEZNP0FGVxsD"
      }
    },
    {
      "cell_type": "code",
      "source": [
        "lista = []\n",
        "\n",
        "while len(lista) < 5:\n",
        "  val = str(input('Digite Modelo de Aeronave: '))\n",
        "  \n",
        "  if (val) not in lista: # se não estiver na lista\n",
        "    lista.append(val) # inserimos o número na lista\n",
        "    print(val, 'Inserido na Lista')\n",
        "  else:\n",
        "    print(val, 'já foi inserido na lista anteriormente')\n",
        "    \n",
        "print(lista)\n",
        "\n",
        "for var in lista:\n",
        "  print(lista.index(var), var %x)"
      ],
      "metadata": {
        "id": "fqLpAWRbQtf7"
      },
      "execution_count": null,
      "outputs": []
    },
    {
      "cell_type": "markdown",
      "source": [
        "# <font color=lighblue> TOP 3: Listas das Aeronaves que Mais Apresentaram Acidentes"
      ],
      "metadata": {
        "id": "2EiYffFWVn8s"
      }
    },
    {
      "cell_type": "code",
      "source": [
        "# AERONAVES QUE MAIS APRESENTARAM ACIDENTES\n",
        "\n",
        "aeronaves = [\n",
        "    ['Avião Exp:1 - MODEL: ABC123', 49, 114, 176],\n",
        "    ['Avião Exp:2 - MODEL: DFG456', 35, 64, 162],\n",
        "    ['HELICOPTERO Exp:1 - MODEL: HIJ789', 49, 114, 176],\n",
        "    ['HELICOPTERO Exp:2 - MODEL: KLM101', 35, 64, 162 ]\n",
        "]"
      ],
      "metadata": {
        "id": "RwrwZVxMQiMe"
      },
      "execution_count": 24,
      "outputs": []
    },
    {
      "cell_type": "code",
      "source": [
        "pesos = []\n",
        "idades = []\n",
        "for acidentes in aeronaves:\n",
        "  idades.append(acidentes[1])\n",
        "  pesos.append(acidentes[2])\n",
        "  pesos,len(pesos),sum(idades)/len(pesos)\n",
        "print('Maior: Quantidade Acidentes de Avião1 =', max(idades))\n",
        "print('Menor: Quantidade Acidentes de Avião2 =', min(idades))\n",
        "print('Média: Quantidade Acidentes de Helicoptero1:', sum(idades)/len(pesos))\n",
        "print('Média: Quantidade Acidentes de Helipcoptero2:', sum(pesos)/len(idades))"
      ],
      "metadata": {
        "colab": {
          "base_uri": "https://localhost:8080/"
        },
        "id": "SNjBhTaMwe8y",
        "outputId": "cad13ae8-b1e4-4d71-ad59-ad943d5c1d03"
      },
      "execution_count": 25,
      "outputs": [
        {
          "output_type": "stream",
          "name": "stdout",
          "text": [
            "Maior: Quantidade Acidentes de Avião1 = 49\n",
            "Menor: Quantidade Acidentes de Avião2 = 35\n",
            "Média: Quantidade Acidentes de Helicoptero1: 42.0\n",
            "Média: Quantidade Acidentes de Helipcoptero2: 89.0\n"
          ]
        }
      ]
    },
    {
      "cell_type": "markdown",
      "source": [
        "# <font color=lighblue> 5 - Pandas na DataScience.\n"
      ],
      "metadata": {
        "id": "O0iyvT4mNDDl"
      }
    },
    {
      "cell_type": "markdown",
      "source": [
        "Pandas é uma biblioteca de software criada para a linguagem Python para manipulação e análise de dados. Em particular, também pode ser utilizada para Criar e Ler Online os Data Frames e Oferece estruturas e Operações para manipular Tabelas Numéricas, Colunas, e Séries Temporais. É um software livre sob a licença BSD.\n",
        "\n",
        "---\n"
      ],
      "metadata": {
        "id": "FGPC1eHMRD54"
      }
    },
    {
      "cell_type": "markdown",
      "source": [
        "## Verificando a Versão do Pandas:"
      ],
      "metadata": {
        "id": "u5CjjoBSiI2C"
      }
    },
    {
      "cell_type": "code",
      "source": [
        "from __future__ import print_function\n",
        "\n",
        "import pandas as pd\n",
        "pd.__version__"
      ],
      "metadata": {
        "colab": {
          "base_uri": "https://localhost:8080/",
          "height": 35
        },
        "id": "fK4ddisY0qn_",
        "outputId": "dae8c132-bfc7-48ef-bcbc-c68cb0d3ae9e"
      },
      "execution_count": null,
      "outputs": [
        {
          "output_type": "execute_result",
          "data": {
            "text/plain": [
              "'1.3.5'"
            ],
            "application/vnd.google.colaboratory.intrinsic+json": {
              "type": "string"
            }
          },
          "metadata": {},
          "execution_count": 7
        }
      ]
    },
    {
      "cell_type": "markdown",
      "source": [
        "## Realizando a importação da bilioteca Pandas\n",
        "###Utilizaremos esse Comando na maioria dos Códigos que envolvem a Criação, Leitura e Manipulação dos Dataframes"
      ],
      "metadata": {
        "id": "-6tq8FITOVLo"
      }
    },
    {
      "cell_type": "markdown",
      "source": [
        "---\n",
        "# <font color=lighblue> 5.1  - O que é DataFrame:"
      ],
      "metadata": {
        "id": "WrNqp_ytM3JJ"
      }
    },
    {
      "cell_type": "markdown",
      "source": [
        "Um data frame é semelhante a uma matriz, mas as suas colunas têm nomes e podem conter dados de tipo diferente. Um data frame pode ser visto como uma tabela de uma base de dados, em que cada linha corresponde a um registo (linha) da tabela,\n",
        "Semelhante ao conteúdo de uma Planilha do Excel Geralmente seus arquivos tem a extensão `.csv` que utilizaremos com  os Dataframes da CENIPA \n",
        "\n",
        "Acidentes Aéreos Ocorridos no Brasil de 2010 a 2019\n",
        "\n",
        "---\n"
      ],
      "metadata": {
        "id": "H207vdVqRI0F"
      }
    },
    {
      "cell_type": "code",
      "source": [
        "import pandas as pd #Para criação de DataFrames"
      ],
      "metadata": {
        "id": "lFR7lOpLi0of"
      },
      "execution_count": null,
      "outputs": []
    },
    {
      "cell_type": "markdown",
      "source": [
        "### 1º - Exemplo de Dataframe:\n",
        "\n",
        "Nesse exemplo básico de Dataframe_1, organizamos os dados em series, e definimos as Datas de Acidentes por frequência de Período.\n",
        "\n"
      ],
      "metadata": {
        "id": "9bTQL6J5GvWe"
      }
    },
    {
      "cell_type": "code",
      "source": [
        "# importing pandas as pd\n",
        "import pandas as pd\n",
        "  \n",
        "# Creating the date series\n",
        "date_sr = pd.Series(pd.date_range(\n",
        "    '2020-03-31', periods=5, freq='M', tz='Asia/Calcutta'))\n",
        "  \n",
        "# Creating the index\n",
        "ind = ['Dia 1: Acidente W', 'Dia 2: Acidente X', 'Dia 3: Acidente Y', 'Dia 4: Acidente Z', 'Dia 5: Acidente Ç']\n",
        "  \n",
        "# set the index\n",
        "date_sr.index = ind\n",
        "change_format = date_sr.dt.strftime('%d-%m-%Y')\n",
        "  \n",
        "# Print the formated date\n",
        "print(change_format)"
      ],
      "metadata": {
        "id": "DY-BC7lHoqJu",
        "colab": {
          "base_uri": "https://localhost:8080/"
        },
        "outputId": "c67051ee-abfa-49af-bb23-a116ac11361f"
      },
      "execution_count": 34,
      "outputs": [
        {
          "output_type": "stream",
          "name": "stdout",
          "text": [
            "Dia 1: Acidente W    31-03-2020\n",
            "Dia 2: Acidente X    30-04-2020\n",
            "Dia 3: Acidente Y    31-05-2020\n",
            "Dia 4: Acidente Z    30-06-2020\n",
            "Dia 5: Acidente Ç    31-07-2020\n",
            "dtype: object\n"
          ]
        }
      ]
    },
    {
      "cell_type": "markdown",
      "source": [
        "### 2º - Exemplo de Dataframe:\n",
        "\n",
        "Ao Segundo Exemplo, de Dataframe_2 (qual utilizaremos na maioria do caso), os Dados foram selecionados e embutidos nos códigos abaixo, Declarados como `Aeronaves`, `Data de Acidentes` é projetado uma Tabela com Informações Organizadas, contendo: Indíce, Colunas e Linhas onde está os dados a serem explorados."
      ],
      "metadata": {
        "id": "rMEpbmqlwKG6"
      }
    },
    {
      "cell_type": "code",
      "source": [
        "aero_names = pd.Series(['Avião: UCRÂNIA Exp1', 'Avião: RÚSSIA Exp2', 'Avião:CHINA Exp3', 'Helicóptero: N.A.TO Exp4', 'Helicóptero: E.U.A Exp5', 'Helicóptero: BRASIL Exp6'])\n",
        "acidentes_datas = pd.Series(['07/03/2022', '07/03/2022', '17/12/2022', '18/12/2022', '19/12/2022', '25/12/2022'])\n",
        "\n",
        "pd.DataFrame({ 'Aeronaves': aero_names, 'Data de Acidentes': acidentes_datas })"
      ],
      "metadata": {
        "id": "5xawQhrV0x8u",
        "colab": {
          "base_uri": "https://localhost:8080/",
          "height": 237
        },
        "outputId": "cba3571e-ea9a-42ee-e162-309779d00a3a"
      },
      "execution_count": 39,
      "outputs": [
        {
          "output_type": "execute_result",
          "data": {
            "text/plain": [
              "                  Aeronaves Data de Acidentes\n",
              "0       Avião: UCRÂNIA Exp1        07/03/2022\n",
              "1        Avião: RÚSSIA Exp2        07/03/2022\n",
              "2          Avião:CHINA Exp3        17/12/2022\n",
              "3  Helicóptero: N.A.TO Exp4        18/12/2022\n",
              "4   Helicóptero: E.U.A Exp5        19/12/2022\n",
              "5  Helicóptero: BRASIL Exp6        25/12/2022"
            ],
            "text/html": [
              "\n",
              "  <div id=\"df-918a7ec7-b35b-493d-8951-fe70d0338583\">\n",
              "    <div class=\"colab-df-container\">\n",
              "      <div>\n",
              "<style scoped>\n",
              "    .dataframe tbody tr th:only-of-type {\n",
              "        vertical-align: middle;\n",
              "    }\n",
              "\n",
              "    .dataframe tbody tr th {\n",
              "        vertical-align: top;\n",
              "    }\n",
              "\n",
              "    .dataframe thead th {\n",
              "        text-align: right;\n",
              "    }\n",
              "</style>\n",
              "<table border=\"1\" class=\"dataframe\">\n",
              "  <thead>\n",
              "    <tr style=\"text-align: right;\">\n",
              "      <th></th>\n",
              "      <th>Aeronaves</th>\n",
              "      <th>Data de Acidentes</th>\n",
              "    </tr>\n",
              "  </thead>\n",
              "  <tbody>\n",
              "    <tr>\n",
              "      <th>0</th>\n",
              "      <td>Avião: UCRÂNIA Exp1</td>\n",
              "      <td>07/03/2022</td>\n",
              "    </tr>\n",
              "    <tr>\n",
              "      <th>1</th>\n",
              "      <td>Avião: RÚSSIA Exp2</td>\n",
              "      <td>07/03/2022</td>\n",
              "    </tr>\n",
              "    <tr>\n",
              "      <th>2</th>\n",
              "      <td>Avião:CHINA Exp3</td>\n",
              "      <td>17/12/2022</td>\n",
              "    </tr>\n",
              "    <tr>\n",
              "      <th>3</th>\n",
              "      <td>Helicóptero: N.A.TO Exp4</td>\n",
              "      <td>18/12/2022</td>\n",
              "    </tr>\n",
              "    <tr>\n",
              "      <th>4</th>\n",
              "      <td>Helicóptero: E.U.A Exp5</td>\n",
              "      <td>19/12/2022</td>\n",
              "    </tr>\n",
              "    <tr>\n",
              "      <th>5</th>\n",
              "      <td>Helicóptero: BRASIL Exp6</td>\n",
              "      <td>25/12/2022</td>\n",
              "    </tr>\n",
              "  </tbody>\n",
              "</table>\n",
              "</div>\n",
              "      <button class=\"colab-df-convert\" onclick=\"convertToInteractive('df-918a7ec7-b35b-493d-8951-fe70d0338583')\"\n",
              "              title=\"Convert this dataframe to an interactive table.\"\n",
              "              style=\"display:none;\">\n",
              "        \n",
              "  <svg xmlns=\"http://www.w3.org/2000/svg\" height=\"24px\"viewBox=\"0 0 24 24\"\n",
              "       width=\"24px\">\n",
              "    <path d=\"M0 0h24v24H0V0z\" fill=\"none\"/>\n",
              "    <path d=\"M18.56 5.44l.94 2.06.94-2.06 2.06-.94-2.06-.94-.94-2.06-.94 2.06-2.06.94zm-11 1L8.5 8.5l.94-2.06 2.06-.94-2.06-.94L8.5 2.5l-.94 2.06-2.06.94zm10 10l.94 2.06.94-2.06 2.06-.94-2.06-.94-.94-2.06-.94 2.06-2.06.94z\"/><path d=\"M17.41 7.96l-1.37-1.37c-.4-.4-.92-.59-1.43-.59-.52 0-1.04.2-1.43.59L10.3 9.45l-7.72 7.72c-.78.78-.78 2.05 0 2.83L4 21.41c.39.39.9.59 1.41.59.51 0 1.02-.2 1.41-.59l7.78-7.78 2.81-2.81c.8-.78.8-2.07 0-2.86zM5.41 20L4 18.59l7.72-7.72 1.47 1.35L5.41 20z\"/>\n",
              "  </svg>\n",
              "      </button>\n",
              "      \n",
              "  <style>\n",
              "    .colab-df-container {\n",
              "      display:flex;\n",
              "      flex-wrap:wrap;\n",
              "      gap: 12px;\n",
              "    }\n",
              "\n",
              "    .colab-df-convert {\n",
              "      background-color: #E8F0FE;\n",
              "      border: none;\n",
              "      border-radius: 50%;\n",
              "      cursor: pointer;\n",
              "      display: none;\n",
              "      fill: #1967D2;\n",
              "      height: 32px;\n",
              "      padding: 0 0 0 0;\n",
              "      width: 32px;\n",
              "    }\n",
              "\n",
              "    .colab-df-convert:hover {\n",
              "      background-color: #E2EBFA;\n",
              "      box-shadow: 0px 1px 2px rgba(60, 64, 67, 0.3), 0px 1px 3px 1px rgba(60, 64, 67, 0.15);\n",
              "      fill: #174EA6;\n",
              "    }\n",
              "\n",
              "    [theme=dark] .colab-df-convert {\n",
              "      background-color: #3B4455;\n",
              "      fill: #D2E3FC;\n",
              "    }\n",
              "\n",
              "    [theme=dark] .colab-df-convert:hover {\n",
              "      background-color: #434B5C;\n",
              "      box-shadow: 0px 1px 3px 1px rgba(0, 0, 0, 0.15);\n",
              "      filter: drop-shadow(0px 1px 2px rgba(0, 0, 0, 0.3));\n",
              "      fill: #FFFFFF;\n",
              "    }\n",
              "  </style>\n",
              "\n",
              "      <script>\n",
              "        const buttonEl =\n",
              "          document.querySelector('#df-918a7ec7-b35b-493d-8951-fe70d0338583 button.colab-df-convert');\n",
              "        buttonEl.style.display =\n",
              "          google.colab.kernel.accessAllowed ? 'block' : 'none';\n",
              "\n",
              "        async function convertToInteractive(key) {\n",
              "          const element = document.querySelector('#df-918a7ec7-b35b-493d-8951-fe70d0338583');\n",
              "          const dataTable =\n",
              "            await google.colab.kernel.invokeFunction('convertToInteractive',\n",
              "                                                     [key], {});\n",
              "          if (!dataTable) return;\n",
              "\n",
              "          const docLinkHtml = 'Like what you see? Visit the ' +\n",
              "            '<a target=\"_blank\" href=https://colab.research.google.com/notebooks/data_table.ipynb>data table notebook</a>'\n",
              "            + ' to learn more about interactive tables.';\n",
              "          element.innerHTML = '';\n",
              "          dataTable['output_type'] = 'display_data';\n",
              "          await google.colab.output.renderOutput(dataTable, element);\n",
              "          const docLink = document.createElement('div');\n",
              "          docLink.innerHTML = docLinkHtml;\n",
              "          element.appendChild(docLink);\n",
              "        }\n",
              "      </script>\n",
              "    </div>\n",
              "  </div>\n",
              "  "
            ]
          },
          "metadata": {},
          "execution_count": 39
        }
      ]
    },
    {
      "cell_type": "markdown",
      "source": [
        "---\n",
        "\n",
        "# <font color=lighblue> 5.2 - Comando dataset:\n",
        "\n",
        " ---"
      ],
      "metadata": {
        "id": "xUHHzeSwQeBr"
      }
    },
    {
      "cell_type": "markdown",
      "source": [
        "Carrega a Estrutura do `Dataframe-escolhido.csv` por completo, Visualização dos dados e Informações Armazenadas atribuídas no Arquivo.\n"
      ],
      "metadata": {
        "id": "uuwJIXsLRHxN"
      }
    },
    {
      "cell_type": "code",
      "source": [
        "import pandas as pd\n",
        "# Realiza a Opção de mostrar o número de Linhas serão exibidas=\n",
        "pd.set_option('display.max_rows', 1000) # VALORES QUE PODEM SER ALTERADOS\n",
        "\n",
        "# Realiza a Opção de mostrar o Quantidade de Colunas que serão exibidas=\n",
        "pd.set_option('display.max_columns', 100) # VALORES QUE PODEM SER ALTERADOS"
      ],
      "metadata": {
        "id": "Tqoj6Sv21NQy"
      },
      "execution_count": 143,
      "outputs": []
    },
    {
      "cell_type": "code",
      "source": [
        "#Exibe o Painel Completo do Dataframe\n",
        "#Se estiver pelo GOOGLE-COLAB, FAZER UPLOAD CENIPA.CSV!!!!\n",
        "#ocorrencia = pd.read_csv('/content/ocorrencias_cenipa.csv')\n",
        "\n",
        "dataset = pd.read_csv('ocorrencias_cenipa.csv', index_col =0)\n",
        "pd.set_option('display.max_rows', 1) # VALOR '1' PODE SER ALTERADO"
      ],
      "metadata": {
        "id": "uDc708El1RtS"
      },
      "execution_count": 144,
      "outputs": []
    },
    {
      "cell_type": "code",
      "source": [
        "dataset"
      ],
      "metadata": {
        "id": "L_GyBxiY1TcK",
        "colab": {
          "base_uri": "https://localhost:8080/",
          "height": 292
        },
        "outputId": "6c9bf1ca-180f-4c10-ad8f-2000832731c9"
      },
      "execution_count": 145,
      "outputs": [
        {
          "output_type": "execute_result",
          "data": {
            "text/plain": [
              "            tipo                                          descricao  cidade  \\\n",
              "codigo                                                                        \n",
              "40107   ACIDENTE  COLISÃO COM OBSTÁCULO DURANTE A DECOLAGEM E POUSO  GURUPÁ   \n",
              "...          ...                                                ...     ...   \n",
              "\n",
              "       estado        data   ano      hora aeronave_liberada  \\\n",
              "codigo                                                        \n",
              "40107      PA  2010-01-12  2010  14:30:00               SIM   \n",
              "...       ...         ...   ...       ...               ...   \n",
              "\n",
              "       status_investigacao  aeronaves_envolvidas ocorrencia_saida_pista  \\\n",
              "codigo                                                                    \n",
              "40107           FINALIZADA                     1                    NÃO   \n",
              "...                    ...                   ...                    ...   \n",
              "\n",
              "       aeronave_tipo          aeronave_fabricante motor_tipo  \\\n",
              "codigo                                                         \n",
              "40107          AVIÃO  NEIVA INDUSTRIA AERONAUTICA     PISTÃO   \n",
              "...              ...                          ...        ...   \n",
              "\n",
              "       aeronave_motor_quantidade  aeronave_assentos  aeronave_ano_fabricacao  \\\n",
              "codigo                                                                         \n",
              "40107                  MONOMOTOR                  7                     1977   \n",
              "...                          ...                ...                      ...   \n",
              "\n",
              "       aeronave_pais_fabricante aeronave_fase_operacao aeronave_nivel_dano  \n",
              "codigo                                                                      \n",
              "40107                    BRASIL                  POUSO                LEVE  \n",
              "...                         ...                    ...                 ...  \n",
              "\n",
              "[5242 rows x 20 columns]"
            ],
            "text/html": [
              "\n",
              "  <div id=\"df-c08f580f-9961-4c1b-834b-4eb72115ccf4\">\n",
              "    <div class=\"colab-df-container\">\n",
              "      <div>\n",
              "<style scoped>\n",
              "    .dataframe tbody tr th:only-of-type {\n",
              "        vertical-align: middle;\n",
              "    }\n",
              "\n",
              "    .dataframe tbody tr th {\n",
              "        vertical-align: top;\n",
              "    }\n",
              "\n",
              "    .dataframe thead th {\n",
              "        text-align: right;\n",
              "    }\n",
              "</style>\n",
              "<table border=\"1\" class=\"dataframe\">\n",
              "  <thead>\n",
              "    <tr style=\"text-align: right;\">\n",
              "      <th></th>\n",
              "      <th>tipo</th>\n",
              "      <th>descricao</th>\n",
              "      <th>cidade</th>\n",
              "      <th>estado</th>\n",
              "      <th>data</th>\n",
              "      <th>ano</th>\n",
              "      <th>hora</th>\n",
              "      <th>aeronave_liberada</th>\n",
              "      <th>status_investigacao</th>\n",
              "      <th>aeronaves_envolvidas</th>\n",
              "      <th>ocorrencia_saida_pista</th>\n",
              "      <th>aeronave_tipo</th>\n",
              "      <th>aeronave_fabricante</th>\n",
              "      <th>motor_tipo</th>\n",
              "      <th>aeronave_motor_quantidade</th>\n",
              "      <th>aeronave_assentos</th>\n",
              "      <th>aeronave_ano_fabricacao</th>\n",
              "      <th>aeronave_pais_fabricante</th>\n",
              "      <th>aeronave_fase_operacao</th>\n",
              "      <th>aeronave_nivel_dano</th>\n",
              "    </tr>\n",
              "    <tr>\n",
              "      <th>codigo</th>\n",
              "      <th></th>\n",
              "      <th></th>\n",
              "      <th></th>\n",
              "      <th></th>\n",
              "      <th></th>\n",
              "      <th></th>\n",
              "      <th></th>\n",
              "      <th></th>\n",
              "      <th></th>\n",
              "      <th></th>\n",
              "      <th></th>\n",
              "      <th></th>\n",
              "      <th></th>\n",
              "      <th></th>\n",
              "      <th></th>\n",
              "      <th></th>\n",
              "      <th></th>\n",
              "      <th></th>\n",
              "      <th></th>\n",
              "      <th></th>\n",
              "    </tr>\n",
              "  </thead>\n",
              "  <tbody>\n",
              "    <tr>\n",
              "      <th>40107</th>\n",
              "      <td>ACIDENTE</td>\n",
              "      <td>COLISÃO COM OBSTÁCULO DURANTE A DECOLAGEM E POUSO</td>\n",
              "      <td>GURUPÁ</td>\n",
              "      <td>PA</td>\n",
              "      <td>2010-01-12</td>\n",
              "      <td>2010</td>\n",
              "      <td>14:30:00</td>\n",
              "      <td>SIM</td>\n",
              "      <td>FINALIZADA</td>\n",
              "      <td>1</td>\n",
              "      <td>NÃO</td>\n",
              "      <td>AVIÃO</td>\n",
              "      <td>NEIVA INDUSTRIA AERONAUTICA</td>\n",
              "      <td>PISTÃO</td>\n",
              "      <td>MONOMOTOR</td>\n",
              "      <td>7</td>\n",
              "      <td>1977</td>\n",
              "      <td>BRASIL</td>\n",
              "      <td>POUSO</td>\n",
              "      <td>LEVE</td>\n",
              "    </tr>\n",
              "  </tbody>\n",
              "</table>\n",
              "<p>5242 rows × 20 columns</p>\n",
              "</div>\n",
              "      <button class=\"colab-df-convert\" onclick=\"convertToInteractive('df-c08f580f-9961-4c1b-834b-4eb72115ccf4')\"\n",
              "              title=\"Convert this dataframe to an interactive table.\"\n",
              "              style=\"display:none;\">\n",
              "        \n",
              "  <svg xmlns=\"http://www.w3.org/2000/svg\" height=\"24px\"viewBox=\"0 0 24 24\"\n",
              "       width=\"24px\">\n",
              "    <path d=\"M0 0h24v24H0V0z\" fill=\"none\"/>\n",
              "    <path d=\"M18.56 5.44l.94 2.06.94-2.06 2.06-.94-2.06-.94-.94-2.06-.94 2.06-2.06.94zm-11 1L8.5 8.5l.94-2.06 2.06-.94-2.06-.94L8.5 2.5l-.94 2.06-2.06.94zm10 10l.94 2.06.94-2.06 2.06-.94-2.06-.94-.94-2.06-.94 2.06-2.06.94z\"/><path d=\"M17.41 7.96l-1.37-1.37c-.4-.4-.92-.59-1.43-.59-.52 0-1.04.2-1.43.59L10.3 9.45l-7.72 7.72c-.78.78-.78 2.05 0 2.83L4 21.41c.39.39.9.59 1.41.59.51 0 1.02-.2 1.41-.59l7.78-7.78 2.81-2.81c.8-.78.8-2.07 0-2.86zM5.41 20L4 18.59l7.72-7.72 1.47 1.35L5.41 20z\"/>\n",
              "  </svg>\n",
              "      </button>\n",
              "      \n",
              "  <style>\n",
              "    .colab-df-container {\n",
              "      display:flex;\n",
              "      flex-wrap:wrap;\n",
              "      gap: 12px;\n",
              "    }\n",
              "\n",
              "    .colab-df-convert {\n",
              "      background-color: #E8F0FE;\n",
              "      border: none;\n",
              "      border-radius: 50%;\n",
              "      cursor: pointer;\n",
              "      display: none;\n",
              "      fill: #1967D2;\n",
              "      height: 32px;\n",
              "      padding: 0 0 0 0;\n",
              "      width: 32px;\n",
              "    }\n",
              "\n",
              "    .colab-df-convert:hover {\n",
              "      background-color: #E2EBFA;\n",
              "      box-shadow: 0px 1px 2px rgba(60, 64, 67, 0.3), 0px 1px 3px 1px rgba(60, 64, 67, 0.15);\n",
              "      fill: #174EA6;\n",
              "    }\n",
              "\n",
              "    [theme=dark] .colab-df-convert {\n",
              "      background-color: #3B4455;\n",
              "      fill: #D2E3FC;\n",
              "    }\n",
              "\n",
              "    [theme=dark] .colab-df-convert:hover {\n",
              "      background-color: #434B5C;\n",
              "      box-shadow: 0px 1px 3px 1px rgba(0, 0, 0, 0.15);\n",
              "      filter: drop-shadow(0px 1px 2px rgba(0, 0, 0, 0.3));\n",
              "      fill: #FFFFFF;\n",
              "    }\n",
              "  </style>\n",
              "\n",
              "      <script>\n",
              "        const buttonEl =\n",
              "          document.querySelector('#df-c08f580f-9961-4c1b-834b-4eb72115ccf4 button.colab-df-convert');\n",
              "        buttonEl.style.display =\n",
              "          google.colab.kernel.accessAllowed ? 'block' : 'none';\n",
              "\n",
              "        async function convertToInteractive(key) {\n",
              "          const element = document.querySelector('#df-c08f580f-9961-4c1b-834b-4eb72115ccf4');\n",
              "          const dataTable =\n",
              "            await google.colab.kernel.invokeFunction('convertToInteractive',\n",
              "                                                     [key], {});\n",
              "          if (!dataTable) return;\n",
              "\n",
              "          const docLinkHtml = 'Like what you see? Visit the ' +\n",
              "            '<a target=\"_blank\" href=https://colab.research.google.com/notebooks/data_table.ipynb>data table notebook</a>'\n",
              "            + ' to learn more about interactive tables.';\n",
              "          element.innerHTML = '';\n",
              "          dataTable['output_type'] = 'display_data';\n",
              "          await google.colab.output.renderOutput(dataTable, element);\n",
              "          const docLink = document.createElement('div');\n",
              "          docLink.innerHTML = docLinkHtml;\n",
              "          element.appendChild(docLink);\n",
              "        }\n",
              "      </script>\n",
              "    </div>\n",
              "  </div>\n",
              "  "
            ]
          },
          "metadata": {},
          "execution_count": 145
        }
      ]
    },
    {
      "cell_type": "code",
      "source": [
        "dataset = pd.read_csv('ocorrencias_cenipa.csv', index_col =0)\n",
        "pd.set_option('display.max_columns', 3) # VALOR '3' PODE SER ALTERADO"
      ],
      "metadata": {
        "id": "MSpr6Zumm6GF"
      },
      "execution_count": 146,
      "outputs": []
    },
    {
      "cell_type": "code",
      "source": [
        "dataset"
      ],
      "metadata": {
        "colab": {
          "base_uri": "https://localhost:8080/",
          "height": 141
        },
        "id": "IFIGbT3anBkd",
        "outputId": "c4fd46f6-522b-4191-ec6b-d97e68b74bca"
      },
      "execution_count": 147,
      "outputs": [
        {
          "output_type": "execute_result",
          "data": {
            "text/plain": [
              "            tipo  ... aeronave_nivel_dano\n",
              "codigo            ...                    \n",
              "40107   ACIDENTE  ...                LEVE\n",
              "...          ...  ...                 ...\n",
              "\n",
              "[5242 rows x 20 columns]"
            ],
            "text/html": [
              "\n",
              "  <div id=\"df-83a4f90d-eb16-46d7-a14d-b2963200a6d7\">\n",
              "    <div class=\"colab-df-container\">\n",
              "      <div>\n",
              "<style scoped>\n",
              "    .dataframe tbody tr th:only-of-type {\n",
              "        vertical-align: middle;\n",
              "    }\n",
              "\n",
              "    .dataframe tbody tr th {\n",
              "        vertical-align: top;\n",
              "    }\n",
              "\n",
              "    .dataframe thead th {\n",
              "        text-align: right;\n",
              "    }\n",
              "</style>\n",
              "<table border=\"1\" class=\"dataframe\">\n",
              "  <thead>\n",
              "    <tr style=\"text-align: right;\">\n",
              "      <th></th>\n",
              "      <th>tipo</th>\n",
              "      <th>...</th>\n",
              "      <th>aeronave_nivel_dano</th>\n",
              "    </tr>\n",
              "    <tr>\n",
              "      <th>codigo</th>\n",
              "      <th></th>\n",
              "      <th></th>\n",
              "      <th></th>\n",
              "    </tr>\n",
              "  </thead>\n",
              "  <tbody>\n",
              "    <tr>\n",
              "      <th>40107</th>\n",
              "      <td>ACIDENTE</td>\n",
              "      <td>...</td>\n",
              "      <td>LEVE</td>\n",
              "    </tr>\n",
              "  </tbody>\n",
              "</table>\n",
              "<p>5242 rows × 20 columns</p>\n",
              "</div>\n",
              "      <button class=\"colab-df-convert\" onclick=\"convertToInteractive('df-83a4f90d-eb16-46d7-a14d-b2963200a6d7')\"\n",
              "              title=\"Convert this dataframe to an interactive table.\"\n",
              "              style=\"display:none;\">\n",
              "        \n",
              "  <svg xmlns=\"http://www.w3.org/2000/svg\" height=\"24px\"viewBox=\"0 0 24 24\"\n",
              "       width=\"24px\">\n",
              "    <path d=\"M0 0h24v24H0V0z\" fill=\"none\"/>\n",
              "    <path d=\"M18.56 5.44l.94 2.06.94-2.06 2.06-.94-2.06-.94-.94-2.06-.94 2.06-2.06.94zm-11 1L8.5 8.5l.94-2.06 2.06-.94-2.06-.94L8.5 2.5l-.94 2.06-2.06.94zm10 10l.94 2.06.94-2.06 2.06-.94-2.06-.94-.94-2.06-.94 2.06-2.06.94z\"/><path d=\"M17.41 7.96l-1.37-1.37c-.4-.4-.92-.59-1.43-.59-.52 0-1.04.2-1.43.59L10.3 9.45l-7.72 7.72c-.78.78-.78 2.05 0 2.83L4 21.41c.39.39.9.59 1.41.59.51 0 1.02-.2 1.41-.59l7.78-7.78 2.81-2.81c.8-.78.8-2.07 0-2.86zM5.41 20L4 18.59l7.72-7.72 1.47 1.35L5.41 20z\"/>\n",
              "  </svg>\n",
              "      </button>\n",
              "      \n",
              "  <style>\n",
              "    .colab-df-container {\n",
              "      display:flex;\n",
              "      flex-wrap:wrap;\n",
              "      gap: 12px;\n",
              "    }\n",
              "\n",
              "    .colab-df-convert {\n",
              "      background-color: #E8F0FE;\n",
              "      border: none;\n",
              "      border-radius: 50%;\n",
              "      cursor: pointer;\n",
              "      display: none;\n",
              "      fill: #1967D2;\n",
              "      height: 32px;\n",
              "      padding: 0 0 0 0;\n",
              "      width: 32px;\n",
              "    }\n",
              "\n",
              "    .colab-df-convert:hover {\n",
              "      background-color: #E2EBFA;\n",
              "      box-shadow: 0px 1px 2px rgba(60, 64, 67, 0.3), 0px 1px 3px 1px rgba(60, 64, 67, 0.15);\n",
              "      fill: #174EA6;\n",
              "    }\n",
              "\n",
              "    [theme=dark] .colab-df-convert {\n",
              "      background-color: #3B4455;\n",
              "      fill: #D2E3FC;\n",
              "    }\n",
              "\n",
              "    [theme=dark] .colab-df-convert:hover {\n",
              "      background-color: #434B5C;\n",
              "      box-shadow: 0px 1px 3px 1px rgba(0, 0, 0, 0.15);\n",
              "      filter: drop-shadow(0px 1px 2px rgba(0, 0, 0, 0.3));\n",
              "      fill: #FFFFFF;\n",
              "    }\n",
              "  </style>\n",
              "\n",
              "      <script>\n",
              "        const buttonEl =\n",
              "          document.querySelector('#df-83a4f90d-eb16-46d7-a14d-b2963200a6d7 button.colab-df-convert');\n",
              "        buttonEl.style.display =\n",
              "          google.colab.kernel.accessAllowed ? 'block' : 'none';\n",
              "\n",
              "        async function convertToInteractive(key) {\n",
              "          const element = document.querySelector('#df-83a4f90d-eb16-46d7-a14d-b2963200a6d7');\n",
              "          const dataTable =\n",
              "            await google.colab.kernel.invokeFunction('convertToInteractive',\n",
              "                                                     [key], {});\n",
              "          if (!dataTable) return;\n",
              "\n",
              "          const docLinkHtml = 'Like what you see? Visit the ' +\n",
              "            '<a target=\"_blank\" href=https://colab.research.google.com/notebooks/data_table.ipynb>data table notebook</a>'\n",
              "            + ' to learn more about interactive tables.';\n",
              "          element.innerHTML = '';\n",
              "          dataTable['output_type'] = 'display_data';\n",
              "          await google.colab.output.renderOutput(dataTable, element);\n",
              "          const docLink = document.createElement('div');\n",
              "          docLink.innerHTML = docLinkHtml;\n",
              "          element.appendChild(docLink);\n",
              "        }\n",
              "      </script>\n",
              "    </div>\n",
              "  </div>\n",
              "  "
            ]
          },
          "metadata": {},
          "execution_count": 147
        }
      ]
    },
    {
      "cell_type": "code",
      "source": [
        "#Exibe os tipos de dados que estão armazenados nas colunas\n",
        "dataset.dtypes"
      ],
      "metadata": {
        "id": "SitoaiBERiol",
        "colab": {
          "base_uri": "https://localhost:8080/"
        },
        "outputId": "d7c917ae-f14c-4065-ee13-f8c1b546bd8b"
      },
      "execution_count": 148,
      "outputs": [
        {
          "output_type": "execute_result",
          "data": {
            "text/plain": [
              "tipo    object\n",
              "         ...  \n",
              "Length: 20, dtype: object"
            ]
          },
          "metadata": {},
          "execution_count": 148
        }
      ]
    },
    {
      "cell_type": "code",
      "source": [
        "# Esse comando também Exibe os tipos de dados que estão armazenados nas colunas,\n",
        "# com alguns detalhes a mais\n",
        "#dataset.dtypesinfo()"
      ],
      "metadata": {
        "id": "1bLAjR-nRnB8"
      },
      "execution_count": 151,
      "outputs": []
    },
    {
      "cell_type": "markdown",
      "source": [
        "# <font color=lighblue> 5.3 - Query:\n",
        "Realiza Consultas no Dataset"
      ],
      "metadata": {
        "id": "KzozV6KAWklg"
      }
    },
    {
      "cell_type": "code",
      "metadata": {
        "scrolled": true,
        "id": "fTH2JkGDD1Bf",
        "colab": {
          "base_uri": "https://localhost:8080/",
          "height": 143
        },
        "outputId": "2a96befb-aab1-4501-8616-7617074f870c"
      },
      "source": [
        "import pandas as pd\n",
        "from numpy.random import randn\n",
        "\n",
        "#Criando dataset\n",
        "df = pd.DataFrame(randn(10,2), columns=list('ab'))\n",
        "\n",
        "#Executando a Query\n",
        "df.query('a > b')"
      ],
      "execution_count": 42,
      "outputs": [
        {
          "output_type": "execute_result",
          "data": {
            "text/plain": [
              "          a         b\n",
              "2 -0.296888 -0.955276\n",
              "4  0.633174  0.120609\n",
              "6  0.356275 -1.160648"
            ],
            "text/html": [
              "\n",
              "  <div id=\"df-2e9389da-2d2c-4a44-95e3-16a5d583e761\">\n",
              "    <div class=\"colab-df-container\">\n",
              "      <div>\n",
              "<style scoped>\n",
              "    .dataframe tbody tr th:only-of-type {\n",
              "        vertical-align: middle;\n",
              "    }\n",
              "\n",
              "    .dataframe tbody tr th {\n",
              "        vertical-align: top;\n",
              "    }\n",
              "\n",
              "    .dataframe thead th {\n",
              "        text-align: right;\n",
              "    }\n",
              "</style>\n",
              "<table border=\"1\" class=\"dataframe\">\n",
              "  <thead>\n",
              "    <tr style=\"text-align: right;\">\n",
              "      <th></th>\n",
              "      <th>a</th>\n",
              "      <th>b</th>\n",
              "    </tr>\n",
              "  </thead>\n",
              "  <tbody>\n",
              "    <tr>\n",
              "      <th>2</th>\n",
              "      <td>-0.296888</td>\n",
              "      <td>-0.955276</td>\n",
              "    </tr>\n",
              "    <tr>\n",
              "      <th>4</th>\n",
              "      <td>0.633174</td>\n",
              "      <td>0.120609</td>\n",
              "    </tr>\n",
              "    <tr>\n",
              "      <th>6</th>\n",
              "      <td>0.356275</td>\n",
              "      <td>-1.160648</td>\n",
              "    </tr>\n",
              "  </tbody>\n",
              "</table>\n",
              "</div>\n",
              "      <button class=\"colab-df-convert\" onclick=\"convertToInteractive('df-2e9389da-2d2c-4a44-95e3-16a5d583e761')\"\n",
              "              title=\"Convert this dataframe to an interactive table.\"\n",
              "              style=\"display:none;\">\n",
              "        \n",
              "  <svg xmlns=\"http://www.w3.org/2000/svg\" height=\"24px\"viewBox=\"0 0 24 24\"\n",
              "       width=\"24px\">\n",
              "    <path d=\"M0 0h24v24H0V0z\" fill=\"none\"/>\n",
              "    <path d=\"M18.56 5.44l.94 2.06.94-2.06 2.06-.94-2.06-.94-.94-2.06-.94 2.06-2.06.94zm-11 1L8.5 8.5l.94-2.06 2.06-.94-2.06-.94L8.5 2.5l-.94 2.06-2.06.94zm10 10l.94 2.06.94-2.06 2.06-.94-2.06-.94-.94-2.06-.94 2.06-2.06.94z\"/><path d=\"M17.41 7.96l-1.37-1.37c-.4-.4-.92-.59-1.43-.59-.52 0-1.04.2-1.43.59L10.3 9.45l-7.72 7.72c-.78.78-.78 2.05 0 2.83L4 21.41c.39.39.9.59 1.41.59.51 0 1.02-.2 1.41-.59l7.78-7.78 2.81-2.81c.8-.78.8-2.07 0-2.86zM5.41 20L4 18.59l7.72-7.72 1.47 1.35L5.41 20z\"/>\n",
              "  </svg>\n",
              "      </button>\n",
              "      \n",
              "  <style>\n",
              "    .colab-df-container {\n",
              "      display:flex;\n",
              "      flex-wrap:wrap;\n",
              "      gap: 12px;\n",
              "    }\n",
              "\n",
              "    .colab-df-convert {\n",
              "      background-color: #E8F0FE;\n",
              "      border: none;\n",
              "      border-radius: 50%;\n",
              "      cursor: pointer;\n",
              "      display: none;\n",
              "      fill: #1967D2;\n",
              "      height: 32px;\n",
              "      padding: 0 0 0 0;\n",
              "      width: 32px;\n",
              "    }\n",
              "\n",
              "    .colab-df-convert:hover {\n",
              "      background-color: #E2EBFA;\n",
              "      box-shadow: 0px 1px 2px rgba(60, 64, 67, 0.3), 0px 1px 3px 1px rgba(60, 64, 67, 0.15);\n",
              "      fill: #174EA6;\n",
              "    }\n",
              "\n",
              "    [theme=dark] .colab-df-convert {\n",
              "      background-color: #3B4455;\n",
              "      fill: #D2E3FC;\n",
              "    }\n",
              "\n",
              "    [theme=dark] .colab-df-convert:hover {\n",
              "      background-color: #434B5C;\n",
              "      box-shadow: 0px 1px 3px 1px rgba(0, 0, 0, 0.15);\n",
              "      filter: drop-shadow(0px 1px 2px rgba(0, 0, 0, 0.3));\n",
              "      fill: #FFFFFF;\n",
              "    }\n",
              "  </style>\n",
              "\n",
              "      <script>\n",
              "        const buttonEl =\n",
              "          document.querySelector('#df-2e9389da-2d2c-4a44-95e3-16a5d583e761 button.colab-df-convert');\n",
              "        buttonEl.style.display =\n",
              "          google.colab.kernel.accessAllowed ? 'block' : 'none';\n",
              "\n",
              "        async function convertToInteractive(key) {\n",
              "          const element = document.querySelector('#df-2e9389da-2d2c-4a44-95e3-16a5d583e761');\n",
              "          const dataTable =\n",
              "            await google.colab.kernel.invokeFunction('convertToInteractive',\n",
              "                                                     [key], {});\n",
              "          if (!dataTable) return;\n",
              "\n",
              "          const docLinkHtml = 'Like what you see? Visit the ' +\n",
              "            '<a target=\"_blank\" href=https://colab.research.google.com/notebooks/data_table.ipynb>data table notebook</a>'\n",
              "            + ' to learn more about interactive tables.';\n",
              "          element.innerHTML = '';\n",
              "          dataTable['output_type'] = 'display_data';\n",
              "          await google.colab.output.renderOutput(dataTable, element);\n",
              "          const docLink = document.createElement('div');\n",
              "          docLink.innerHTML = docLinkHtml;\n",
              "          element.appendChild(docLink);\n",
              "        }\n",
              "      </script>\n",
              "    </div>\n",
              "  </div>\n",
              "  "
            ]
          },
          "metadata": {},
          "execution_count": 42
        }
      ]
    },
    {
      "cell_type": "code",
      "source": [
        "#Importando o dataset de exemplos\n",
        "df = pd.read_csv('ocorrencias_cenipa.csv', index_col =0)\n",
        "\n",
        "#Removendo espaços em branco das colunas\n",
        "cols = df.columns\n",
        "cols = cols.map(lambda x: x.replace(' ', '_') if isinstance (x, (str)) else x)\n",
        "df.columns = cols\n",
        "\n",
        "#verificando dataset\n",
        "df.head(3)"
      ],
      "metadata": {
        "colab": {
          "base_uri": "https://localhost:8080/",
          "height": 377
        },
        "id": "REpG92zNdRgI",
        "outputId": "05ec9cc3-6fe0-4b7b-d151-796a762a3625"
      },
      "execution_count": 98,
      "outputs": [
        {
          "output_type": "execute_result",
          "data": {
            "text/plain": [
              "            tipo                                          descricao  \\\n",
              "codigo                                                                \n",
              "40107   ACIDENTE  COLISÃO COM OBSTÁCULO DURANTE A DECOLAGEM E POUSO   \n",
              "40147   ACIDENTE  FALHA OU MAU FUNCIONAMENTO DE SISTEMA / COMPON...   \n",
              "40148   ACIDENTE                                          PANE SECA   \n",
              "\n",
              "                  cidade estado        data   ano      hora aeronave_liberada  \\\n",
              "codigo                                                                          \n",
              "40107             GURUPÁ     PA  2010-01-12  2010  14:30:00               SIM   \n",
              "40147   UNIÃO DA VITÓRIA     PR  2010-04-08  2010  14:20:00               SIM   \n",
              "40148       CAMPO GRANDE     MS  2010-03-19  2010  19:30:00               SIM   \n",
              "\n",
              "       status_investigacao  aeronaves_envolvidas ocorrencia_saida_pista  \\\n",
              "codigo                                                                    \n",
              "40107           FINALIZADA                     1                    NÃO   \n",
              "40147           FINALIZADA                     1                    SIM   \n",
              "40148           FINALIZADA                     1                    NÃO   \n",
              "\n",
              "       aeronave_tipo          aeronave_fabricante motor_tipo  \\\n",
              "codigo                                                         \n",
              "40107          AVIÃO  NEIVA INDUSTRIA AERONAUTICA     PISTÃO   \n",
              "40147          AVIÃO               PIPER AIRCRAFT     PISTÃO   \n",
              "40148          AVIÃO              CESSNA AIRCRAFT     PISTÃO   \n",
              "\n",
              "       aeronave_motor_quantidade  aeronave_assentos  aeronave_ano_fabricacao  \\\n",
              "codigo                                                                         \n",
              "40107                  MONOMOTOR                  7                     1977   \n",
              "40147                    BIMOTOR                  6                     1997   \n",
              "40148                  MONOMOTOR                  6                     1962   \n",
              "\n",
              "       aeronave_pais_fabricante aeronave_fase_operacao aeronave_nivel_dano  \n",
              "codigo                                                                      \n",
              "40107                    BRASIL                  POUSO                LEVE  \n",
              "40147                    BRASIL                  POUSO         SUBSTANCIAL  \n",
              "40148                    BRASIL      APROXIMAÇÃO FINAL         SUBSTANCIAL  "
            ],
            "text/html": [
              "\n",
              "  <div id=\"df-116a5cb4-7942-4821-b7a4-53497610a4ed\">\n",
              "    <div class=\"colab-df-container\">\n",
              "      <div>\n",
              "<style scoped>\n",
              "    .dataframe tbody tr th:only-of-type {\n",
              "        vertical-align: middle;\n",
              "    }\n",
              "\n",
              "    .dataframe tbody tr th {\n",
              "        vertical-align: top;\n",
              "    }\n",
              "\n",
              "    .dataframe thead th {\n",
              "        text-align: right;\n",
              "    }\n",
              "</style>\n",
              "<table border=\"1\" class=\"dataframe\">\n",
              "  <thead>\n",
              "    <tr style=\"text-align: right;\">\n",
              "      <th></th>\n",
              "      <th>tipo</th>\n",
              "      <th>descricao</th>\n",
              "      <th>cidade</th>\n",
              "      <th>estado</th>\n",
              "      <th>data</th>\n",
              "      <th>ano</th>\n",
              "      <th>hora</th>\n",
              "      <th>aeronave_liberada</th>\n",
              "      <th>status_investigacao</th>\n",
              "      <th>aeronaves_envolvidas</th>\n",
              "      <th>ocorrencia_saida_pista</th>\n",
              "      <th>aeronave_tipo</th>\n",
              "      <th>aeronave_fabricante</th>\n",
              "      <th>motor_tipo</th>\n",
              "      <th>aeronave_motor_quantidade</th>\n",
              "      <th>aeronave_assentos</th>\n",
              "      <th>aeronave_ano_fabricacao</th>\n",
              "      <th>aeronave_pais_fabricante</th>\n",
              "      <th>aeronave_fase_operacao</th>\n",
              "      <th>aeronave_nivel_dano</th>\n",
              "    </tr>\n",
              "    <tr>\n",
              "      <th>codigo</th>\n",
              "      <th></th>\n",
              "      <th></th>\n",
              "      <th></th>\n",
              "      <th></th>\n",
              "      <th></th>\n",
              "      <th></th>\n",
              "      <th></th>\n",
              "      <th></th>\n",
              "      <th></th>\n",
              "      <th></th>\n",
              "      <th></th>\n",
              "      <th></th>\n",
              "      <th></th>\n",
              "      <th></th>\n",
              "      <th></th>\n",
              "      <th></th>\n",
              "      <th></th>\n",
              "      <th></th>\n",
              "      <th></th>\n",
              "      <th></th>\n",
              "    </tr>\n",
              "  </thead>\n",
              "  <tbody>\n",
              "    <tr>\n",
              "      <th>40107</th>\n",
              "      <td>ACIDENTE</td>\n",
              "      <td>COLISÃO COM OBSTÁCULO DURANTE A DECOLAGEM E POUSO</td>\n",
              "      <td>GURUPÁ</td>\n",
              "      <td>PA</td>\n",
              "      <td>2010-01-12</td>\n",
              "      <td>2010</td>\n",
              "      <td>14:30:00</td>\n",
              "      <td>SIM</td>\n",
              "      <td>FINALIZADA</td>\n",
              "      <td>1</td>\n",
              "      <td>NÃO</td>\n",
              "      <td>AVIÃO</td>\n",
              "      <td>NEIVA INDUSTRIA AERONAUTICA</td>\n",
              "      <td>PISTÃO</td>\n",
              "      <td>MONOMOTOR</td>\n",
              "      <td>7</td>\n",
              "      <td>1977</td>\n",
              "      <td>BRASIL</td>\n",
              "      <td>POUSO</td>\n",
              "      <td>LEVE</td>\n",
              "    </tr>\n",
              "    <tr>\n",
              "      <th>40147</th>\n",
              "      <td>ACIDENTE</td>\n",
              "      <td>FALHA OU MAU FUNCIONAMENTO DE SISTEMA / COMPON...</td>\n",
              "      <td>UNIÃO DA VITÓRIA</td>\n",
              "      <td>PR</td>\n",
              "      <td>2010-04-08</td>\n",
              "      <td>2010</td>\n",
              "      <td>14:20:00</td>\n",
              "      <td>SIM</td>\n",
              "      <td>FINALIZADA</td>\n",
              "      <td>1</td>\n",
              "      <td>SIM</td>\n",
              "      <td>AVIÃO</td>\n",
              "      <td>PIPER AIRCRAFT</td>\n",
              "      <td>PISTÃO</td>\n",
              "      <td>BIMOTOR</td>\n",
              "      <td>6</td>\n",
              "      <td>1997</td>\n",
              "      <td>BRASIL</td>\n",
              "      <td>POUSO</td>\n",
              "      <td>SUBSTANCIAL</td>\n",
              "    </tr>\n",
              "    <tr>\n",
              "      <th>40148</th>\n",
              "      <td>ACIDENTE</td>\n",
              "      <td>PANE SECA</td>\n",
              "      <td>CAMPO GRANDE</td>\n",
              "      <td>MS</td>\n",
              "      <td>2010-03-19</td>\n",
              "      <td>2010</td>\n",
              "      <td>19:30:00</td>\n",
              "      <td>SIM</td>\n",
              "      <td>FINALIZADA</td>\n",
              "      <td>1</td>\n",
              "      <td>NÃO</td>\n",
              "      <td>AVIÃO</td>\n",
              "      <td>CESSNA AIRCRAFT</td>\n",
              "      <td>PISTÃO</td>\n",
              "      <td>MONOMOTOR</td>\n",
              "      <td>6</td>\n",
              "      <td>1962</td>\n",
              "      <td>BRASIL</td>\n",
              "      <td>APROXIMAÇÃO FINAL</td>\n",
              "      <td>SUBSTANCIAL</td>\n",
              "    </tr>\n",
              "  </tbody>\n",
              "</table>\n",
              "</div>\n",
              "      <button class=\"colab-df-convert\" onclick=\"convertToInteractive('df-116a5cb4-7942-4821-b7a4-53497610a4ed')\"\n",
              "              title=\"Convert this dataframe to an interactive table.\"\n",
              "              style=\"display:none;\">\n",
              "        \n",
              "  <svg xmlns=\"http://www.w3.org/2000/svg\" height=\"24px\"viewBox=\"0 0 24 24\"\n",
              "       width=\"24px\">\n",
              "    <path d=\"M0 0h24v24H0V0z\" fill=\"none\"/>\n",
              "    <path d=\"M18.56 5.44l.94 2.06.94-2.06 2.06-.94-2.06-.94-.94-2.06-.94 2.06-2.06.94zm-11 1L8.5 8.5l.94-2.06 2.06-.94-2.06-.94L8.5 2.5l-.94 2.06-2.06.94zm10 10l.94 2.06.94-2.06 2.06-.94-2.06-.94-.94-2.06-.94 2.06-2.06.94z\"/><path d=\"M17.41 7.96l-1.37-1.37c-.4-.4-.92-.59-1.43-.59-.52 0-1.04.2-1.43.59L10.3 9.45l-7.72 7.72c-.78.78-.78 2.05 0 2.83L4 21.41c.39.39.9.59 1.41.59.51 0 1.02-.2 1.41-.59l7.78-7.78 2.81-2.81c.8-.78.8-2.07 0-2.86zM5.41 20L4 18.59l7.72-7.72 1.47 1.35L5.41 20z\"/>\n",
              "  </svg>\n",
              "      </button>\n",
              "      \n",
              "  <style>\n",
              "    .colab-df-container {\n",
              "      display:flex;\n",
              "      flex-wrap:wrap;\n",
              "      gap: 12px;\n",
              "    }\n",
              "\n",
              "    .colab-df-convert {\n",
              "      background-color: #E8F0FE;\n",
              "      border: none;\n",
              "      border-radius: 50%;\n",
              "      cursor: pointer;\n",
              "      display: none;\n",
              "      fill: #1967D2;\n",
              "      height: 32px;\n",
              "      padding: 0 0 0 0;\n",
              "      width: 32px;\n",
              "    }\n",
              "\n",
              "    .colab-df-convert:hover {\n",
              "      background-color: #E2EBFA;\n",
              "      box-shadow: 0px 1px 2px rgba(60, 64, 67, 0.3), 0px 1px 3px 1px rgba(60, 64, 67, 0.15);\n",
              "      fill: #174EA6;\n",
              "    }\n",
              "\n",
              "    [theme=dark] .colab-df-convert {\n",
              "      background-color: #3B4455;\n",
              "      fill: #D2E3FC;\n",
              "    }\n",
              "\n",
              "    [theme=dark] .colab-df-convert:hover {\n",
              "      background-color: #434B5C;\n",
              "      box-shadow: 0px 1px 3px 1px rgba(0, 0, 0, 0.15);\n",
              "      filter: drop-shadow(0px 1px 2px rgba(0, 0, 0, 0.3));\n",
              "      fill: #FFFFFF;\n",
              "    }\n",
              "  </style>\n",
              "\n",
              "      <script>\n",
              "        const buttonEl =\n",
              "          document.querySelector('#df-116a5cb4-7942-4821-b7a4-53497610a4ed button.colab-df-convert');\n",
              "        buttonEl.style.display =\n",
              "          google.colab.kernel.accessAllowed ? 'block' : 'none';\n",
              "\n",
              "        async function convertToInteractive(key) {\n",
              "          const element = document.querySelector('#df-116a5cb4-7942-4821-b7a4-53497610a4ed');\n",
              "          const dataTable =\n",
              "            await google.colab.kernel.invokeFunction('convertToInteractive',\n",
              "                                                     [key], {});\n",
              "          if (!dataTable) return;\n",
              "\n",
              "          const docLinkHtml = 'Like what you see? Visit the ' +\n",
              "            '<a target=\"_blank\" href=https://colab.research.google.com/notebooks/data_table.ipynb>data table notebook</a>'\n",
              "            + ' to learn more about interactive tables.';\n",
              "          element.innerHTML = '';\n",
              "          dataTable['output_type'] = 'display_data';\n",
              "          await google.colab.output.renderOutput(dataTable, element);\n",
              "          const docLink = document.createElement('div');\n",
              "          docLink.innerHTML = docLinkHtml;\n",
              "          element.appendChild(docLink);\n",
              "        }\n",
              "      </script>\n",
              "    </div>\n",
              "  </div>\n",
              "  "
            ]
          },
          "metadata": {},
          "execution_count": 98
        }
      ]
    },
    {
      "cell_type": "markdown",
      "source": [
        "# <font color=lighblue> 6 - Dataframe - (CENIPA) Acidentes Aéreos Ocorridos no Brasil de 2010 a 2019.csv\n",
        "\n",
        "---\n"
      ],
      "metadata": {
        "id": "ghfQFff7It7D"
      }
    },
    {
      "cell_type": "markdown",
      "source": [
        "Objetivo do Grupo: Crazy Machines S.I, é Realização do Estudo sobre Análise e Coleta de Dados de Data frames Hospedados e Disponibilizados pela *Opendata AIG Brazil* \n",
        "Base de Dados de Ocorrências Aeronáuticas que é Gerenciado pelo Centro de Investigação e Prevenção Acidentes Aeronáuticas (CENIPA), Disciplina: Ciência Dados / Projeto de Governança em T.I , Orientado pelo Professor [Edson Melo de Souza](https://edsonmelo.com.br/) - Sistemas de Informação - UNINOVE - 2022. \n",
        "\n",
        "Artigo Estudado: (CENIPA - Ocorrências Aeronáuticas na Aviação Civil Brasileira), disponibilizado no Portal da [Força Áera-Brasileira.](https://dados.gov.br/dataset/ocorrencias-aeronauticas-da-aviacao-civil-brasileira) "
      ],
      "metadata": {
        "id": "orPvU7c3RWIY"
      }
    },
    {
      "cell_type": "code",
      "source": [
        "ocorrencia = pd.read_csv('/content/ocorrencias_cenipa.csv')"
      ],
      "metadata": {
        "id": "CVZFeZZ-yxsN"
      },
      "execution_count": 92,
      "outputs": []
    },
    {
      "cell_type": "markdown",
      "source": [
        "Leitura do Arquivo `Ocorrências CENIPA`\n",
        "\n",
        "---"
      ],
      "metadata": {
        "id": "rVXfehrEfHer"
      }
    },
    {
      "cell_type": "markdown",
      "source": [
        "Leitura Exibindo Dados Armazenados do Data Frame `ocorrencias_cenipa`"
      ],
      "metadata": {
        "id": "PenScFRPfYmT"
      }
    },
    {
      "cell_type": "code",
      "source": [
        "import pandas as pd"
      ],
      "metadata": {
        "id": "MSQiIe_DJDw6"
      },
      "execution_count": 93,
      "outputs": []
    },
    {
      "cell_type": "code",
      "source": [
        "df = pd.read_csv('/content/ocorrencias_cenipa.csv')\n",
        "print(df.head(5))"
      ],
      "metadata": {
        "id": "ZXMwiHk5TJ91",
        "colab": {
          "base_uri": "https://localhost:8080/"
        },
        "outputId": "3de0a2b3-f355-42d5-a325-77a8f2e28983"
      },
      "execution_count": 94,
      "outputs": [
        {
          "output_type": "stream",
          "name": "stdout",
          "text": [
            "   codigo             tipo                                          descricao  \\\n",
            "0   40107         ACIDENTE  COLISÃO COM OBSTÁCULO DURANTE A DECOLAGEM E POUSO   \n",
            "1   40147         ACIDENTE  FALHA OU MAU FUNCIONAMENTO DE SISTEMA / COMPON...   \n",
            "2   40148         ACIDENTE                                          PANE SECA   \n",
            "3   40149         ACIDENTE                              FALHA DO MOTOR EM VOO   \n",
            "4   40150  INCIDENTE GRAVE                                  COM TREM DE POUSO   \n",
            "\n",
            "             cidade estado        data   ano      hora aeronave_liberada  \\\n",
            "0            GURUPÁ     PA  2010-01-12  2010  14:30:00               SIM   \n",
            "1  UNIÃO DA VITÓRIA     PR  2010-04-08  2010  14:20:00               SIM   \n",
            "2      CAMPO GRANDE     MS  2010-03-19  2010  19:30:00               SIM   \n",
            "3          LUZIÂNIA     GO  2010-03-21  2010  20:45:00               SIM   \n",
            "4       SANTA MARIA     RS  2010-03-10  2010  17:20:00               SIM   \n",
            "\n",
            "  status_investigacao  aeronaves_envolvidas ocorrencia_saida_pista  \\\n",
            "0          FINALIZADA                     1                    NÃO   \n",
            "1          FINALIZADA                     1                    SIM   \n",
            "2          FINALIZADA                     1                    NÃO   \n",
            "3          FINALIZADA                     1                    NÃO   \n",
            "4          FINALIZADA                     1                    NÃO   \n",
            "\n",
            "  aeronave_tipo          aeronave_fabricante motor_tipo  \\\n",
            "0         AVIÃO  NEIVA INDUSTRIA AERONAUTICA     PISTÃO   \n",
            "1         AVIÃO               PIPER AIRCRAFT     PISTÃO   \n",
            "2         AVIÃO              CESSNA AIRCRAFT     PISTÃO   \n",
            "3         AVIÃO                      XAVANTE     PISTÃO   \n",
            "4         AVIÃO               BEECH AIRCRAFT     PISTÃO   \n",
            "\n",
            "  aeronave_motor_quantidade  aeronave_assentos  aeronave_ano_fabricacao  \\\n",
            "0                 MONOMOTOR                  7                     1977   \n",
            "1                   BIMOTOR                  6                     1997   \n",
            "2                 MONOMOTOR                  6                     1962   \n",
            "3                 MONOMOTOR                  2                     1974   \n",
            "4                 MONOMOTOR                  6                     1974   \n",
            "\n",
            "  aeronave_pais_fabricante aeronave_fase_operacao aeronave_nivel_dano  \n",
            "0                   BRASIL                  POUSO                LEVE  \n",
            "1                   BRASIL                  POUSO         SUBSTANCIAL  \n",
            "2                   BRASIL      APROXIMAÇÃO FINAL         SUBSTANCIAL  \n",
            "3                   BRASIL              DECOLAGEM           DESTRUÍDA  \n",
            "4                   BRASIL                  POUSO                LEVE  \n"
          ]
        }
      ]
    },
    {
      "cell_type": "code",
      "source": [
        "df_ocorrencia_csv = pd.read_csv('/content/ocorrencias_cenipa.csv', index_col=0)\n",
        "df_ocorrencia_csv"
      ],
      "metadata": {
        "id": "rTj9M0UZipIF",
        "colab": {
          "base_uri": "https://localhost:8080/",
          "height": 814
        },
        "outputId": "8bb0e821-9d47-4dfd-d996-1fb1803c6c80"
      },
      "execution_count": 95,
      "outputs": [
        {
          "output_type": "execute_result",
          "data": {
            "text/plain": [
              "                   tipo                                          descricao  \\\n",
              "codigo                                                                       \n",
              "40107          ACIDENTE  COLISÃO COM OBSTÁCULO DURANTE A DECOLAGEM E POUSO   \n",
              "40147          ACIDENTE  FALHA OU MAU FUNCIONAMENTO DE SISTEMA / COMPON...   \n",
              "40148          ACIDENTE                                          PANE SECA   \n",
              "40149          ACIDENTE                              FALHA DO MOTOR EM VOO   \n",
              "40150   INCIDENTE GRAVE                                  COM TREM DE POUSO   \n",
              "...                 ...                                                ...   \n",
              "79117          ACIDENTE                                      INDETERMINADO   \n",
              "79119          ACIDENTE                                      INDETERMINADO   \n",
              "79123          ACIDENTE                                      INDETERMINADO   \n",
              "79203         INCIDENTE  FALHA OU MAU FUNCIONAMENTO DE SISTEMA / COMPON...   \n",
              "79227          ACIDENTE                                             OUTROS   \n",
              "\n",
              "                       cidade estado        data   ano      hora  \\\n",
              "codigo                                                             \n",
              "40107                  GURUPÁ     PA  2010-01-12  2010  14:30:00   \n",
              "40147        UNIÃO DA VITÓRIA     PR  2010-04-08  2010  14:20:00   \n",
              "40148            CAMPO GRANDE     MS  2010-03-19  2010  19:30:00   \n",
              "40149                LUZIÂNIA     GO  2010-03-21  2010  20:45:00   \n",
              "40150             SANTA MARIA     RS  2010-03-10  2010  17:20:00   \n",
              "...                       ...    ...         ...   ...       ...   \n",
              "79117            ASSIS BRASIL     AC  2019-10-23  2019  15:00:00   \n",
              "79119   SÃO JOSÉ DO RIO CLARO     MT  2019-10-11  2019  10:00:00   \n",
              "79123                ANTONINA     PR  2019-09-21  2019  18:30:00   \n",
              "79203           FLORIANÓPOLIS     SC  2019-12-20  2019  16:37:00   \n",
              "79227          NOVO PROGRESSO     PA  2017-01-20  2017  16:24:00   \n",
              "\n",
              "       aeronave_liberada status_investigacao  aeronaves_envolvidas  \\\n",
              "codigo                                                               \n",
              "40107                SIM          FINALIZADA                     1   \n",
              "40147                SIM          FINALIZADA                     1   \n",
              "40148                SIM          FINALIZADA                     1   \n",
              "40149                SIM          FINALIZADA                     1   \n",
              "40150                SIM          FINALIZADA                     1   \n",
              "...                  ...                 ...                   ...   \n",
              "79117                SIM          FINALIZADA                     1   \n",
              "79119                SIM          FINALIZADA                     1   \n",
              "79123                SIM          FINALIZADA                     1   \n",
              "79203                SIM          FINALIZADA                     1   \n",
              "79227                SIM          FINALIZADA                     1   \n",
              "\n",
              "       ocorrencia_saida_pista  aeronave_tipo          aeronave_fabricante  \\\n",
              "codigo                                                                      \n",
              "40107                     NÃO          AVIÃO  NEIVA INDUSTRIA AERONAUTICA   \n",
              "40147                     SIM          AVIÃO               PIPER AIRCRAFT   \n",
              "40148                     NÃO          AVIÃO              CESSNA AIRCRAFT   \n",
              "40149                     NÃO          AVIÃO                      XAVANTE   \n",
              "40150                     NÃO          AVIÃO               BEECH AIRCRAFT   \n",
              "...                       ...            ...                          ...   \n",
              "79117                     NÃO  INDETERMINADO      FABRICANTE DESCONHECIDO   \n",
              "79119                     NÃO  INDETERMINADO      FABRICANTE DESCONHECIDO   \n",
              "79123                     NÃO          TRIKE                INDETERMINADO   \n",
              "79203                     NÃO          AVIÃO              CESSNA AIRCRAFT   \n",
              "79227                     NÃO          AVIÃO               PIPER AIRCRAFT   \n",
              "\n",
              "           motor_tipo aeronave_motor_quantidade  aeronave_assentos  \\\n",
              "codigo                                                               \n",
              "40107          PISTÃO                 MONOMOTOR                  7   \n",
              "40147          PISTÃO                   BIMOTOR                  6   \n",
              "40148          PISTÃO                 MONOMOTOR                  6   \n",
              "40149          PISTÃO                 MONOMOTOR                  2   \n",
              "40150          PISTÃO                 MONOMOTOR                  6   \n",
              "...               ...                       ...                ...   \n",
              "79117   INDETERMINADO             INDETERMINADO                  0   \n",
              "79119   INDETERMINADO             INDETERMINADO                  0   \n",
              "79123   INDETERMINADO                SEM TRAÇÃO                  0   \n",
              "79203          PISTÃO                 MONOMOTOR                  2   \n",
              "79227          PISTÃO                   BIMOTOR                  8   \n",
              "\n",
              "        aeronave_ano_fabricacao aeronave_pais_fabricante  \\\n",
              "codigo                                                     \n",
              "40107                      1977                   BRASIL   \n",
              "40147                      1997                   BRASIL   \n",
              "40148                      1962                   BRASIL   \n",
              "40149                      1974                   BRASIL   \n",
              "40150                      1974                   BRASIL   \n",
              "...                         ...                      ...   \n",
              "79117                         0                   BRASIL   \n",
              "79119                         0                   BRASIL   \n",
              "79123                         0                   BRASIL   \n",
              "79203                      1980                   BRASIL   \n",
              "79227                      1974                   BRASIL   \n",
              "\n",
              "       aeronave_fase_operacao aeronave_nivel_dano  \n",
              "codigo                                             \n",
              "40107                   POUSO                LEVE  \n",
              "40147                   POUSO         SUBSTANCIAL  \n",
              "40148       APROXIMAÇÃO FINAL         SUBSTANCIAL  \n",
              "40149               DECOLAGEM           DESTRUÍDA  \n",
              "40150                   POUSO                LEVE  \n",
              "...                       ...                 ...  \n",
              "79117           INDETERMINADO           DESTRUÍDA  \n",
              "79119           INDETERMINADO           DESTRUÍDA  \n",
              "79123               DECOLAGEM         SUBSTANCIAL  \n",
              "79203      CORRIDA APÓS POUSO                LEVE  \n",
              "79227                   POUSO         SUBSTANCIAL  \n",
              "\n",
              "[5242 rows x 20 columns]"
            ],
            "text/html": [
              "\n",
              "  <div id=\"df-6959f20a-7f21-4d90-97b7-3057cfcfd234\">\n",
              "    <div class=\"colab-df-container\">\n",
              "      <div>\n",
              "<style scoped>\n",
              "    .dataframe tbody tr th:only-of-type {\n",
              "        vertical-align: middle;\n",
              "    }\n",
              "\n",
              "    .dataframe tbody tr th {\n",
              "        vertical-align: top;\n",
              "    }\n",
              "\n",
              "    .dataframe thead th {\n",
              "        text-align: right;\n",
              "    }\n",
              "</style>\n",
              "<table border=\"1\" class=\"dataframe\">\n",
              "  <thead>\n",
              "    <tr style=\"text-align: right;\">\n",
              "      <th></th>\n",
              "      <th>tipo</th>\n",
              "      <th>descricao</th>\n",
              "      <th>cidade</th>\n",
              "      <th>estado</th>\n",
              "      <th>data</th>\n",
              "      <th>ano</th>\n",
              "      <th>hora</th>\n",
              "      <th>aeronave_liberada</th>\n",
              "      <th>status_investigacao</th>\n",
              "      <th>aeronaves_envolvidas</th>\n",
              "      <th>ocorrencia_saida_pista</th>\n",
              "      <th>aeronave_tipo</th>\n",
              "      <th>aeronave_fabricante</th>\n",
              "      <th>motor_tipo</th>\n",
              "      <th>aeronave_motor_quantidade</th>\n",
              "      <th>aeronave_assentos</th>\n",
              "      <th>aeronave_ano_fabricacao</th>\n",
              "      <th>aeronave_pais_fabricante</th>\n",
              "      <th>aeronave_fase_operacao</th>\n",
              "      <th>aeronave_nivel_dano</th>\n",
              "    </tr>\n",
              "    <tr>\n",
              "      <th>codigo</th>\n",
              "      <th></th>\n",
              "      <th></th>\n",
              "      <th></th>\n",
              "      <th></th>\n",
              "      <th></th>\n",
              "      <th></th>\n",
              "      <th></th>\n",
              "      <th></th>\n",
              "      <th></th>\n",
              "      <th></th>\n",
              "      <th></th>\n",
              "      <th></th>\n",
              "      <th></th>\n",
              "      <th></th>\n",
              "      <th></th>\n",
              "      <th></th>\n",
              "      <th></th>\n",
              "      <th></th>\n",
              "      <th></th>\n",
              "      <th></th>\n",
              "    </tr>\n",
              "  </thead>\n",
              "  <tbody>\n",
              "    <tr>\n",
              "      <th>40107</th>\n",
              "      <td>ACIDENTE</td>\n",
              "      <td>COLISÃO COM OBSTÁCULO DURANTE A DECOLAGEM E POUSO</td>\n",
              "      <td>GURUPÁ</td>\n",
              "      <td>PA</td>\n",
              "      <td>2010-01-12</td>\n",
              "      <td>2010</td>\n",
              "      <td>14:30:00</td>\n",
              "      <td>SIM</td>\n",
              "      <td>FINALIZADA</td>\n",
              "      <td>1</td>\n",
              "      <td>NÃO</td>\n",
              "      <td>AVIÃO</td>\n",
              "      <td>NEIVA INDUSTRIA AERONAUTICA</td>\n",
              "      <td>PISTÃO</td>\n",
              "      <td>MONOMOTOR</td>\n",
              "      <td>7</td>\n",
              "      <td>1977</td>\n",
              "      <td>BRASIL</td>\n",
              "      <td>POUSO</td>\n",
              "      <td>LEVE</td>\n",
              "    </tr>\n",
              "    <tr>\n",
              "      <th>40147</th>\n",
              "      <td>ACIDENTE</td>\n",
              "      <td>FALHA OU MAU FUNCIONAMENTO DE SISTEMA / COMPON...</td>\n",
              "      <td>UNIÃO DA VITÓRIA</td>\n",
              "      <td>PR</td>\n",
              "      <td>2010-04-08</td>\n",
              "      <td>2010</td>\n",
              "      <td>14:20:00</td>\n",
              "      <td>SIM</td>\n",
              "      <td>FINALIZADA</td>\n",
              "      <td>1</td>\n",
              "      <td>SIM</td>\n",
              "      <td>AVIÃO</td>\n",
              "      <td>PIPER AIRCRAFT</td>\n",
              "      <td>PISTÃO</td>\n",
              "      <td>BIMOTOR</td>\n",
              "      <td>6</td>\n",
              "      <td>1997</td>\n",
              "      <td>BRASIL</td>\n",
              "      <td>POUSO</td>\n",
              "      <td>SUBSTANCIAL</td>\n",
              "    </tr>\n",
              "    <tr>\n",
              "      <th>40148</th>\n",
              "      <td>ACIDENTE</td>\n",
              "      <td>PANE SECA</td>\n",
              "      <td>CAMPO GRANDE</td>\n",
              "      <td>MS</td>\n",
              "      <td>2010-03-19</td>\n",
              "      <td>2010</td>\n",
              "      <td>19:30:00</td>\n",
              "      <td>SIM</td>\n",
              "      <td>FINALIZADA</td>\n",
              "      <td>1</td>\n",
              "      <td>NÃO</td>\n",
              "      <td>AVIÃO</td>\n",
              "      <td>CESSNA AIRCRAFT</td>\n",
              "      <td>PISTÃO</td>\n",
              "      <td>MONOMOTOR</td>\n",
              "      <td>6</td>\n",
              "      <td>1962</td>\n",
              "      <td>BRASIL</td>\n",
              "      <td>APROXIMAÇÃO FINAL</td>\n",
              "      <td>SUBSTANCIAL</td>\n",
              "    </tr>\n",
              "    <tr>\n",
              "      <th>40149</th>\n",
              "      <td>ACIDENTE</td>\n",
              "      <td>FALHA DO MOTOR EM VOO</td>\n",
              "      <td>LUZIÂNIA</td>\n",
              "      <td>GO</td>\n",
              "      <td>2010-03-21</td>\n",
              "      <td>2010</td>\n",
              "      <td>20:45:00</td>\n",
              "      <td>SIM</td>\n",
              "      <td>FINALIZADA</td>\n",
              "      <td>1</td>\n",
              "      <td>NÃO</td>\n",
              "      <td>AVIÃO</td>\n",
              "      <td>XAVANTE</td>\n",
              "      <td>PISTÃO</td>\n",
              "      <td>MONOMOTOR</td>\n",
              "      <td>2</td>\n",
              "      <td>1974</td>\n",
              "      <td>BRASIL</td>\n",
              "      <td>DECOLAGEM</td>\n",
              "      <td>DESTRUÍDA</td>\n",
              "    </tr>\n",
              "    <tr>\n",
              "      <th>40150</th>\n",
              "      <td>INCIDENTE GRAVE</td>\n",
              "      <td>COM TREM DE POUSO</td>\n",
              "      <td>SANTA MARIA</td>\n",
              "      <td>RS</td>\n",
              "      <td>2010-03-10</td>\n",
              "      <td>2010</td>\n",
              "      <td>17:20:00</td>\n",
              "      <td>SIM</td>\n",
              "      <td>FINALIZADA</td>\n",
              "      <td>1</td>\n",
              "      <td>NÃO</td>\n",
              "      <td>AVIÃO</td>\n",
              "      <td>BEECH AIRCRAFT</td>\n",
              "      <td>PISTÃO</td>\n",
              "      <td>MONOMOTOR</td>\n",
              "      <td>6</td>\n",
              "      <td>1974</td>\n",
              "      <td>BRASIL</td>\n",
              "      <td>POUSO</td>\n",
              "      <td>LEVE</td>\n",
              "    </tr>\n",
              "    <tr>\n",
              "      <th>...</th>\n",
              "      <td>...</td>\n",
              "      <td>...</td>\n",
              "      <td>...</td>\n",
              "      <td>...</td>\n",
              "      <td>...</td>\n",
              "      <td>...</td>\n",
              "      <td>...</td>\n",
              "      <td>...</td>\n",
              "      <td>...</td>\n",
              "      <td>...</td>\n",
              "      <td>...</td>\n",
              "      <td>...</td>\n",
              "      <td>...</td>\n",
              "      <td>...</td>\n",
              "      <td>...</td>\n",
              "      <td>...</td>\n",
              "      <td>...</td>\n",
              "      <td>...</td>\n",
              "      <td>...</td>\n",
              "      <td>...</td>\n",
              "    </tr>\n",
              "    <tr>\n",
              "      <th>79117</th>\n",
              "      <td>ACIDENTE</td>\n",
              "      <td>INDETERMINADO</td>\n",
              "      <td>ASSIS BRASIL</td>\n",
              "      <td>AC</td>\n",
              "      <td>2019-10-23</td>\n",
              "      <td>2019</td>\n",
              "      <td>15:00:00</td>\n",
              "      <td>SIM</td>\n",
              "      <td>FINALIZADA</td>\n",
              "      <td>1</td>\n",
              "      <td>NÃO</td>\n",
              "      <td>INDETERMINADO</td>\n",
              "      <td>FABRICANTE DESCONHECIDO</td>\n",
              "      <td>INDETERMINADO</td>\n",
              "      <td>INDETERMINADO</td>\n",
              "      <td>0</td>\n",
              "      <td>0</td>\n",
              "      <td>BRASIL</td>\n",
              "      <td>INDETERMINADO</td>\n",
              "      <td>DESTRUÍDA</td>\n",
              "    </tr>\n",
              "    <tr>\n",
              "      <th>79119</th>\n",
              "      <td>ACIDENTE</td>\n",
              "      <td>INDETERMINADO</td>\n",
              "      <td>SÃO JOSÉ DO RIO CLARO</td>\n",
              "      <td>MT</td>\n",
              "      <td>2019-10-11</td>\n",
              "      <td>2019</td>\n",
              "      <td>10:00:00</td>\n",
              "      <td>SIM</td>\n",
              "      <td>FINALIZADA</td>\n",
              "      <td>1</td>\n",
              "      <td>NÃO</td>\n",
              "      <td>INDETERMINADO</td>\n",
              "      <td>FABRICANTE DESCONHECIDO</td>\n",
              "      <td>INDETERMINADO</td>\n",
              "      <td>INDETERMINADO</td>\n",
              "      <td>0</td>\n",
              "      <td>0</td>\n",
              "      <td>BRASIL</td>\n",
              "      <td>INDETERMINADO</td>\n",
              "      <td>DESTRUÍDA</td>\n",
              "    </tr>\n",
              "    <tr>\n",
              "      <th>79123</th>\n",
              "      <td>ACIDENTE</td>\n",
              "      <td>INDETERMINADO</td>\n",
              "      <td>ANTONINA</td>\n",
              "      <td>PR</td>\n",
              "      <td>2019-09-21</td>\n",
              "      <td>2019</td>\n",
              "      <td>18:30:00</td>\n",
              "      <td>SIM</td>\n",
              "      <td>FINALIZADA</td>\n",
              "      <td>1</td>\n",
              "      <td>NÃO</td>\n",
              "      <td>TRIKE</td>\n",
              "      <td>INDETERMINADO</td>\n",
              "      <td>INDETERMINADO</td>\n",
              "      <td>SEM TRAÇÃO</td>\n",
              "      <td>0</td>\n",
              "      <td>0</td>\n",
              "      <td>BRASIL</td>\n",
              "      <td>DECOLAGEM</td>\n",
              "      <td>SUBSTANCIAL</td>\n",
              "    </tr>\n",
              "    <tr>\n",
              "      <th>79203</th>\n",
              "      <td>INCIDENTE</td>\n",
              "      <td>FALHA OU MAU FUNCIONAMENTO DE SISTEMA / COMPON...</td>\n",
              "      <td>FLORIANÓPOLIS</td>\n",
              "      <td>SC</td>\n",
              "      <td>2019-12-20</td>\n",
              "      <td>2019</td>\n",
              "      <td>16:37:00</td>\n",
              "      <td>SIM</td>\n",
              "      <td>FINALIZADA</td>\n",
              "      <td>1</td>\n",
              "      <td>NÃO</td>\n",
              "      <td>AVIÃO</td>\n",
              "      <td>CESSNA AIRCRAFT</td>\n",
              "      <td>PISTÃO</td>\n",
              "      <td>MONOMOTOR</td>\n",
              "      <td>2</td>\n",
              "      <td>1980</td>\n",
              "      <td>BRASIL</td>\n",
              "      <td>CORRIDA APÓS POUSO</td>\n",
              "      <td>LEVE</td>\n",
              "    </tr>\n",
              "    <tr>\n",
              "      <th>79227</th>\n",
              "      <td>ACIDENTE</td>\n",
              "      <td>OUTROS</td>\n",
              "      <td>NOVO PROGRESSO</td>\n",
              "      <td>PA</td>\n",
              "      <td>2017-01-20</td>\n",
              "      <td>2017</td>\n",
              "      <td>16:24:00</td>\n",
              "      <td>SIM</td>\n",
              "      <td>FINALIZADA</td>\n",
              "      <td>1</td>\n",
              "      <td>NÃO</td>\n",
              "      <td>AVIÃO</td>\n",
              "      <td>PIPER AIRCRAFT</td>\n",
              "      <td>PISTÃO</td>\n",
              "      <td>BIMOTOR</td>\n",
              "      <td>8</td>\n",
              "      <td>1974</td>\n",
              "      <td>BRASIL</td>\n",
              "      <td>POUSO</td>\n",
              "      <td>SUBSTANCIAL</td>\n",
              "    </tr>\n",
              "  </tbody>\n",
              "</table>\n",
              "<p>5242 rows × 20 columns</p>\n",
              "</div>\n",
              "      <button class=\"colab-df-convert\" onclick=\"convertToInteractive('df-6959f20a-7f21-4d90-97b7-3057cfcfd234')\"\n",
              "              title=\"Convert this dataframe to an interactive table.\"\n",
              "              style=\"display:none;\">\n",
              "        \n",
              "  <svg xmlns=\"http://www.w3.org/2000/svg\" height=\"24px\"viewBox=\"0 0 24 24\"\n",
              "       width=\"24px\">\n",
              "    <path d=\"M0 0h24v24H0V0z\" fill=\"none\"/>\n",
              "    <path d=\"M18.56 5.44l.94 2.06.94-2.06 2.06-.94-2.06-.94-.94-2.06-.94 2.06-2.06.94zm-11 1L8.5 8.5l.94-2.06 2.06-.94-2.06-.94L8.5 2.5l-.94 2.06-2.06.94zm10 10l.94 2.06.94-2.06 2.06-.94-2.06-.94-.94-2.06-.94 2.06-2.06.94z\"/><path d=\"M17.41 7.96l-1.37-1.37c-.4-.4-.92-.59-1.43-.59-.52 0-1.04.2-1.43.59L10.3 9.45l-7.72 7.72c-.78.78-.78 2.05 0 2.83L4 21.41c.39.39.9.59 1.41.59.51 0 1.02-.2 1.41-.59l7.78-7.78 2.81-2.81c.8-.78.8-2.07 0-2.86zM5.41 20L4 18.59l7.72-7.72 1.47 1.35L5.41 20z\"/>\n",
              "  </svg>\n",
              "      </button>\n",
              "      \n",
              "  <style>\n",
              "    .colab-df-container {\n",
              "      display:flex;\n",
              "      flex-wrap:wrap;\n",
              "      gap: 12px;\n",
              "    }\n",
              "\n",
              "    .colab-df-convert {\n",
              "      background-color: #E8F0FE;\n",
              "      border: none;\n",
              "      border-radius: 50%;\n",
              "      cursor: pointer;\n",
              "      display: none;\n",
              "      fill: #1967D2;\n",
              "      height: 32px;\n",
              "      padding: 0 0 0 0;\n",
              "      width: 32px;\n",
              "    }\n",
              "\n",
              "    .colab-df-convert:hover {\n",
              "      background-color: #E2EBFA;\n",
              "      box-shadow: 0px 1px 2px rgba(60, 64, 67, 0.3), 0px 1px 3px 1px rgba(60, 64, 67, 0.15);\n",
              "      fill: #174EA6;\n",
              "    }\n",
              "\n",
              "    [theme=dark] .colab-df-convert {\n",
              "      background-color: #3B4455;\n",
              "      fill: #D2E3FC;\n",
              "    }\n",
              "\n",
              "    [theme=dark] .colab-df-convert:hover {\n",
              "      background-color: #434B5C;\n",
              "      box-shadow: 0px 1px 3px 1px rgba(0, 0, 0, 0.15);\n",
              "      filter: drop-shadow(0px 1px 2px rgba(0, 0, 0, 0.3));\n",
              "      fill: #FFFFFF;\n",
              "    }\n",
              "  </style>\n",
              "\n",
              "      <script>\n",
              "        const buttonEl =\n",
              "          document.querySelector('#df-6959f20a-7f21-4d90-97b7-3057cfcfd234 button.colab-df-convert');\n",
              "        buttonEl.style.display =\n",
              "          google.colab.kernel.accessAllowed ? 'block' : 'none';\n",
              "\n",
              "        async function convertToInteractive(key) {\n",
              "          const element = document.querySelector('#df-6959f20a-7f21-4d90-97b7-3057cfcfd234');\n",
              "          const dataTable =\n",
              "            await google.colab.kernel.invokeFunction('convertToInteractive',\n",
              "                                                     [key], {});\n",
              "          if (!dataTable) return;\n",
              "\n",
              "          const docLinkHtml = 'Like what you see? Visit the ' +\n",
              "            '<a target=\"_blank\" href=https://colab.research.google.com/notebooks/data_table.ipynb>data table notebook</a>'\n",
              "            + ' to learn more about interactive tables.';\n",
              "          element.innerHTML = '';\n",
              "          dataTable['output_type'] = 'display_data';\n",
              "          await google.colab.output.renderOutput(dataTable, element);\n",
              "          const docLink = document.createElement('div');\n",
              "          docLink.innerHTML = docLinkHtml;\n",
              "          element.appendChild(docLink);\n",
              "        }\n",
              "      </script>\n",
              "    </div>\n",
              "  </div>\n",
              "  "
            ]
          },
          "metadata": {},
          "execution_count": 95
        }
      ]
    },
    {
      "cell_type": "code",
      "source": [
        "# Lista por completo o Número de Linhas e Colunas\n",
        "\n",
        "print('Linhas.:', df_ocorrencia_csv.shape[0])\n",
        "print('Colunas:', df_ocorrencia_csv.shape[1])"
      ],
      "metadata": {
        "id": "dTPr5Rhj7yLj",
        "colab": {
          "base_uri": "https://localhost:8080/"
        },
        "outputId": "4985b3ce-f205-4f98-b9bb-4a4d8614509a"
      },
      "execution_count": 96,
      "outputs": [
        {
          "output_type": "stream",
          "name": "stdout",
          "text": [
            "Linhas.: 5242\n",
            "Colunas: 20\n"
          ]
        }
      ]
    },
    {
      "cell_type": "code",
      "source": [
        "#Listagem das Colunas do arquivo 'ocorrencia.csv'\n",
        "\n",
        "df_ocorrencia_csv.columns"
      ],
      "metadata": {
        "id": "5Xu81lADK2hL",
        "colab": {
          "base_uri": "https://localhost:8080/"
        },
        "outputId": "41d29848-b6a4-45d4-f312-45b4742ecfb1"
      },
      "execution_count": 55,
      "outputs": [
        {
          "output_type": "execute_result",
          "data": {
            "text/plain": [
              "Index(['tipo', 'descricao', 'cidade', 'estado', 'data', 'ano', 'hora',\n",
              "       'aeronave_liberada', 'status_investigacao', 'aeronaves_envolvidas',\n",
              "       'ocorrencia_saida_pista', 'aeronave_tipo', 'aeronave_fabricante',\n",
              "       'motor_tipo', 'aeronave_motor_quantidade', 'aeronave_assentos',\n",
              "       'aeronave_ano_fabricacao', 'aeronave_pais_fabricante',\n",
              "       'aeronave_fase_operacao', 'aeronave_nivel_dano'],\n",
              "      dtype='object')"
            ]
          },
          "metadata": {},
          "execution_count": 55
        }
      ]
    },
    {
      "cell_type": "markdown",
      "source": [
        "## Resumo do DataFrame\n",
        "\n",
        "Apesar de ser possível identificar os tipos de cada coluna usando `info()`, você pode extrair apenas essa informação com o atributo `dtypes`. \n",
        "\n",
        "Tipos das variáveis é uma informação importante para você colocar no seu Dicionário de Variáveis de um projeto, pois garante uma boa prática de documentação do projeto."
      ],
      "metadata": {
        "id": "hY_OvRCqRfxc"
      }
    },
    {
      "cell_type": "code",
      "source": [
        "df_ocorrencia_csv.info()"
      ],
      "metadata": {
        "id": "CRenTva27ieB",
        "colab": {
          "base_uri": "https://localhost:8080/"
        },
        "outputId": "51b0bd4b-b6ab-4b64-920b-9dc59e2034c5"
      },
      "execution_count": 56,
      "outputs": [
        {
          "output_type": "stream",
          "name": "stdout",
          "text": [
            "<class 'pandas.core.frame.DataFrame'>\n",
            "Int64Index: 5242 entries, 40107 to 79227\n",
            "Data columns (total 20 columns):\n",
            " #   Column                     Non-Null Count  Dtype \n",
            "---  ------                     --------------  ----- \n",
            " 0   tipo                       5242 non-null   object\n",
            " 1   descricao                  5242 non-null   object\n",
            " 2   cidade                     5242 non-null   object\n",
            " 3   estado                     5242 non-null   object\n",
            " 4   data                       5242 non-null   object\n",
            " 5   ano                        5242 non-null   int64 \n",
            " 6   hora                       5242 non-null   object\n",
            " 7   aeronave_liberada          5242 non-null   object\n",
            " 8   status_investigacao        5242 non-null   object\n",
            " 9   aeronaves_envolvidas       5242 non-null   int64 \n",
            " 10  ocorrencia_saida_pista     5242 non-null   object\n",
            " 11  aeronave_tipo              5242 non-null   object\n",
            " 12  aeronave_fabricante        5242 non-null   object\n",
            " 13  motor_tipo                 5242 non-null   object\n",
            " 14  aeronave_motor_quantidade  5242 non-null   object\n",
            " 15  aeronave_assentos          5242 non-null   int64 \n",
            " 16  aeronave_ano_fabricacao    5242 non-null   int64 \n",
            " 17  aeronave_pais_fabricante   5242 non-null   object\n",
            " 18  aeronave_fase_operacao     5242 non-null   object\n",
            " 19  aeronave_nivel_dano        5242 non-null   object\n",
            "dtypes: int64(4), object(16)\n",
            "memory usage: 860.0+ KB\n"
          ]
        }
      ]
    },
    {
      "cell_type": "markdown",
      "source": [
        "## Identificar o tipo de cada coluna\n",
        "Apesar de ser possível identificar os tipos de cada coluna usando info(), você pode extrair apenas essa informação com o atributo dtypes.\n",
        "\n",
        "Tipos das variáveis é uma informação importante para você colocar no seu Dicionário de Variáveis de um projeto, pois garante uma boa prática de documentação do projeto."
      ],
      "metadata": {
        "id": "ZE9HVE0FRx1h"
      }
    },
    {
      "cell_type": "code",
      "source": [
        "df_ocorrencia_csv.dtypes"
      ],
      "metadata": {
        "id": "LaxIsQlWKk_a",
        "colab": {
          "base_uri": "https://localhost:8080/"
        },
        "outputId": "1b426efa-9bef-4f30-d431-088edc93c14d"
      },
      "execution_count": 57,
      "outputs": [
        {
          "output_type": "execute_result",
          "data": {
            "text/plain": [
              "tipo                         object\n",
              "descricao                    object\n",
              "cidade                       object\n",
              "estado                       object\n",
              "data                         object\n",
              "ano                           int64\n",
              "hora                         object\n",
              "aeronave_liberada            object\n",
              "status_investigacao          object\n",
              "aeronaves_envolvidas          int64\n",
              "ocorrencia_saida_pista       object\n",
              "aeronave_tipo                object\n",
              "aeronave_fabricante          object\n",
              "motor_tipo                   object\n",
              "aeronave_motor_quantidade    object\n",
              "aeronave_assentos             int64\n",
              "aeronave_ano_fabricacao       int64\n",
              "aeronave_pais_fabricante     object\n",
              "aeronave_fase_operacao       object\n",
              "aeronave_nivel_dano          object\n",
              "dtype: object"
            ]
          },
          "metadata": {},
          "execution_count": 57
        }
      ]
    },
    {
      "cell_type": "code",
      "source": [
        "# identificar os tipos de variáveis\n",
        "\n",
        "df.dtypes"
      ],
      "metadata": {
        "colab": {
          "base_uri": "https://localhost:8080/"
        },
        "id": "vBcYP0mHSAve",
        "outputId": "b5610b30-9e03-4e86-d7a0-1ff796acd965"
      },
      "execution_count": 58,
      "outputs": [
        {
          "output_type": "execute_result",
          "data": {
            "text/plain": [
              "codigo                        int64\n",
              "tipo                         object\n",
              "descricao                    object\n",
              "cidade                       object\n",
              "estado                       object\n",
              "data                         object\n",
              "ano                           int64\n",
              "hora                         object\n",
              "aeronave_liberada            object\n",
              "status_investigacao          object\n",
              "aeronaves_envolvidas          int64\n",
              "ocorrencia_saida_pista       object\n",
              "aeronave_tipo                object\n",
              "aeronave_fabricante          object\n",
              "motor_tipo                   object\n",
              "aeronave_motor_quantidade    object\n",
              "aeronave_assentos             int64\n",
              "aeronave_ano_fabricacao       int64\n",
              "aeronave_pais_fabricante     object\n",
              "aeronave_fase_operacao       object\n",
              "aeronave_nivel_dano          object\n",
              "dtype: object"
            ]
          },
          "metadata": {},
          "execution_count": 58
        }
      ]
    },
    {
      "cell_type": "markdown",
      "source": [
        "## Valores únicos\n",
        "\n",
        "Para ver quais são todos os valroes únicos de uma coluna, é conveniente usar o método `unique()`.\n",
        "\n"
      ],
      "metadata": {
        "id": "eCY7ZO_eSIbP"
      }
    },
    {
      "cell_type": "code",
      "source": [
        "df.tipo.unique()"
      ],
      "metadata": {
        "colab": {
          "base_uri": "https://localhost:8080/"
        },
        "id": "qGwKMfaxSGQq",
        "outputId": "f41cd7ba-0cae-4f49-9946-380765a79e0e"
      },
      "execution_count": 59,
      "outputs": [
        {
          "output_type": "execute_result",
          "data": {
            "text/plain": [
              "array(['ACIDENTE', 'INCIDENTE GRAVE', 'INCIDENTE'], dtype=object)"
            ]
          },
          "metadata": {},
          "execution_count": 59
        }
      ]
    },
    {
      "cell_type": "code",
      "source": [
        "df.descricao.unique()"
      ],
      "metadata": {
        "colab": {
          "base_uri": "https://localhost:8080/"
        },
        "id": "3wzhzDYvS5x4",
        "outputId": "b4c65127-a965-49f0-8731-cb8e14780baf"
      },
      "execution_count": 60,
      "outputs": [
        {
          "output_type": "execute_result",
          "data": {
            "text/plain": [
              "array(['COLISÃO COM OBSTÁCULO DURANTE A DECOLAGEM E POUSO',\n",
              "       'FALHA OU MAU FUNCIONAMENTO DE SISTEMA / COMPONENTE', 'PANE SECA',\n",
              "       'FALHA DO MOTOR EM VOO', 'COM TREM DE POUSO', 'ESTOURO DE PNEU',\n",
              "       'OUTROS', 'TRÁFEGO AÉREO', 'FALHA DO MOTOR NO SOLO',\n",
              "       'POUSO EM LOCAL NÃO PREVISTO', 'VAZAMENTO DE OUTROS FLUIDOS',\n",
              "       'COLISÃO COM AVE', 'PERDA DE CONTROLE NO SOLO',\n",
              "       'PERDA DE CONTROLE EM VOO', 'COLISÃO COM OBSTÁCULOS NO SOLO',\n",
              "       'POUSO SEM TREM', 'FOGO NO SOLO', 'VAZAMENTO DE COMBUSTÍVEL',\n",
              "       'FOGO EM VOO', 'SUPERAQUECIMENTO', 'POUSO ANTES DA PISTA',\n",
              "       'POUSO BRUSCO', 'OPERAÇÃO A BAIXA ALTITUDE', 'F.O.D.',\n",
              "       'CAUSADO POR FENÔMENO METEOROLÓGICO EM VOO',\n",
              "       'COM PARA-BRISAS / JANELA / PORTA', 'PROBLEMAS FISIOLÓGICOS',\n",
              "       'EXCURSÃO DE PISTA', 'POUSO LONGO', 'INDETERMINADO',\n",
              "       'PERDA DE COMPONENTE NO SOLO',\n",
              "       'DESCOMPRESSÃO NÃO INTENCIONAL / EXPLOSIVA', 'SOPRO DE REATOR',\n",
              "       'PERDA DE COMPONENTE EM VOO', 'COM COMANDOS DE VOO',\n",
              "       'VOO CONTROLADO CONTRA O TERRENO', 'AERONAVE ATINGIDA POR OBJETO',\n",
              "       'ALARME FALSO DE FOGO OU DE SUPERAQUECIMENTO',\n",
              "       'COLISÃO COM AERONAVE NO SOLO', 'COM LANÇAMENTO DE CARGA',\n",
              "       'COM ROTOR', 'COM HÉLICE', 'FALHA ESTRUTURAL',\n",
              "       'CORTE INVOLUNTÁRIO DO MOTOR', 'COLISÃO DE AERONAVES EM VOO',\n",
              "       'SAÍDA DE PISTA', 'DESORIENTAÇÃO ESPACIAL', 'FUMAÇA NA CABINE',\n",
              "       'COM TRANSPORTE DE CARGA', 'COM PESSOAL EM VOO',\n",
              "       'COM LANÇAMENTO DE PESSOAS',\n",
              "       'CAUSADO POR FENÔMENO METEOROLÓGICO NO SOLO', 'SOPRO DE ROTOR',\n",
              "       'COLISÃO DE VEÍCULO COM AERONAVE', 'OPERAÇÕES NO SOLO',\n",
              "       'FORMAÇÃO DE GELO', 'COLISÃO COM FAUNA', 'MANOBRA ABRUPTA',\n",
              "       'HIPÓXIA', 'COMBUSTÍVEL', 'INCURSÃO EM PISTA',\n",
              "       'PERDA DA CONSCIÊNCIA', 'RELACIONADO COM SECURITY',\n",
              "       'CONTATO ANORMAL COM A PISTA',\n",
              "       'FALHA OU MAU FUNCIONAMENTO DO MOTOR',\n",
              "       'CORTANTE DE VENTO / TEMPESTADE', 'AERÓDROMO', 'TURBULÊNCIA',\n",
              "       'CAUSADO POR RICOCHETE',\n",
              "       'GERENCIAMENTO DE TRÁFEGO AÉREO (ATM) / SERVIÇO DE COMUNICAÇÃO NAVEGAÇÃO, OU VIGILÂNCIA (CNS)',\n",
              "       'IMC NÃO INTENCIONAL', 'POUSO AQUÉM/ALÉM DA PISTA',\n",
              "       'PERDA DE SEPARAÇÃO / COLISÃO EM VOO', 'EXPLOSÃO',\n",
              "       'FOGO/FUMAÇA (SEM IMPACTO)'], dtype=object)"
            ]
          },
          "metadata": {},
          "execution_count": 60
        }
      ]
    },
    {
      "cell_type": "code",
      "source": [
        "df.tipo.value_counts()"
      ],
      "metadata": {
        "colab": {
          "base_uri": "https://localhost:8080/"
        },
        "id": "zBU-QB92TK6f",
        "outputId": "69df27c8-051b-4c4b-d720-e12ee69a57b7"
      },
      "execution_count": 61,
      "outputs": [
        {
          "output_type": "execute_result",
          "data": {
            "text/plain": [
              "INCIDENTE          2887\n",
              "ACIDENTE           1694\n",
              "INCIDENTE GRAVE     661\n",
              "Name: tipo, dtype: int64"
            ]
          },
          "metadata": {},
          "execution_count": 61
        }
      ]
    },
    {
      "cell_type": "code",
      "source": [
        "df.descricao.value_counts()"
      ],
      "metadata": {
        "colab": {
          "base_uri": "https://localhost:8080/"
        },
        "id": "x8vYtVYhTODV",
        "outputId": "ce6f19a8-d28f-4699-bff2-e3c60fbc74ec"
      },
      "execution_count": 62,
      "outputs": [
        {
          "output_type": "execute_result",
          "data": {
            "text/plain": [
              "FALHA DO MOTOR EM VOO                                                                           632\n",
              "ESTOURO DE PNEU                                                                                 566\n",
              "FALHA OU MAU FUNCIONAMENTO DE SISTEMA / COMPONENTE                                              540\n",
              "PERDA DE CONTROLE NO SOLO                                                                       427\n",
              "PERDA DE CONTROLE EM VOO                                                                        333\n",
              "OUTROS                                                                                          314\n",
              "COM TREM DE POUSO                                                                               291\n",
              "COLISÃO COM AVE                                                                                 271\n",
              "COLISÃO COM OBSTÁCULO DURANTE A DECOLAGEM E POUSO                                               168\n",
              "TRÁFEGO AÉREO                                                                                   120\n",
              "INDETERMINADO                                                                                   104\n",
              "COLISÃO COM OBSTÁCULOS NO SOLO                                                                  100\n",
              "CAUSADO POR FENÔMENO METEOROLÓGICO EM VOO                                                       100\n",
              "POUSO EM LOCAL NÃO PREVISTO                                                                      99\n",
              "PANE SECA                                                                                        96\n",
              "POUSO BRUSCO                                                                                     93\n",
              "POUSO SEM TREM                                                                                   85\n",
              "EXCURSÃO DE PISTA                                                                                63\n",
              "COM PARA-BRISAS / JANELA / PORTA                                                                 62\n",
              "OPERAÇÃO A BAIXA ALTITUDE                                                                        57\n",
              "PERDA DE COMPONENTE EM VOO                                                                       55\n",
              "VAZAMENTO DE OUTROS FLUIDOS                                                                      55\n",
              "POUSO LONGO                                                                                      52\n",
              "F.O.D.                                                                                           40\n",
              "DESCOMPRESSÃO NÃO INTENCIONAL / EXPLOSIVA                                                        39\n",
              "VOO CONTROLADO CONTRA O TERRENO                                                                  32\n",
              "FALHA DO MOTOR NO SOLO                                                                           25\n",
              "COM COMANDOS DE VOO                                                                              24\n",
              "FUMAÇA NA CABINE                                                                                 24\n",
              "PERDA DE COMPONENTE NO SOLO                                                                      23\n",
              "FALHA OU MAU FUNCIONAMENTO DO MOTOR                                                              22\n",
              "FOGO NO SOLO                                                                                     21\n",
              "COLISÃO COM AERONAVE NO SOLO                                                                     20\n",
              "COM HÉLICE                                                                                       19\n",
              "COM ROTOR                                                                                        16\n",
              "VAZAMENTO DE COMBUSTÍVEL                                                                         16\n",
              "COLISÃO COM FAUNA                                                                                14\n",
              "POUSO ANTES DA PISTA                                                                             14\n",
              "SUPERAQUECIMENTO                                                                                 14\n",
              "SOPRO DE REATOR                                                                                  14\n",
              "INCURSÃO EM PISTA                                                                                12\n",
              "COLISÃO DE AERONAVES EM VOO                                                                      11\n",
              "CAUSADO POR FENÔMENO METEOROLÓGICO NO SOLO                                                       11\n",
              "AERONAVE ATINGIDA POR OBJETO                                                                     10\n",
              "ALARME FALSO DE FOGO OU DE SUPERAQUECIMENTO                                                       9\n",
              "PROBLEMAS FISIOLÓGICOS                                                                            9\n",
              "FALHA ESTRUTURAL                                                                                  9\n",
              "DESORIENTAÇÃO ESPACIAL                                                                            8\n",
              "COMBUSTÍVEL                                                                                       8\n",
              "COM LANÇAMENTO DE CARGA                                                                           8\n",
              "COLISÃO DE VEÍCULO COM AERONAVE                                                                   7\n",
              "FOGO EM VOO                                                                                       7\n",
              "SAÍDA DE PISTA                                                                                    7\n",
              "CORTE INVOLUNTÁRIO DO MOTOR                                                                       7\n",
              "GERENCIAMENTO DE TRÁFEGO AÉREO (ATM) / SERVIÇO DE COMUNICAÇÃO NAVEGAÇÃO, OU VIGILÂNCIA (CNS)      6\n",
              "TURBULÊNCIA                                                                                       6\n",
              "AERÓDROMO                                                                                         6\n",
              "CONTATO ANORMAL COM A PISTA                                                                       5\n",
              "MANOBRA ABRUPTA                                                                                   5\n",
              "COM PESSOAL EM VOO                                                                                4\n",
              "OPERAÇÕES NO SOLO                                                                                 4\n",
              "SOPRO DE ROTOR                                                                                    3\n",
              "PERDA DA CONSCIÊNCIA                                                                              2\n",
              "COM TRANSPORTE DE CARGA                                                                           2\n",
              "CORTANTE DE VENTO / TEMPESTADE                                                                    2\n",
              "COM LANÇAMENTO DE PESSOAS                                                                         2\n",
              "FORMAÇÃO DE GELO                                                                                  2\n",
              "POUSO AQUÉM/ALÉM DA PISTA                                                                         2\n",
              "FOGO/FUMAÇA (SEM IMPACTO)                                                                         2\n",
              "RELACIONADO COM SECURITY                                                                          1\n",
              "HIPÓXIA                                                                                           1\n",
              "CAUSADO POR RICOCHETE                                                                             1\n",
              "IMC NÃO INTENCIONAL                                                                               1\n",
              "PERDA DE SEPARAÇÃO / COLISÃO EM VOO                                                               1\n",
              "EXPLOSÃO                                                                                          1\n",
              "Name: descricao, dtype: int64"
            ]
          },
          "metadata": {},
          "execution_count": 62
        }
      ]
    },
    {
      "cell_type": "code",
      "source": [
        "df.tipo.value_counts() / df.shape[0]"
      ],
      "metadata": {
        "colab": {
          "base_uri": "https://localhost:8080/"
        },
        "id": "vv_S5-9bTkak",
        "outputId": "2fbbe8cf-4951-466a-e648-15e500ae478d"
      },
      "execution_count": 63,
      "outputs": [
        {
          "output_type": "execute_result",
          "data": {
            "text/plain": [
              "INCIDENTE          0.550744\n",
              "ACIDENTE           0.323159\n",
              "INCIDENTE GRAVE    0.126097\n",
              "Name: tipo, dtype: float64"
            ]
          },
          "metadata": {},
          "execution_count": 63
        }
      ]
    },
    {
      "cell_type": "code",
      "source": [
        "df.descricao.value_counts() / df.shape[0]"
      ],
      "metadata": {
        "colab": {
          "base_uri": "https://localhost:8080/"
        },
        "id": "VEMa54ZaTpO6",
        "outputId": "b58b10b8-7d4b-4f9b-f3ec-4f6d286ad15e"
      },
      "execution_count": 64,
      "outputs": [
        {
          "output_type": "execute_result",
          "data": {
            "text/plain": [
              "FALHA DO MOTOR EM VOO                                                                           0.120565\n",
              "ESTOURO DE PNEU                                                                                 0.107974\n",
              "FALHA OU MAU FUNCIONAMENTO DE SISTEMA / COMPONENTE                                              0.103014\n",
              "PERDA DE CONTROLE NO SOLO                                                                       0.081457\n",
              "PERDA DE CONTROLE EM VOO                                                                        0.063525\n",
              "OUTROS                                                                                          0.059901\n",
              "COM TREM DE POUSO                                                                               0.055513\n",
              "COLISÃO COM AVE                                                                                 0.051698\n",
              "COLISÃO COM OBSTÁCULO DURANTE A DECOLAGEM E POUSO                                               0.032049\n",
              "TRÁFEGO AÉREO                                                                                   0.022892\n",
              "INDETERMINADO                                                                                   0.019840\n",
              "COLISÃO COM OBSTÁCULOS NO SOLO                                                                  0.019077\n",
              "CAUSADO POR FENÔMENO METEOROLÓGICO EM VOO                                                       0.019077\n",
              "POUSO EM LOCAL NÃO PREVISTO                                                                     0.018886\n",
              "PANE SECA                                                                                       0.018314\n",
              "POUSO BRUSCO                                                                                    0.017741\n",
              "POUSO SEM TREM                                                                                  0.016215\n",
              "EXCURSÃO DE PISTA                                                                               0.012018\n",
              "COM PARA-BRISAS / JANELA / PORTA                                                                0.011828\n",
              "OPERAÇÃO A BAIXA ALTITUDE                                                                       0.010874\n",
              "PERDA DE COMPONENTE EM VOO                                                                      0.010492\n",
              "VAZAMENTO DE OUTROS FLUIDOS                                                                     0.010492\n",
              "POUSO LONGO                                                                                     0.009920\n",
              "F.O.D.                                                                                          0.007631\n",
              "DESCOMPRESSÃO NÃO INTENCIONAL / EXPLOSIVA                                                       0.007440\n",
              "VOO CONTROLADO CONTRA O TERRENO                                                                 0.006105\n",
              "FALHA DO MOTOR NO SOLO                                                                          0.004769\n",
              "COM COMANDOS DE VOO                                                                             0.004578\n",
              "FUMAÇA NA CABINE                                                                                0.004578\n",
              "PERDA DE COMPONENTE NO SOLO                                                                     0.004388\n",
              "FALHA OU MAU FUNCIONAMENTO DO MOTOR                                                             0.004197\n",
              "FOGO NO SOLO                                                                                    0.004006\n",
              "COLISÃO COM AERONAVE NO SOLO                                                                    0.003815\n",
              "COM HÉLICE                                                                                      0.003625\n",
              "COM ROTOR                                                                                       0.003052\n",
              "VAZAMENTO DE COMBUSTÍVEL                                                                        0.003052\n",
              "COLISÃO COM FAUNA                                                                               0.002671\n",
              "POUSO ANTES DA PISTA                                                                            0.002671\n",
              "SUPERAQUECIMENTO                                                                                0.002671\n",
              "SOPRO DE REATOR                                                                                 0.002671\n",
              "INCURSÃO EM PISTA                                                                               0.002289\n",
              "COLISÃO DE AERONAVES EM VOO                                                                     0.002098\n",
              "CAUSADO POR FENÔMENO METEOROLÓGICO NO SOLO                                                      0.002098\n",
              "AERONAVE ATINGIDA POR OBJETO                                                                    0.001908\n",
              "ALARME FALSO DE FOGO OU DE SUPERAQUECIMENTO                                                     0.001717\n",
              "PROBLEMAS FISIOLÓGICOS                                                                          0.001717\n",
              "FALHA ESTRUTURAL                                                                                0.001717\n",
              "DESORIENTAÇÃO ESPACIAL                                                                          0.001526\n",
              "COMBUSTÍVEL                                                                                     0.001526\n",
              "COM LANÇAMENTO DE CARGA                                                                         0.001526\n",
              "COLISÃO DE VEÍCULO COM AERONAVE                                                                 0.001335\n",
              "FOGO EM VOO                                                                                     0.001335\n",
              "SAÍDA DE PISTA                                                                                  0.001335\n",
              "CORTE INVOLUNTÁRIO DO MOTOR                                                                     0.001335\n",
              "GERENCIAMENTO DE TRÁFEGO AÉREO (ATM) / SERVIÇO DE COMUNICAÇÃO NAVEGAÇÃO, OU VIGILÂNCIA (CNS)    0.001145\n",
              "TURBULÊNCIA                                                                                     0.001145\n",
              "AERÓDROMO                                                                                       0.001145\n",
              "CONTATO ANORMAL COM A PISTA                                                                     0.000954\n",
              "MANOBRA ABRUPTA                                                                                 0.000954\n",
              "COM PESSOAL EM VOO                                                                              0.000763\n",
              "OPERAÇÕES NO SOLO                                                                               0.000763\n",
              "SOPRO DE ROTOR                                                                                  0.000572\n",
              "PERDA DA CONSCIÊNCIA                                                                            0.000382\n",
              "COM TRANSPORTE DE CARGA                                                                         0.000382\n",
              "CORTANTE DE VENTO / TEMPESTADE                                                                  0.000382\n",
              "COM LANÇAMENTO DE PESSOAS                                                                       0.000382\n",
              "FORMAÇÃO DE GELO                                                                                0.000382\n",
              "POUSO AQUÉM/ALÉM DA PISTA                                                                       0.000382\n",
              "FOGO/FUMAÇA (SEM IMPACTO)                                                                       0.000382\n",
              "RELACIONADO COM SECURITY                                                                        0.000191\n",
              "HIPÓXIA                                                                                         0.000191\n",
              "CAUSADO POR RICOCHETE                                                                           0.000191\n",
              "IMC NÃO INTENCIONAL                                                                             0.000191\n",
              "PERDA DE SEPARAÇÃO / COLISÃO EM VOO                                                             0.000191\n",
              "EXPLOSÃO                                                                                        0.000191\n",
              "Name: descricao, dtype: float64"
            ]
          },
          "metadata": {},
          "execution_count": 64
        }
      ]
    },
    {
      "cell_type": "markdown",
      "source": [
        "---"
      ],
      "metadata": {
        "id": "cQ8wHq2H0wZ-"
      }
    },
    {
      "cell_type": "markdown",
      "source": [
        "# <font color=lighblue> 6.1 - Estatística Básica\n",
        "\n"
      ],
      "metadata": {
        "id": "c-MlZ-MmIWsH"
      }
    },
    {
      "cell_type": "code",
      "source": [
        "# Estatística Básica com Pandas\n",
        "# .describe()\n",
        "df_ocorrencia_csv[['ano', 'aeronaves_envolvidas', 'aeronave_ano_fabricacao']].describe()"
      ],
      "metadata": {
        "id": "QIe8n_JdC493",
        "colab": {
          "base_uri": "https://localhost:8080/",
          "height": 300
        },
        "outputId": "6f62e2fd-255d-453c-ce8f-7ba86d61a8f3"
      },
      "execution_count": 65,
      "outputs": [
        {
          "output_type": "execute_result",
          "data": {
            "text/plain": [
              "               ano  aeronaves_envolvidas  aeronave_ano_fabricacao\n",
              "count  5242.000000           5242.000000              5242.000000\n",
              "mean   2014.180847              1.011828              1863.320870\n",
              "std       2.849750              0.111593               507.051481\n",
              "min    2010.000000              1.000000                 0.000000\n",
              "25%    2012.000000              1.000000              1978.000000\n",
              "50%    2014.000000              1.000000              1992.000000\n",
              "75%    2017.000000              1.000000              2007.000000\n",
              "max    2019.000000              3.000000              9999.000000"
            ],
            "text/html": [
              "\n",
              "  <div id=\"df-8c631abe-7354-43bf-933e-248a5d9986af\">\n",
              "    <div class=\"colab-df-container\">\n",
              "      <div>\n",
              "<style scoped>\n",
              "    .dataframe tbody tr th:only-of-type {\n",
              "        vertical-align: middle;\n",
              "    }\n",
              "\n",
              "    .dataframe tbody tr th {\n",
              "        vertical-align: top;\n",
              "    }\n",
              "\n",
              "    .dataframe thead th {\n",
              "        text-align: right;\n",
              "    }\n",
              "</style>\n",
              "<table border=\"1\" class=\"dataframe\">\n",
              "  <thead>\n",
              "    <tr style=\"text-align: right;\">\n",
              "      <th></th>\n",
              "      <th>ano</th>\n",
              "      <th>aeronaves_envolvidas</th>\n",
              "      <th>aeronave_ano_fabricacao</th>\n",
              "    </tr>\n",
              "  </thead>\n",
              "  <tbody>\n",
              "    <tr>\n",
              "      <th>count</th>\n",
              "      <td>5242.000000</td>\n",
              "      <td>5242.000000</td>\n",
              "      <td>5242.000000</td>\n",
              "    </tr>\n",
              "    <tr>\n",
              "      <th>mean</th>\n",
              "      <td>2014.180847</td>\n",
              "      <td>1.011828</td>\n",
              "      <td>1863.320870</td>\n",
              "    </tr>\n",
              "    <tr>\n",
              "      <th>std</th>\n",
              "      <td>2.849750</td>\n",
              "      <td>0.111593</td>\n",
              "      <td>507.051481</td>\n",
              "    </tr>\n",
              "    <tr>\n",
              "      <th>min</th>\n",
              "      <td>2010.000000</td>\n",
              "      <td>1.000000</td>\n",
              "      <td>0.000000</td>\n",
              "    </tr>\n",
              "    <tr>\n",
              "      <th>25%</th>\n",
              "      <td>2012.000000</td>\n",
              "      <td>1.000000</td>\n",
              "      <td>1978.000000</td>\n",
              "    </tr>\n",
              "    <tr>\n",
              "      <th>50%</th>\n",
              "      <td>2014.000000</td>\n",
              "      <td>1.000000</td>\n",
              "      <td>1992.000000</td>\n",
              "    </tr>\n",
              "    <tr>\n",
              "      <th>75%</th>\n",
              "      <td>2017.000000</td>\n",
              "      <td>1.000000</td>\n",
              "      <td>2007.000000</td>\n",
              "    </tr>\n",
              "    <tr>\n",
              "      <th>max</th>\n",
              "      <td>2019.000000</td>\n",
              "      <td>3.000000</td>\n",
              "      <td>9999.000000</td>\n",
              "    </tr>\n",
              "  </tbody>\n",
              "</table>\n",
              "</div>\n",
              "      <button class=\"colab-df-convert\" onclick=\"convertToInteractive('df-8c631abe-7354-43bf-933e-248a5d9986af')\"\n",
              "              title=\"Convert this dataframe to an interactive table.\"\n",
              "              style=\"display:none;\">\n",
              "        \n",
              "  <svg xmlns=\"http://www.w3.org/2000/svg\" height=\"24px\"viewBox=\"0 0 24 24\"\n",
              "       width=\"24px\">\n",
              "    <path d=\"M0 0h24v24H0V0z\" fill=\"none\"/>\n",
              "    <path d=\"M18.56 5.44l.94 2.06.94-2.06 2.06-.94-2.06-.94-.94-2.06-.94 2.06-2.06.94zm-11 1L8.5 8.5l.94-2.06 2.06-.94-2.06-.94L8.5 2.5l-.94 2.06-2.06.94zm10 10l.94 2.06.94-2.06 2.06-.94-2.06-.94-.94-2.06-.94 2.06-2.06.94z\"/><path d=\"M17.41 7.96l-1.37-1.37c-.4-.4-.92-.59-1.43-.59-.52 0-1.04.2-1.43.59L10.3 9.45l-7.72 7.72c-.78.78-.78 2.05 0 2.83L4 21.41c.39.39.9.59 1.41.59.51 0 1.02-.2 1.41-.59l7.78-7.78 2.81-2.81c.8-.78.8-2.07 0-2.86zM5.41 20L4 18.59l7.72-7.72 1.47 1.35L5.41 20z\"/>\n",
              "  </svg>\n",
              "      </button>\n",
              "      \n",
              "  <style>\n",
              "    .colab-df-container {\n",
              "      display:flex;\n",
              "      flex-wrap:wrap;\n",
              "      gap: 12px;\n",
              "    }\n",
              "\n",
              "    .colab-df-convert {\n",
              "      background-color: #E8F0FE;\n",
              "      border: none;\n",
              "      border-radius: 50%;\n",
              "      cursor: pointer;\n",
              "      display: none;\n",
              "      fill: #1967D2;\n",
              "      height: 32px;\n",
              "      padding: 0 0 0 0;\n",
              "      width: 32px;\n",
              "    }\n",
              "\n",
              "    .colab-df-convert:hover {\n",
              "      background-color: #E2EBFA;\n",
              "      box-shadow: 0px 1px 2px rgba(60, 64, 67, 0.3), 0px 1px 3px 1px rgba(60, 64, 67, 0.15);\n",
              "      fill: #174EA6;\n",
              "    }\n",
              "\n",
              "    [theme=dark] .colab-df-convert {\n",
              "      background-color: #3B4455;\n",
              "      fill: #D2E3FC;\n",
              "    }\n",
              "\n",
              "    [theme=dark] .colab-df-convert:hover {\n",
              "      background-color: #434B5C;\n",
              "      box-shadow: 0px 1px 3px 1px rgba(0, 0, 0, 0.15);\n",
              "      filter: drop-shadow(0px 1px 2px rgba(0, 0, 0, 0.3));\n",
              "      fill: #FFFFFF;\n",
              "    }\n",
              "  </style>\n",
              "\n",
              "      <script>\n",
              "        const buttonEl =\n",
              "          document.querySelector('#df-8c631abe-7354-43bf-933e-248a5d9986af button.colab-df-convert');\n",
              "        buttonEl.style.display =\n",
              "          google.colab.kernel.accessAllowed ? 'block' : 'none';\n",
              "\n",
              "        async function convertToInteractive(key) {\n",
              "          const element = document.querySelector('#df-8c631abe-7354-43bf-933e-248a5d9986af');\n",
              "          const dataTable =\n",
              "            await google.colab.kernel.invokeFunction('convertToInteractive',\n",
              "                                                     [key], {});\n",
              "          if (!dataTable) return;\n",
              "\n",
              "          const docLinkHtml = 'Like what you see? Visit the ' +\n",
              "            '<a target=\"_blank\" href=https://colab.research.google.com/notebooks/data_table.ipynb>data table notebook</a>'\n",
              "            + ' to learn more about interactive tables.';\n",
              "          element.innerHTML = '';\n",
              "          dataTable['output_type'] = 'display_data';\n",
              "          await google.colab.output.renderOutput(dataTable, element);\n",
              "          const docLink = document.createElement('div');\n",
              "          docLink.innerHTML = docLinkHtml;\n",
              "          element.appendChild(docLink);\n",
              "        }\n",
              "      </script>\n",
              "    </div>\n",
              "  </div>\n",
              "  "
            ]
          },
          "metadata": {},
          "execution_count": 65
        }
      ]
    },
    {
      "cell_type": "markdown",
      "source": [
        "## Resumo das informações estatísticas\n",
        "\n",
        "Uma das maneiras mais simples de se iniciar uma análise exploratória das variáveis numéricas é utilizando o método `describe()`.\n",
        "\n",
        "Imediatamente você obtém um resumo contendo algumas das principais informações estatísticas relevantes:\n",
        "\n",
        "* **count** - quantidade de entradas válidas\n",
        "* **mean** - média dos valores\n",
        "* **std** - desvio padrão\n",
        "* **min** - menor valor da coluna\n",
        "* **25%** - percentil 25\n",
        "* **50%** - percentil 50 (e mediana)\n",
        "* **75%** - percentil 75\n",
        "* **max** - maior valor da coluna\n",
        "\n",
        "É possível identificar de cara colunas com valores ausentes e possíveis *outliers* (por exemplo, olhando o valor da mediana e comparando com valores máximos e mínimos)"
      ],
      "metadata": {
        "id": "R0XXQ2cfJWFK"
      }
    },
    {
      "cell_type": "markdown",
      "source": [
        "## Média\n",
        "\n",
        "Se quisermos obter a média de alguma variável numéricas, basta executar o método `mean()` na *Series*. Ou seja, basta selecionar aquele coluna em especial e executar `mean()`."
      ],
      "metadata": {
        "id": "u895sRmNIRwt"
      }
    },
    {
      "cell_type": "markdown",
      "source": [
        "### Estatística pela Coluna Ano:"
      ],
      "metadata": {
        "id": "IDX8uWJ_I0JO"
      }
    },
    {
      "cell_type": "code",
      "source": [
        "# ver a média da coluna = Ano\n",
        "df.ano.mean()"
      ],
      "metadata": {
        "colab": {
          "base_uri": "https://localhost:8080/"
        },
        "id": "bSjcXVFJIXbK",
        "outputId": "d9d6288d-2505-4489-81b9-107b92aa5e0e"
      },
      "execution_count": 66,
      "outputs": [
        {
          "output_type": "execute_result",
          "data": {
            "text/plain": [
              "2014.18084700496"
            ]
          },
          "metadata": {},
          "execution_count": 66
        }
      ]
    },
    {
      "cell_type": "markdown",
      "source": [
        "### Estatística pela Coluna Aeronaves Envoldidas"
      ],
      "metadata": {
        "id": "lUrFUPpwI6Jt"
      }
    },
    {
      "cell_type": "code",
      "source": [
        "# ver a média da coluna = Aeronaves Envolvidas\n",
        "df.aeronaves_envolvidas.mean()"
      ],
      "metadata": {
        "colab": {
          "base_uri": "https://localhost:8080/"
        },
        "id": "pcP2RR9YIocG",
        "outputId": "eb0d36a6-6355-4d3f-e8c5-5bfebf30fae5"
      },
      "execution_count": 67,
      "outputs": [
        {
          "output_type": "execute_result",
          "data": {
            "text/plain": [
              "1.0118275467378863"
            ]
          },
          "metadata": {},
          "execution_count": 67
        }
      ]
    },
    {
      "cell_type": "markdown",
      "source": [
        "### Estatística pela Coluna Ano de Fabricação"
      ],
      "metadata": {
        "id": "I_OuxrzUI9UU"
      }
    },
    {
      "cell_type": "code",
      "source": [
        "# ver a média da coluna = Aeronave pelo Ano de Fabricação\n",
        "df.aeronave_ano_fabricacao.mean()"
      ],
      "metadata": {
        "colab": {
          "base_uri": "https://localhost:8080/"
        },
        "id": "kZbqkUEnItJt",
        "outputId": "b776b459-1dee-4726-cf62-0c6ad8ea5e37"
      },
      "execution_count": 68,
      "outputs": [
        {
          "output_type": "execute_result",
          "data": {
            "text/plain": [
              "1863.3208698969859"
            ]
          },
          "metadata": {},
          "execution_count": 68
        }
      ]
    },
    {
      "cell_type": "markdown",
      "source": [
        "\n",
        "### Mediana\n",
        "\n",
        "Mediana é o valor que separa a metade maior e a metade menor de um conjunto de dados. Por exemplo, considere o conjunto `meus_dados = [1,1,2,4,9]`.\n",
        "\n",
        "O valor que \"está no meio\" é o número 2. Não confunda com a média, que é a soma de todos os valores dividido pela sua quantidade."
      ],
      "metadata": {
        "id": "GhNxZrL3JMPn"
      }
    },
    {
      "cell_type": "code",
      "source": [
        "# calcular a mediana\n",
        "pd.Series([1,1,2,4,9]).median()"
      ],
      "metadata": {
        "colab": {
          "base_uri": "https://localhost:8080/"
        },
        "id": "kwXPlX2fJv9m",
        "outputId": "e39c8e3f-9321-4111-9fe5-3f40f0b17715"
      },
      "execution_count": 69,
      "outputs": [
        {
          "output_type": "execute_result",
          "data": {
            "text/plain": [
              "2.0"
            ]
          },
          "metadata": {},
          "execution_count": 69
        }
      ]
    },
    {
      "cell_type": "markdown",
      "source": [
        "### Desvio Padrão\n",
        "\n"
      ],
      "metadata": {
        "id": "cVrDC2BkKGtZ"
      }
    },
    {
      "cell_type": "markdown",
      "source": [
        "Desvio padrão é uma medida de dispersão em torno da média populacional de uma variável.\n",
        "\n",
        "$$SD = \\sqrt{\\frac{1}{n}\\sum_{i=1}^{n}(x_i - \\overline{x}) ^ 2}$$\n",
        "\n",
        "Falando simplificadamente, um número alto do desvio padrão indica que os dados estão bem espelhados em relação à sua média. Já um desvio padrão baixo mostra que os valores estão mais agrupados, mais \"juntos\".\n",
        "\n",
        "Por exemplo, na figura abaixo temos um exemplo de valores altos e baixos para o desvio padrão. Em vermelho os dados estão mais próximos à sua média, e em azul estão bem mais espalhados.\n",
        "\n",
        "<center><img src=\"https://upload.wikimedia.org/wikipedia/commons/thumb/f/f9/Comparison_standard_deviations.svg/400px-Comparison_standard_deviations.svg.png\"><center>\n",
        "\n",
        "Para calcular o desvio padrão de qualquer coluna, basta executar o método `std()` para a variável."
      ],
      "metadata": {
        "id": "JzpEaR7wNhIK"
      }
    },
    {
      "cell_type": "code",
      "source": [
        "# calcular o desvio padrão da Coluna Ano\n",
        "df.ano.mean()"
      ],
      "metadata": {
        "colab": {
          "base_uri": "https://localhost:8080/"
        },
        "id": "Wqw9wWeXKNGL",
        "outputId": "6ae278d2-e9e6-457e-ed6c-bd6b76d72eb3"
      },
      "execution_count": 70,
      "outputs": [
        {
          "output_type": "execute_result",
          "data": {
            "text/plain": [
              "2014.18084700496"
            ]
          },
          "metadata": {},
          "execution_count": 70
        }
      ]
    },
    {
      "cell_type": "code",
      "source": [
        "# calcular o desvio padrão da Coluna Aeronaves Envoldidas\n",
        "df.aeronaves_envolvidas.mean()"
      ],
      "metadata": {
        "colab": {
          "base_uri": "https://localhost:8080/"
        },
        "id": "BiWL0w1vKR52",
        "outputId": "50eaf674-6a7b-47db-b5cb-c04c7bff672d"
      },
      "execution_count": 71,
      "outputs": [
        {
          "output_type": "execute_result",
          "data": {
            "text/plain": [
              "1.0118275467378863"
            ]
          },
          "metadata": {},
          "execution_count": 71
        }
      ]
    },
    {
      "cell_type": "code",
      "source": [
        "# calcular o desvio padrão da Coluna Ano de Fabricação\n",
        "df.aeronave_ano_fabricacao.mean()"
      ],
      "metadata": {
        "colab": {
          "base_uri": "https://localhost:8080/"
        },
        "id": "Fq8iYch_Kclk",
        "outputId": "7ef463d5-a304-45c9-a5e4-d90b4375f1bc"
      },
      "execution_count": 72,
      "outputs": [
        {
          "output_type": "execute_result",
          "data": {
            "text/plain": [
              "1863.3208698969859"
            ]
          },
          "metadata": {},
          "execution_count": 72
        }
      ]
    },
    {
      "cell_type": "markdown",
      "source": [
        "### Valores máximos e mínimos\n",
        "\n",
        "Para calcular o valor máximo, basta executar o método `max()`, enquanto para o valor mínimo basta executar `min()`."
      ],
      "metadata": {
        "id": "5Hv7BYZ4MKWn"
      }
    },
    {
      "cell_type": "code",
      "source": [
        "# valor ANO máximo\n",
        "df.ano.max()"
      ],
      "metadata": {
        "colab": {
          "base_uri": "https://localhost:8080/"
        },
        "id": "Qpa84OqIMOvh",
        "outputId": "3861d693-7faf-4aa3-9b64-9e21662d23f7"
      },
      "execution_count": 73,
      "outputs": [
        {
          "output_type": "execute_result",
          "data": {
            "text/plain": [
              "2019"
            ]
          },
          "metadata": {},
          "execution_count": 73
        }
      ]
    },
    {
      "cell_type": "code",
      "source": [
        "# valor ANO mínimo\n",
        "df.ano.min()"
      ],
      "metadata": {
        "colab": {
          "base_uri": "https://localhost:8080/"
        },
        "id": "1zRXRNDcMXg9",
        "outputId": "5a2b7583-e524-49b2-c535-902a760d6c64"
      },
      "execution_count": 74,
      "outputs": [
        {
          "output_type": "execute_result",
          "data": {
            "text/plain": [
              "2010"
            ]
          },
          "metadata": {},
          "execution_count": 74
        }
      ]
    },
    {
      "cell_type": "code",
      "source": [
        "# valor Aeronaves Envoldidas Máximo\n",
        "\n",
        "df.aeronaves_envolvidas.max()"
      ],
      "metadata": {
        "colab": {
          "base_uri": "https://localhost:8080/"
        },
        "id": "oZpLl_7TMddZ",
        "outputId": "9a6df352-6718-4a3c-f40d-af138983bfa1"
      },
      "execution_count": 75,
      "outputs": [
        {
          "output_type": "execute_result",
          "data": {
            "text/plain": [
              "3"
            ]
          },
          "metadata": {},
          "execution_count": 75
        }
      ]
    },
    {
      "cell_type": "code",
      "source": [
        "# valor Aeronaves Envoldidas Minimo\n",
        "\n",
        "df.aeronaves_envolvidas.min()"
      ],
      "metadata": {
        "colab": {
          "base_uri": "https://localhost:8080/"
        },
        "id": "xfY2pX8pMl74",
        "outputId": "7042e9cf-b7c1-40b0-aeaf-c95658de61ed"
      },
      "execution_count": 76,
      "outputs": [
        {
          "output_type": "execute_result",
          "data": {
            "text/plain": [
              "1"
            ]
          },
          "metadata": {},
          "execution_count": 76
        }
      ]
    },
    {
      "cell_type": "code",
      "source": [
        "# valor Aeronaves Ano Fabricação Máximo\n",
        "\n",
        "df.aeronave_ano_fabricacao.max()"
      ],
      "metadata": {
        "colab": {
          "base_uri": "https://localhost:8080/"
        },
        "id": "MJMjXDFhM13g",
        "outputId": "e5e62ef6-3f63-4e57-da6b-70dc2585e5e8"
      },
      "execution_count": 77,
      "outputs": [
        {
          "output_type": "execute_result",
          "data": {
            "text/plain": [
              "9999"
            ]
          },
          "metadata": {},
          "execution_count": 77
        }
      ]
    },
    {
      "cell_type": "code",
      "source": [
        "# valor Aeronaves Ano Fabricação Minimo\n",
        "\n",
        "df.aeronave_ano_fabricacao.min()"
      ],
      "metadata": {
        "colab": {
          "base_uri": "https://localhost:8080/"
        },
        "id": "X3guS64iNEbx",
        "outputId": "b15640f1-d14b-4fd1-e307-981ec43e937e"
      },
      "execution_count": 78,
      "outputs": [
        {
          "output_type": "execute_result",
          "data": {
            "text/plain": [
              "0"
            ]
          },
          "metadata": {},
          "execution_count": 78
        }
      ]
    },
    {
      "cell_type": "markdown",
      "source": [
        "## Estatística por: (Ano) dos Acidentes"
      ],
      "metadata": {
        "id": "G1dw-YxpHvHi"
      }
    },
    {
      "cell_type": "code",
      "source": [
        "print('Média: ', round(df_ocorrencia_csv['ano'].mean(), 2))\n",
        "print('Mediana: ', df_ocorrencia_csv['ano'].median())\n",
        "print('Desvio Padrão: ', df_ocorrencia_csv['ano'].std())\n",
        "print('Mínimo: ', df_ocorrencia_csv['ano'].min())\n",
        "print('Máximo: ', df_ocorrencia_csv['ano'].max())\n",
        "print('Soma: ', df_ocorrencia_csv['ano'].sum())"
      ],
      "metadata": {
        "id": "regnhhhcDuWR",
        "colab": {
          "base_uri": "https://localhost:8080/"
        },
        "outputId": "e65353d7-df3d-4f2a-b4d6-d9d81e86bcee"
      },
      "execution_count": 79,
      "outputs": [
        {
          "output_type": "stream",
          "name": "stdout",
          "text": [
            "Média:  2014.18\n",
            "Mediana:  2014.0\n",
            "Desvio Padrão:  2.8497500882703446\n",
            "Mínimo:  2010\n",
            "Máximo:  2019\n",
            "Soma:  10558336\n"
          ]
        }
      ]
    },
    {
      "cell_type": "markdown",
      "source": [
        "## Estatística por: Aeronaves Envolvidas"
      ],
      "metadata": {
        "id": "L6aWaOzqN1zh"
      }
    },
    {
      "cell_type": "code",
      "source": [
        "print('Média: ', round(df_ocorrencia_csv['aeronaves_envolvidas'].mean(), 2))\n",
        "print('Mediana: ', df_ocorrencia_csv['aeronaves_envolvidas'].median())\n",
        "print('Desvio Padrão: ', df_ocorrencia_csv['aeronaves_envolvidas'].std())\n",
        "print('Mínimo: ', df_ocorrencia_csv['aeronaves_envolvidas'].min())\n",
        "print('Máximo: ', df_ocorrencia_csv['aeronaves_envolvidas'].max())\n",
        "print('Soma: ', df_ocorrencia_csv['aeronaves_envolvidas'].sum())"
      ],
      "metadata": {
        "id": "qd8sbbrm3NGZ",
        "colab": {
          "base_uri": "https://localhost:8080/"
        },
        "outputId": "5b0ba484-ad59-41e1-c210-b2b08a110d3b"
      },
      "execution_count": 80,
      "outputs": [
        {
          "output_type": "stream",
          "name": "stdout",
          "text": [
            "Média:  1.01\n",
            "Mediana:  1.0\n",
            "Desvio Padrão:  0.11159345431706039\n",
            "Mínimo:  1\n",
            "Máximo:  3\n",
            "Soma:  5304\n"
          ]
        }
      ]
    },
    {
      "cell_type": "markdown",
      "source": [
        "## Estatística por: Aeronaves Ano de Fabricação"
      ],
      "metadata": {
        "id": "9VfKw-qkOLHF"
      }
    },
    {
      "cell_type": "code",
      "source": [
        "\n",
        "print('Média: ', round(df_ocorrencia_csv['aeronave_ano_fabricacao'].mean(), 2))\n",
        "print('Mediana: ', df_ocorrencia_csv['aeronave_ano_fabricacao'].median())\n",
        "print('Desvio Padrão: ', df_ocorrencia_csv['aeronave_ano_fabricacao'].std())\n",
        "print('Mínimo: ', df_ocorrencia_csv['aeronave_ano_fabricacao'].min())\n",
        "print('Máximo: ', df_ocorrencia_csv['aeronave_ano_fabricacao'].max())\n",
        "print('Soma: ', df_ocorrencia_csv['aeronave_ano_fabricacao'].sum())"
      ],
      "metadata": {
        "colab": {
          "base_uri": "https://localhost:8080/"
        },
        "id": "_pfzxxFzOCJs",
        "outputId": "8824539c-7769-4fd5-a993-4c4c82dfe887"
      },
      "execution_count": 153,
      "outputs": [
        {
          "output_type": "stream",
          "name": "stdout",
          "text": [
            "Média:  1863.32\n",
            "Mediana:  1992.0\n",
            "Desvio Padrão:  507.0514806460424\n",
            "Mínimo:  0\n",
            "Máximo:  9999\n",
            "Soma:  9767528\n"
          ]
        }
      ]
    },
    {
      "cell_type": "markdown",
      "source": [
        "---\n",
        "\n",
        "# <font color=lighblue> 7 - Numpy:\n",
        " "
      ],
      "metadata": {
        "id": "eXYPfjwsNyT6"
      }
    },
    {
      "cell_type": "markdown",
      "source": [
        "Numpy é uma Biblioteca do Python, seu nome é uma abreviação para Numerical Python, é um dos pacotes mais importantes de cálculos e processamento numérico, muito eficiente, e serve para comparar desempenho. E também serve de base para o pacote com Pandas. \n",
        "\n",
        "O pacote Numpy possui um poderoso objeto Array multidimensional, que nos permite realizar um conjunto bastante amplo de operações numéricas, sem a necessidade utilização de laços com for. \n",
        "\n",
        "Para utilizarmos uma das funções dessa biblioteca, e realizar o Carregamento e Leitura de um Conjunto de Dados em arquivo Externo podendo ser um .txt ou .csv, e transformar as informações em Arrays Numpy. \n",
        "\n",
        "Utilizaremos o comando np.loadtxt, para carregar informações do arquivo .txt"
      ],
      "metadata": {
        "id": "s-cDiHTzRiOH"
      }
    },
    {
      "cell_type": "markdown",
      "source": [
        "Realiza a importação da bilioteca Numpy"
      ],
      "metadata": {
        "id": "U25T-jt-Po2T"
      }
    },
    {
      "cell_type": "code",
      "source": [
        "import numpy as np "
      ],
      "metadata": {
        "id": "F8souNhwPnOD"
      },
      "execution_count": 85,
      "outputs": []
    },
    {
      "cell_type": "markdown",
      "source": [
        "Carrega um Gráfico conforme o `Scritp` acima.\n",
        "\n",
        "---"
      ],
      "metadata": {
        "id": "VXucSwxln_3g"
      }
    },
    {
      "cell_type": "markdown",
      "source": [
        "Também podemos utilizar para leitura de arquivos .txt"
      ],
      "metadata": {
        "id": "m5_MVGSsoMdi"
      }
    },
    {
      "cell_type": "code",
      "source": [
        "#km = np.loadtxt('aeronave.txt') "
      ],
      "metadata": {
        "id": "cD0ZaMiCPoEB"
      },
      "execution_count": 86,
      "outputs": []
    },
    {
      "cell_type": "markdown",
      "source": [
        "Atribua um Valor `\"km\"` para Realiza o carregamento do `carros-km.txt`"
      ],
      "metadata": {
        "id": "dgb-HVXIQNY3"
      }
    },
    {
      "cell_type": "code",
      "source": [
        "#anos = np.loadtxt('carros-anos.txt', dtype = int) "
      ],
      "metadata": {
        "id": "rDp54MmrP3_q"
      },
      "execution_count": 87,
      "outputs": []
    },
    {
      "cell_type": "markdown",
      "source": [
        "Especifica o Tipo de Dados que está armazenado sobre o carregamento do `Arquivo .txt` (no exemplo descrito `dtype = int` para Inteiro)"
      ],
      "metadata": {
        "id": "qJvkGm2ZQS0S"
      }
    },
    {
      "cell_type": "markdown",
      "source": [
        "# <font color=lighblue> 8 - Visualizando Gráficos:\n",
        "\n",
        "Exposição de Dados, serve para Apresentar as informações com clareza, para cada tipo de dado e para cada tipo de exposição de dados existem formas apropriadas. \n",
        "\n",
        "Existem gráficos que são mais adequados para cada tipo de apresentação de dados que se deseja efetuar."
      ],
      "metadata": {
        "id": "87JFmHGrS-1p"
      }
    },
    {
      "cell_type": "code",
      "source": [
        "# INSTALAÇÃO INTERNA DO MATPLOIT\n",
        "!pip install matplotlib-venn"
      ],
      "metadata": {
        "id": "L6JCcTtFTKjE",
        "colab": {
          "base_uri": "https://localhost:8080/"
        },
        "outputId": "7be2701f-e8a0-47db-9983-fd693bb33695"
      },
      "execution_count": 88,
      "outputs": [
        {
          "output_type": "stream",
          "name": "stdout",
          "text": [
            "Looking in indexes: https://pypi.org/simple, https://us-python.pkg.dev/colab-wheels/public/simple/\n",
            "Requirement already satisfied: matplotlib-venn in /usr/local/lib/python3.7/dist-packages (0.11.7)\n",
            "Requirement already satisfied: numpy in /usr/local/lib/python3.7/dist-packages (from matplotlib-venn) (1.21.6)\n",
            "Requirement already satisfied: matplotlib in /usr/local/lib/python3.7/dist-packages (from matplotlib-venn) (3.2.2)\n",
            "Requirement already satisfied: scipy in /usr/local/lib/python3.7/dist-packages (from matplotlib-venn) (1.4.1)\n",
            "Requirement already satisfied: cycler>=0.10 in /usr/local/lib/python3.7/dist-packages (from matplotlib->matplotlib-venn) (0.11.0)\n",
            "Requirement already satisfied: kiwisolver>=1.0.1 in /usr/local/lib/python3.7/dist-packages (from matplotlib->matplotlib-venn) (1.4.2)\n",
            "Requirement already satisfied: pyparsing!=2.0.4,!=2.1.2,!=2.1.6,>=2.0.1 in /usr/local/lib/python3.7/dist-packages (from matplotlib->matplotlib-venn) (3.0.9)\n",
            "Requirement already satisfied: python-dateutil>=2.1 in /usr/local/lib/python3.7/dist-packages (from matplotlib->matplotlib-venn) (2.8.2)\n",
            "Requirement already satisfied: typing-extensions in /usr/local/lib/python3.7/dist-packages (from kiwisolver>=1.0.1->matplotlib->matplotlib-venn) (4.2.0)\n",
            "Requirement already satisfied: six>=1.5 in /usr/local/lib/python3.7/dist-packages (from python-dateutil>=2.1->matplotlib->matplotlib-venn) (1.15.0)\n"
          ]
        }
      ]
    },
    {
      "cell_type": "code",
      "source": [
        "# Instalação Interna do Seaborn\n",
        "!pip install seaborn==0.11.2\n",
        "\n",
        "import seaborn as sns\n",
        "print(sns.__version__)"
      ],
      "metadata": {
        "colab": {
          "base_uri": "https://localhost:8080/"
        },
        "id": "iT561IClYS6W",
        "outputId": "fc5d135c-0455-4570-a256-1ffadd08de5c"
      },
      "execution_count": 89,
      "outputs": [
        {
          "output_type": "stream",
          "name": "stdout",
          "text": [
            "Looking in indexes: https://pypi.org/simple, https://us-python.pkg.dev/colab-wheels/public/simple/\n",
            "Requirement already satisfied: seaborn==0.11.2 in /usr/local/lib/python3.7/dist-packages (0.11.2)\n",
            "Requirement already satisfied: numpy>=1.15 in /usr/local/lib/python3.7/dist-packages (from seaborn==0.11.2) (1.21.6)\n",
            "Requirement already satisfied: pandas>=0.23 in /usr/local/lib/python3.7/dist-packages (from seaborn==0.11.2) (1.3.5)\n",
            "Requirement already satisfied: matplotlib>=2.2 in /usr/local/lib/python3.7/dist-packages (from seaborn==0.11.2) (3.2.2)\n",
            "Requirement already satisfied: scipy>=1.0 in /usr/local/lib/python3.7/dist-packages (from seaborn==0.11.2) (1.4.1)\n",
            "Requirement already satisfied: pyparsing!=2.0.4,!=2.1.2,!=2.1.6,>=2.0.1 in /usr/local/lib/python3.7/dist-packages (from matplotlib>=2.2->seaborn==0.11.2) (3.0.9)\n",
            "Requirement already satisfied: python-dateutil>=2.1 in /usr/local/lib/python3.7/dist-packages (from matplotlib>=2.2->seaborn==0.11.2) (2.8.2)\n",
            "Requirement already satisfied: kiwisolver>=1.0.1 in /usr/local/lib/python3.7/dist-packages (from matplotlib>=2.2->seaborn==0.11.2) (1.4.2)\n",
            "Requirement already satisfied: cycler>=0.10 in /usr/local/lib/python3.7/dist-packages (from matplotlib>=2.2->seaborn==0.11.2) (0.11.0)\n",
            "Requirement already satisfied: typing-extensions in /usr/local/lib/python3.7/dist-packages (from kiwisolver>=1.0.1->matplotlib>=2.2->seaborn==0.11.2) (4.2.0)\n",
            "Requirement already satisfied: pytz>=2017.3 in /usr/local/lib/python3.7/dist-packages (from pandas>=0.23->seaborn==0.11.2) (2022.1)\n",
            "Requirement already satisfied: six>=1.5 in /usr/local/lib/python3.7/dist-packages (from python-dateutil>=2.1->matplotlib>=2.2->seaborn==0.11.2) (1.15.0)\n",
            "0.11.2\n"
          ]
        }
      ]
    },
    {
      "cell_type": "code",
      "source": [
        "import pandas as pd\n",
        "import matplotlib.pyplot as plt\n",
        "\n",
        "# importar dados para dataframe\n",
        "data = ('/content/ocorrencias_cenipa.csv')\n",
        "df = pd.read_csv(data)\n",
        "pd.set_option('display.max_rows', 100)\n",
        "pd.set_option('display.max_columns', 100)\n",
        "# apagar linha TOTAL\n",
        "df.drop(index=23, axis=0, inplace=True)\n",
        "\n",
        "# ver as 5 primeiras entradas\n",
        "df.head()"
      ],
      "metadata": {
        "colab": {
          "base_uri": "https://localhost:8080/",
          "height": 443
        },
        "id": "jT__zhMTlh72",
        "outputId": "70ffe3c3-aa11-4fda-833d-a5d9ed6dcf8a"
      },
      "execution_count": 186,
      "outputs": [
        {
          "output_type": "execute_result",
          "data": {
            "text/plain": [
              "   codigo             tipo                                          descricao  \\\n",
              "0   40107         ACIDENTE  COLISÃO COM OBSTÁCULO DURANTE A DECOLAGEM E POUSO   \n",
              "1   40147         ACIDENTE  FALHA OU MAU FUNCIONAMENTO DE SISTEMA / COMPON...   \n",
              "2   40148         ACIDENTE                                          PANE SECA   \n",
              "3   40149         ACIDENTE                              FALHA DO MOTOR EM VOO   \n",
              "4   40150  INCIDENTE GRAVE                                  COM TREM DE POUSO   \n",
              "\n",
              "             cidade estado        data   ano      hora aeronave_liberada  \\\n",
              "0            GURUPÁ     PA  2010-01-12  2010  14:30:00               SIM   \n",
              "1  UNIÃO DA VITÓRIA     PR  2010-04-08  2010  14:20:00               SIM   \n",
              "2      CAMPO GRANDE     MS  2010-03-19  2010  19:30:00               SIM   \n",
              "3          LUZIÂNIA     GO  2010-03-21  2010  20:45:00               SIM   \n",
              "4       SANTA MARIA     RS  2010-03-10  2010  17:20:00               SIM   \n",
              "\n",
              "  status_investigacao  aeronaves_envolvidas ocorrencia_saida_pista  \\\n",
              "0          FINALIZADA                     1                    NÃO   \n",
              "1          FINALIZADA                     1                    SIM   \n",
              "2          FINALIZADA                     1                    NÃO   \n",
              "3          FINALIZADA                     1                    NÃO   \n",
              "4          FINALIZADA                     1                    NÃO   \n",
              "\n",
              "  aeronave_tipo          aeronave_fabricante motor_tipo  \\\n",
              "0         AVIÃO  NEIVA INDUSTRIA AERONAUTICA     PISTÃO   \n",
              "1         AVIÃO               PIPER AIRCRAFT     PISTÃO   \n",
              "2         AVIÃO              CESSNA AIRCRAFT     PISTÃO   \n",
              "3         AVIÃO                      XAVANTE     PISTÃO   \n",
              "4         AVIÃO               BEECH AIRCRAFT     PISTÃO   \n",
              "\n",
              "  aeronave_motor_quantidade  aeronave_assentos  aeronave_ano_fabricacao  \\\n",
              "0                 MONOMOTOR                  7                     1977   \n",
              "1                   BIMOTOR                  6                     1997   \n",
              "2                 MONOMOTOR                  6                     1962   \n",
              "3                 MONOMOTOR                  2                     1974   \n",
              "4                 MONOMOTOR                  6                     1974   \n",
              "\n",
              "  aeronave_pais_fabricante aeronave_fase_operacao aeronave_nivel_dano  \n",
              "0                   BRASIL                  POUSO                LEVE  \n",
              "1                   BRASIL                  POUSO         SUBSTANCIAL  \n",
              "2                   BRASIL      APROXIMAÇÃO FINAL         SUBSTANCIAL  \n",
              "3                   BRASIL              DECOLAGEM           DESTRUÍDA  \n",
              "4                   BRASIL                  POUSO                LEVE  "
            ],
            "text/html": [
              "\n",
              "  <div id=\"df-fa5a0c01-a30a-4c26-9a6d-3e5a922836b4\">\n",
              "    <div class=\"colab-df-container\">\n",
              "      <div>\n",
              "<style scoped>\n",
              "    .dataframe tbody tr th:only-of-type {\n",
              "        vertical-align: middle;\n",
              "    }\n",
              "\n",
              "    .dataframe tbody tr th {\n",
              "        vertical-align: top;\n",
              "    }\n",
              "\n",
              "    .dataframe thead th {\n",
              "        text-align: right;\n",
              "    }\n",
              "</style>\n",
              "<table border=\"1\" class=\"dataframe\">\n",
              "  <thead>\n",
              "    <tr style=\"text-align: right;\">\n",
              "      <th></th>\n",
              "      <th>codigo</th>\n",
              "      <th>tipo</th>\n",
              "      <th>descricao</th>\n",
              "      <th>cidade</th>\n",
              "      <th>estado</th>\n",
              "      <th>data</th>\n",
              "      <th>ano</th>\n",
              "      <th>hora</th>\n",
              "      <th>aeronave_liberada</th>\n",
              "      <th>status_investigacao</th>\n",
              "      <th>aeronaves_envolvidas</th>\n",
              "      <th>ocorrencia_saida_pista</th>\n",
              "      <th>aeronave_tipo</th>\n",
              "      <th>aeronave_fabricante</th>\n",
              "      <th>motor_tipo</th>\n",
              "      <th>aeronave_motor_quantidade</th>\n",
              "      <th>aeronave_assentos</th>\n",
              "      <th>aeronave_ano_fabricacao</th>\n",
              "      <th>aeronave_pais_fabricante</th>\n",
              "      <th>aeronave_fase_operacao</th>\n",
              "      <th>aeronave_nivel_dano</th>\n",
              "    </tr>\n",
              "  </thead>\n",
              "  <tbody>\n",
              "    <tr>\n",
              "      <th>0</th>\n",
              "      <td>40107</td>\n",
              "      <td>ACIDENTE</td>\n",
              "      <td>COLISÃO COM OBSTÁCULO DURANTE A DECOLAGEM E POUSO</td>\n",
              "      <td>GURUPÁ</td>\n",
              "      <td>PA</td>\n",
              "      <td>2010-01-12</td>\n",
              "      <td>2010</td>\n",
              "      <td>14:30:00</td>\n",
              "      <td>SIM</td>\n",
              "      <td>FINALIZADA</td>\n",
              "      <td>1</td>\n",
              "      <td>NÃO</td>\n",
              "      <td>AVIÃO</td>\n",
              "      <td>NEIVA INDUSTRIA AERONAUTICA</td>\n",
              "      <td>PISTÃO</td>\n",
              "      <td>MONOMOTOR</td>\n",
              "      <td>7</td>\n",
              "      <td>1977</td>\n",
              "      <td>BRASIL</td>\n",
              "      <td>POUSO</td>\n",
              "      <td>LEVE</td>\n",
              "    </tr>\n",
              "    <tr>\n",
              "      <th>1</th>\n",
              "      <td>40147</td>\n",
              "      <td>ACIDENTE</td>\n",
              "      <td>FALHA OU MAU FUNCIONAMENTO DE SISTEMA / COMPON...</td>\n",
              "      <td>UNIÃO DA VITÓRIA</td>\n",
              "      <td>PR</td>\n",
              "      <td>2010-04-08</td>\n",
              "      <td>2010</td>\n",
              "      <td>14:20:00</td>\n",
              "      <td>SIM</td>\n",
              "      <td>FINALIZADA</td>\n",
              "      <td>1</td>\n",
              "      <td>SIM</td>\n",
              "      <td>AVIÃO</td>\n",
              "      <td>PIPER AIRCRAFT</td>\n",
              "      <td>PISTÃO</td>\n",
              "      <td>BIMOTOR</td>\n",
              "      <td>6</td>\n",
              "      <td>1997</td>\n",
              "      <td>BRASIL</td>\n",
              "      <td>POUSO</td>\n",
              "      <td>SUBSTANCIAL</td>\n",
              "    </tr>\n",
              "    <tr>\n",
              "      <th>2</th>\n",
              "      <td>40148</td>\n",
              "      <td>ACIDENTE</td>\n",
              "      <td>PANE SECA</td>\n",
              "      <td>CAMPO GRANDE</td>\n",
              "      <td>MS</td>\n",
              "      <td>2010-03-19</td>\n",
              "      <td>2010</td>\n",
              "      <td>19:30:00</td>\n",
              "      <td>SIM</td>\n",
              "      <td>FINALIZADA</td>\n",
              "      <td>1</td>\n",
              "      <td>NÃO</td>\n",
              "      <td>AVIÃO</td>\n",
              "      <td>CESSNA AIRCRAFT</td>\n",
              "      <td>PISTÃO</td>\n",
              "      <td>MONOMOTOR</td>\n",
              "      <td>6</td>\n",
              "      <td>1962</td>\n",
              "      <td>BRASIL</td>\n",
              "      <td>APROXIMAÇÃO FINAL</td>\n",
              "      <td>SUBSTANCIAL</td>\n",
              "    </tr>\n",
              "    <tr>\n",
              "      <th>3</th>\n",
              "      <td>40149</td>\n",
              "      <td>ACIDENTE</td>\n",
              "      <td>FALHA DO MOTOR EM VOO</td>\n",
              "      <td>LUZIÂNIA</td>\n",
              "      <td>GO</td>\n",
              "      <td>2010-03-21</td>\n",
              "      <td>2010</td>\n",
              "      <td>20:45:00</td>\n",
              "      <td>SIM</td>\n",
              "      <td>FINALIZADA</td>\n",
              "      <td>1</td>\n",
              "      <td>NÃO</td>\n",
              "      <td>AVIÃO</td>\n",
              "      <td>XAVANTE</td>\n",
              "      <td>PISTÃO</td>\n",
              "      <td>MONOMOTOR</td>\n",
              "      <td>2</td>\n",
              "      <td>1974</td>\n",
              "      <td>BRASIL</td>\n",
              "      <td>DECOLAGEM</td>\n",
              "      <td>DESTRUÍDA</td>\n",
              "    </tr>\n",
              "    <tr>\n",
              "      <th>4</th>\n",
              "      <td>40150</td>\n",
              "      <td>INCIDENTE GRAVE</td>\n",
              "      <td>COM TREM DE POUSO</td>\n",
              "      <td>SANTA MARIA</td>\n",
              "      <td>RS</td>\n",
              "      <td>2010-03-10</td>\n",
              "      <td>2010</td>\n",
              "      <td>17:20:00</td>\n",
              "      <td>SIM</td>\n",
              "      <td>FINALIZADA</td>\n",
              "      <td>1</td>\n",
              "      <td>NÃO</td>\n",
              "      <td>AVIÃO</td>\n",
              "      <td>BEECH AIRCRAFT</td>\n",
              "      <td>PISTÃO</td>\n",
              "      <td>MONOMOTOR</td>\n",
              "      <td>6</td>\n",
              "      <td>1974</td>\n",
              "      <td>BRASIL</td>\n",
              "      <td>POUSO</td>\n",
              "      <td>LEVE</td>\n",
              "    </tr>\n",
              "  </tbody>\n",
              "</table>\n",
              "</div>\n",
              "      <button class=\"colab-df-convert\" onclick=\"convertToInteractive('df-fa5a0c01-a30a-4c26-9a6d-3e5a922836b4')\"\n",
              "              title=\"Convert this dataframe to an interactive table.\"\n",
              "              style=\"display:none;\">\n",
              "        \n",
              "  <svg xmlns=\"http://www.w3.org/2000/svg\" height=\"24px\"viewBox=\"0 0 24 24\"\n",
              "       width=\"24px\">\n",
              "    <path d=\"M0 0h24v24H0V0z\" fill=\"none\"/>\n",
              "    <path d=\"M18.56 5.44l.94 2.06.94-2.06 2.06-.94-2.06-.94-.94-2.06-.94 2.06-2.06.94zm-11 1L8.5 8.5l.94-2.06 2.06-.94-2.06-.94L8.5 2.5l-.94 2.06-2.06.94zm10 10l.94 2.06.94-2.06 2.06-.94-2.06-.94-.94-2.06-.94 2.06-2.06.94z\"/><path d=\"M17.41 7.96l-1.37-1.37c-.4-.4-.92-.59-1.43-.59-.52 0-1.04.2-1.43.59L10.3 9.45l-7.72 7.72c-.78.78-.78 2.05 0 2.83L4 21.41c.39.39.9.59 1.41.59.51 0 1.02-.2 1.41-.59l7.78-7.78 2.81-2.81c.8-.78.8-2.07 0-2.86zM5.41 20L4 18.59l7.72-7.72 1.47 1.35L5.41 20z\"/>\n",
              "  </svg>\n",
              "      </button>\n",
              "      \n",
              "  <style>\n",
              "    .colab-df-container {\n",
              "      display:flex;\n",
              "      flex-wrap:wrap;\n",
              "      gap: 12px;\n",
              "    }\n",
              "\n",
              "    .colab-df-convert {\n",
              "      background-color: #E8F0FE;\n",
              "      border: none;\n",
              "      border-radius: 50%;\n",
              "      cursor: pointer;\n",
              "      display: none;\n",
              "      fill: #1967D2;\n",
              "      height: 32px;\n",
              "      padding: 0 0 0 0;\n",
              "      width: 32px;\n",
              "    }\n",
              "\n",
              "    .colab-df-convert:hover {\n",
              "      background-color: #E2EBFA;\n",
              "      box-shadow: 0px 1px 2px rgba(60, 64, 67, 0.3), 0px 1px 3px 1px rgba(60, 64, 67, 0.15);\n",
              "      fill: #174EA6;\n",
              "    }\n",
              "\n",
              "    [theme=dark] .colab-df-convert {\n",
              "      background-color: #3B4455;\n",
              "      fill: #D2E3FC;\n",
              "    }\n",
              "\n",
              "    [theme=dark] .colab-df-convert:hover {\n",
              "      background-color: #434B5C;\n",
              "      box-shadow: 0px 1px 3px 1px rgba(0, 0, 0, 0.15);\n",
              "      filter: drop-shadow(0px 1px 2px rgba(0, 0, 0, 0.3));\n",
              "      fill: #FFFFFF;\n",
              "    }\n",
              "  </style>\n",
              "\n",
              "      <script>\n",
              "        const buttonEl =\n",
              "          document.querySelector('#df-fa5a0c01-a30a-4c26-9a6d-3e5a922836b4 button.colab-df-convert');\n",
              "        buttonEl.style.display =\n",
              "          google.colab.kernel.accessAllowed ? 'block' : 'none';\n",
              "\n",
              "        async function convertToInteractive(key) {\n",
              "          const element = document.querySelector('#df-fa5a0c01-a30a-4c26-9a6d-3e5a922836b4');\n",
              "          const dataTable =\n",
              "            await google.colab.kernel.invokeFunction('convertToInteractive',\n",
              "                                                     [key], {});\n",
              "          if (!dataTable) return;\n",
              "\n",
              "          const docLinkHtml = 'Like what you see? Visit the ' +\n",
              "            '<a target=\"_blank\" href=https://colab.research.google.com/notebooks/data_table.ipynb>data table notebook</a>'\n",
              "            + ' to learn more about interactive tables.';\n",
              "          element.innerHTML = '';\n",
              "          dataTable['output_type'] = 'display_data';\n",
              "          await google.colab.output.renderOutput(dataTable, element);\n",
              "          const docLink = document.createElement('div');\n",
              "          docLink.innerHTML = docLinkHtml;\n",
              "          element.appendChild(docLink);\n",
              "        }\n",
              "      </script>\n",
              "    </div>\n",
              "  </div>\n",
              "  "
            ]
          },
          "metadata": {},
          "execution_count": 186
        }
      ]
    },
    {
      "cell_type": "code",
      "source": [
        "## EXIBINDO O CABEÇALHO COM 6 Linha de ITENS\n",
        "df_ocorrencia_csv.head(6)\n",
        "df = pd.read_csv(data, index_col=\"data\", parse_dates=True)"
      ],
      "metadata": {
        "id": "4AR9AJifLzGy"
      },
      "execution_count": 187,
      "outputs": []
    },
    {
      "cell_type": "code",
      "source": [
        "df_ocorrencia_csv['ano'].plot(kind='hist')\n",
        "plt.title('Acidentes por Ano') # coloca um título no gráfico\n",
        "plt.show()"
      ],
      "metadata": {
        "id": "4y-SXkmsJkpn",
        "colab": {
          "base_uri": "https://localhost:8080/",
          "height": 281
        },
        "outputId": "d748d2a5-5562-4de7-b58f-8ba538d3d0ca"
      },
      "execution_count": 188,
      "outputs": [
        {
          "output_type": "display_data",
          "data": {
            "text/plain": [
              "<Figure size 432x288 with 1 Axes>"
            ],
            "image/png": "[encoded data removed]"
          },
          "metadata": {
            "needs_background": "light"
          }
        }
      ]
    },
    {
      "cell_type": "code",
      "source": [
        "# plotar o número de casos confirmados\n",
        "fig, ax = plt.subplots()\n",
        "\n",
        "df[\"ano\"].plot(kind=\"line\", ax=ax)\n",
        "ax.set_title(\"Casos de Acidente por Ano\")\n",
        "ax.set_ylabel(\"Casos Confirmados\")\n",
        "ax.set_xlabel(\"data\")\n",
        "\n",
        "plt.tight_layout()"
      ],
      "metadata": {
        "colab": {
          "base_uri": "https://localhost:8080/",
          "height": 297
        },
        "id": "iy_XiH-bdxju",
        "outputId": "2e96ea6f-f159-4b42-9e70-4b89f06dd98c"
      },
      "execution_count": 189,
      "outputs": [
        {
          "output_type": "display_data",
          "data": {
            "text/plain": [
              "<Figure size 432x288 with 1 Axes>"
            ],
            "image/png": "[encoded data removed]"
          },
          "metadata": {
            "needs_background": "light"
          }
        }
      ]
    },
    {
      "cell_type": "code",
      "source": [
        "df['aeronave_ano_fabricacao'].plot();"
      ],
      "metadata": {
        "colab": {
          "base_uri": "https://localhost:8080/",
          "height": 269
        },
        "id": "tCgs3-SEPhCh",
        "outputId": "d9b8da76-d5d7-4d80-fdb0-148ab545730b"
      },
      "execution_count": 190,
      "outputs": [
        {
          "output_type": "display_data",
          "data": {
            "text/plain": [
              "<Figure size 432x288 with 1 Axes>"
            ],
            "image/png": "[encoded data removed]"
          },
          "metadata": {
            "needs_background": "light"
          }
        }
      ]
    },
    {
      "cell_type": "code",
      "source": [
        "df['aeronave_ano_fabricacao'].hist();"
      ],
      "metadata": {
        "colab": {
          "base_uri": "https://localhost:8080/",
          "height": 265
        },
        "id": "XUP_2ClqPuC0",
        "outputId": "c394f1b0-ef97-4035-dd42-404a5dee55a5"
      },
      "execution_count": 191,
      "outputs": [
        {
          "output_type": "display_data",
          "data": {
            "text/plain": [
              "<Figure size 432x288 with 1 Axes>"
            ],
            "image/png": "[encoded data removed]"
          },
          "metadata": {
            "needs_background": "light"
          }
        }
      ]
    },
    {
      "cell_type": "code",
      "source": [
        "fig, ax = plt.subplots()\n",
        "\n",
        "df[\"aeronave_ano_fabricacao\"].plot(kind=\"hist\", ax=ax)\n",
        "ax.set_title(\"Histograma Média de Ocorrências\")\n",
        "ax.set_ylabel(\"Quantidade de ocorrências\")\n",
        "ax.set_xlabel(\"Média de Ocorrência\")\n",
        "\n",
        "plt.tight_layout()"
      ],
      "metadata": {
        "colab": {
          "base_uri": "https://localhost:8080/",
          "height": 297
        },
        "id": "fSZer5eBk5d0",
        "outputId": "1fe6567f-71db-4690-e485-9f9f369acd38"
      },
      "execution_count": 194,
      "outputs": [
        {
          "output_type": "display_data",
          "data": {
            "text/plain": [
              "<Figure size 432x288 with 1 Axes>"
            ],
            "image/png": "[encoded data removed]"
          },
          "metadata": {
            "needs_background": "light"
          }
        }
      ]
    },
    {
      "cell_type": "code",
      "source": [
        "df_ocorrencia_csv[['aeronave_ano_fabricacao','aeronave_nivel_dano','descricao',]].head(6)"
      ],
      "metadata": {
        "colab": {
          "base_uri": "https://localhost:8080/",
          "height": 269
        },
        "id": "-tE-TtMRk-yv",
        "outputId": "78e865b4-67fc-4706-b558-b6f1356f6759"
      },
      "execution_count": 169,
      "outputs": [
        {
          "output_type": "execute_result",
          "data": {
            "text/plain": [
              "        aeronave_ano_fabricacao aeronave_nivel_dano  \\\n",
              "codigo                                                \n",
              "40107                      1977                LEVE   \n",
              "40147                      1997         SUBSTANCIAL   \n",
              "40148                      1962         SUBSTANCIAL   \n",
              "40149                      1974           DESTRUÍDA   \n",
              "40150                      1974                LEVE   \n",
              "40168                      1975              NENHUM   \n",
              "\n",
              "                                                descricao  \n",
              "codigo                                                     \n",
              "40107   COLISÃO COM OBSTÁCULO DURANTE A DECOLAGEM E POUSO  \n",
              "40147   FALHA OU MAU FUNCIONAMENTO DE SISTEMA / COMPON...  \n",
              "40148                                           PANE SECA  \n",
              "40149                               FALHA DO MOTOR EM VOO  \n",
              "40150                                   COM TREM DE POUSO  \n",
              "40168                               FALHA DO MOTOR EM VOO  "
            ],
            "text/html": [
              "\n",
              "  <div id=\"df-2d122e76-a8a3-420f-a455-a73221f58726\">\n",
              "    <div class=\"colab-df-container\">\n",
              "      <div>\n",
              "<style scoped>\n",
              "    .dataframe tbody tr th:only-of-type {\n",
              "        vertical-align: middle;\n",
              "    }\n",
              "\n",
              "    .dataframe tbody tr th {\n",
              "        vertical-align: top;\n",
              "    }\n",
              "\n",
              "    .dataframe thead th {\n",
              "        text-align: right;\n",
              "    }\n",
              "</style>\n",
              "<table border=\"1\" class=\"dataframe\">\n",
              "  <thead>\n",
              "    <tr style=\"text-align: right;\">\n",
              "      <th></th>\n",
              "      <th>aeronave_ano_fabricacao</th>\n",
              "      <th>aeronave_nivel_dano</th>\n",
              "      <th>descricao</th>\n",
              "    </tr>\n",
              "    <tr>\n",
              "      <th>codigo</th>\n",
              "      <th></th>\n",
              "      <th></th>\n",
              "      <th></th>\n",
              "    </tr>\n",
              "  </thead>\n",
              "  <tbody>\n",
              "    <tr>\n",
              "      <th>40107</th>\n",
              "      <td>1977</td>\n",
              "      <td>LEVE</td>\n",
              "      <td>COLISÃO COM OBSTÁCULO DURANTE A DECOLAGEM E POUSO</td>\n",
              "    </tr>\n",
              "    <tr>\n",
              "      <th>40147</th>\n",
              "      <td>1997</td>\n",
              "      <td>SUBSTANCIAL</td>\n",
              "      <td>FALHA OU MAU FUNCIONAMENTO DE SISTEMA / COMPON...</td>\n",
              "    </tr>\n",
              "    <tr>\n",
              "      <th>40148</th>\n",
              "      <td>1962</td>\n",
              "      <td>SUBSTANCIAL</td>\n",
              "      <td>PANE SECA</td>\n",
              "    </tr>\n",
              "    <tr>\n",
              "      <th>40149</th>\n",
              "      <td>1974</td>\n",
              "      <td>DESTRUÍDA</td>\n",
              "      <td>FALHA DO MOTOR EM VOO</td>\n",
              "    </tr>\n",
              "    <tr>\n",
              "      <th>40150</th>\n",
              "      <td>1974</td>\n",
              "      <td>LEVE</td>\n",
              "      <td>COM TREM DE POUSO</td>\n",
              "    </tr>\n",
              "    <tr>\n",
              "      <th>40168</th>\n",
              "      <td>1975</td>\n",
              "      <td>NENHUM</td>\n",
              "      <td>FALHA DO MOTOR EM VOO</td>\n",
              "    </tr>\n",
              "  </tbody>\n",
              "</table>\n",
              "</div>\n",
              "      <button class=\"colab-df-convert\" onclick=\"convertToInteractive('df-2d122e76-a8a3-420f-a455-a73221f58726')\"\n",
              "              title=\"Convert this dataframe to an interactive table.\"\n",
              "              style=\"display:none;\">\n",
              "        \n",
              "  <svg xmlns=\"http://www.w3.org/2000/svg\" height=\"24px\"viewBox=\"0 0 24 24\"\n",
              "       width=\"24px\">\n",
              "    <path d=\"M0 0h24v24H0V0z\" fill=\"none\"/>\n",
              "    <path d=\"M18.56 5.44l.94 2.06.94-2.06 2.06-.94-2.06-.94-.94-2.06-.94 2.06-2.06.94zm-11 1L8.5 8.5l.94-2.06 2.06-.94-2.06-.94L8.5 2.5l-.94 2.06-2.06.94zm10 10l.94 2.06.94-2.06 2.06-.94-2.06-.94-.94-2.06-.94 2.06-2.06.94z\"/><path d=\"M17.41 7.96l-1.37-1.37c-.4-.4-.92-.59-1.43-.59-.52 0-1.04.2-1.43.59L10.3 9.45l-7.72 7.72c-.78.78-.78 2.05 0 2.83L4 21.41c.39.39.9.59 1.41.59.51 0 1.02-.2 1.41-.59l7.78-7.78 2.81-2.81c.8-.78.8-2.07 0-2.86zM5.41 20L4 18.59l7.72-7.72 1.47 1.35L5.41 20z\"/>\n",
              "  </svg>\n",
              "      </button>\n",
              "      \n",
              "  <style>\n",
              "    .colab-df-container {\n",
              "      display:flex;\n",
              "      flex-wrap:wrap;\n",
              "      gap: 12px;\n",
              "    }\n",
              "\n",
              "    .colab-df-convert {\n",
              "      background-color: #E8F0FE;\n",
              "      border: none;\n",
              "      border-radius: 50%;\n",
              "      cursor: pointer;\n",
              "      display: none;\n",
              "      fill: #1967D2;\n",
              "      height: 32px;\n",
              "      padding: 0 0 0 0;\n",
              "      width: 32px;\n",
              "    }\n",
              "\n",
              "    .colab-df-convert:hover {\n",
              "      background-color: #E2EBFA;\n",
              "      box-shadow: 0px 1px 2px rgba(60, 64, 67, 0.3), 0px 1px 3px 1px rgba(60, 64, 67, 0.15);\n",
              "      fill: #174EA6;\n",
              "    }\n",
              "\n",
              "    [theme=dark] .colab-df-convert {\n",
              "      background-color: #3B4455;\n",
              "      fill: #D2E3FC;\n",
              "    }\n",
              "\n",
              "    [theme=dark] .colab-df-convert:hover {\n",
              "      background-color: #434B5C;\n",
              "      box-shadow: 0px 1px 3px 1px rgba(0, 0, 0, 0.15);\n",
              "      filter: drop-shadow(0px 1px 2px rgba(0, 0, 0, 0.3));\n",
              "      fill: #FFFFFF;\n",
              "    }\n",
              "  </style>\n",
              "\n",
              "      <script>\n",
              "        const buttonEl =\n",
              "          document.querySelector('#df-2d122e76-a8a3-420f-a455-a73221f58726 button.colab-df-convert');\n",
              "        buttonEl.style.display =\n",
              "          google.colab.kernel.accessAllowed ? 'block' : 'none';\n",
              "\n",
              "        async function convertToInteractive(key) {\n",
              "          const element = document.querySelector('#df-2d122e76-a8a3-420f-a455-a73221f58726');\n",
              "          const dataTable =\n",
              "            await google.colab.kernel.invokeFunction('convertToInteractive',\n",
              "                                                     [key], {});\n",
              "          if (!dataTable) return;\n",
              "\n",
              "          const docLinkHtml = 'Like what you see? Visit the ' +\n",
              "            '<a target=\"_blank\" href=https://colab.research.google.com/notebooks/data_table.ipynb>data table notebook</a>'\n",
              "            + ' to learn more about interactive tables.';\n",
              "          element.innerHTML = '';\n",
              "          dataTable['output_type'] = 'display_data';\n",
              "          await google.colab.output.renderOutput(dataTable, element);\n",
              "          const docLink = document.createElement('div');\n",
              "          docLink.innerHTML = docLinkHtml;\n",
              "          element.appendChild(docLink);\n",
              "        }\n",
              "      </script>\n",
              "    </div>\n",
              "  </div>\n",
              "  "
            ]
          },
          "metadata": {},
          "execution_count": 169
        }
      ]
    },
    {
      "cell_type": "code",
      "source": [
        "df_ocorrencia_csv[['cidade', 'data', 'tipo']].head(6)"
      ],
      "metadata": {
        "id": "JCu2ZmCL8qnY",
        "colab": {
          "base_uri": "https://localhost:8080/",
          "height": 269
        },
        "outputId": "9d221ca3-99cb-4b64-eac0-297113d60d35"
      },
      "execution_count": 170,
      "outputs": [
        {
          "output_type": "execute_result",
          "data": {
            "text/plain": [
              "                  cidade        data             tipo\n",
              "codigo                                               \n",
              "40107             GURUPÁ  2010-01-12         ACIDENTE\n",
              "40147   UNIÃO DA VITÓRIA  2010-04-08         ACIDENTE\n",
              "40148       CAMPO GRANDE  2010-03-19         ACIDENTE\n",
              "40149           LUZIÂNIA  2010-03-21         ACIDENTE\n",
              "40150        SANTA MARIA  2010-03-10  INCIDENTE GRAVE\n",
              "40168      MONTES CLAROS  2010-03-17        INCIDENTE"
            ],
            "text/html": [
              "\n",
              "  <div id=\"df-be879bb9-ba02-4a29-8bd9-b37263abf52e\">\n",
              "    <div class=\"colab-df-container\">\n",
              "      <div>\n",
              "<style scoped>\n",
              "    .dataframe tbody tr th:only-of-type {\n",
              "        vertical-align: middle;\n",
              "    }\n",
              "\n",
              "    .dataframe tbody tr th {\n",
              "        vertical-align: top;\n",
              "    }\n",
              "\n",
              "    .dataframe thead th {\n",
              "        text-align: right;\n",
              "    }\n",
              "</style>\n",
              "<table border=\"1\" class=\"dataframe\">\n",
              "  <thead>\n",
              "    <tr style=\"text-align: right;\">\n",
              "      <th></th>\n",
              "      <th>cidade</th>\n",
              "      <th>data</th>\n",
              "      <th>tipo</th>\n",
              "    </tr>\n",
              "    <tr>\n",
              "      <th>codigo</th>\n",
              "      <th></th>\n",
              "      <th></th>\n",
              "      <th></th>\n",
              "    </tr>\n",
              "  </thead>\n",
              "  <tbody>\n",
              "    <tr>\n",
              "      <th>40107</th>\n",
              "      <td>GURUPÁ</td>\n",
              "      <td>2010-01-12</td>\n",
              "      <td>ACIDENTE</td>\n",
              "    </tr>\n",
              "    <tr>\n",
              "      <th>40147</th>\n",
              "      <td>UNIÃO DA VITÓRIA</td>\n",
              "      <td>2010-04-08</td>\n",
              "      <td>ACIDENTE</td>\n",
              "    </tr>\n",
              "    <tr>\n",
              "      <th>40148</th>\n",
              "      <td>CAMPO GRANDE</td>\n",
              "      <td>2010-03-19</td>\n",
              "      <td>ACIDENTE</td>\n",
              "    </tr>\n",
              "    <tr>\n",
              "      <th>40149</th>\n",
              "      <td>LUZIÂNIA</td>\n",
              "      <td>2010-03-21</td>\n",
              "      <td>ACIDENTE</td>\n",
              "    </tr>\n",
              "    <tr>\n",
              "      <th>40150</th>\n",
              "      <td>SANTA MARIA</td>\n",
              "      <td>2010-03-10</td>\n",
              "      <td>INCIDENTE GRAVE</td>\n",
              "    </tr>\n",
              "    <tr>\n",
              "      <th>40168</th>\n",
              "      <td>MONTES CLAROS</td>\n",
              "      <td>2010-03-17</td>\n",
              "      <td>INCIDENTE</td>\n",
              "    </tr>\n",
              "  </tbody>\n",
              "</table>\n",
              "</div>\n",
              "      <button class=\"colab-df-convert\" onclick=\"convertToInteractive('df-be879bb9-ba02-4a29-8bd9-b37263abf52e')\"\n",
              "              title=\"Convert this dataframe to an interactive table.\"\n",
              "              style=\"display:none;\">\n",
              "        \n",
              "  <svg xmlns=\"http://www.w3.org/2000/svg\" height=\"24px\"viewBox=\"0 0 24 24\"\n",
              "       width=\"24px\">\n",
              "    <path d=\"M0 0h24v24H0V0z\" fill=\"none\"/>\n",
              "    <path d=\"M18.56 5.44l.94 2.06.94-2.06 2.06-.94-2.06-.94-.94-2.06-.94 2.06-2.06.94zm-11 1L8.5 8.5l.94-2.06 2.06-.94-2.06-.94L8.5 2.5l-.94 2.06-2.06.94zm10 10l.94 2.06.94-2.06 2.06-.94-2.06-.94-.94-2.06-.94 2.06-2.06.94z\"/><path d=\"M17.41 7.96l-1.37-1.37c-.4-.4-.92-.59-1.43-.59-.52 0-1.04.2-1.43.59L10.3 9.45l-7.72 7.72c-.78.78-.78 2.05 0 2.83L4 21.41c.39.39.9.59 1.41.59.51 0 1.02-.2 1.41-.59l7.78-7.78 2.81-2.81c.8-.78.8-2.07 0-2.86zM5.41 20L4 18.59l7.72-7.72 1.47 1.35L5.41 20z\"/>\n",
              "  </svg>\n",
              "      </button>\n",
              "      \n",
              "  <style>\n",
              "    .colab-df-container {\n",
              "      display:flex;\n",
              "      flex-wrap:wrap;\n",
              "      gap: 12px;\n",
              "    }\n",
              "\n",
              "    .colab-df-convert {\n",
              "      background-color: #E8F0FE;\n",
              "      border: none;\n",
              "      border-radius: 50%;\n",
              "      cursor: pointer;\n",
              "      display: none;\n",
              "      fill: #1967D2;\n",
              "      height: 32px;\n",
              "      padding: 0 0 0 0;\n",
              "      width: 32px;\n",
              "    }\n",
              "\n",
              "    .colab-df-convert:hover {\n",
              "      background-color: #E2EBFA;\n",
              "      box-shadow: 0px 1px 2px rgba(60, 64, 67, 0.3), 0px 1px 3px 1px rgba(60, 64, 67, 0.15);\n",
              "      fill: #174EA6;\n",
              "    }\n",
              "\n",
              "    [theme=dark] .colab-df-convert {\n",
              "      background-color: #3B4455;\n",
              "      fill: #D2E3FC;\n",
              "    }\n",
              "\n",
              "    [theme=dark] .colab-df-convert:hover {\n",
              "      background-color: #434B5C;\n",
              "      box-shadow: 0px 1px 3px 1px rgba(0, 0, 0, 0.15);\n",
              "      filter: drop-shadow(0px 1px 2px rgba(0, 0, 0, 0.3));\n",
              "      fill: #FFFFFF;\n",
              "    }\n",
              "  </style>\n",
              "\n",
              "      <script>\n",
              "        const buttonEl =\n",
              "          document.querySelector('#df-be879bb9-ba02-4a29-8bd9-b37263abf52e button.colab-df-convert');\n",
              "        buttonEl.style.display =\n",
              "          google.colab.kernel.accessAllowed ? 'block' : 'none';\n",
              "\n",
              "        async function convertToInteractive(key) {\n",
              "          const element = document.querySelector('#df-be879bb9-ba02-4a29-8bd9-b37263abf52e');\n",
              "          const dataTable =\n",
              "            await google.colab.kernel.invokeFunction('convertToInteractive',\n",
              "                                                     [key], {});\n",
              "          if (!dataTable) return;\n",
              "\n",
              "          const docLinkHtml = 'Like what you see? Visit the ' +\n",
              "            '<a target=\"_blank\" href=https://colab.research.google.com/notebooks/data_table.ipynb>data table notebook</a>'\n",
              "            + ' to learn more about interactive tables.';\n",
              "          element.innerHTML = '';\n",
              "          dataTable['output_type'] = 'display_data';\n",
              "          await google.colab.output.renderOutput(dataTable, element);\n",
              "          const docLink = document.createElement('div');\n",
              "          docLink.innerHTML = docLinkHtml;\n",
              "          element.appendChild(docLink);\n",
              "        }\n",
              "      </script>\n",
              "    </div>\n",
              "  </div>\n",
              "  "
            ]
          },
          "metadata": {},
          "execution_count": 170
        }
      ]
    },
    {
      "cell_type": "code",
      "source": [
        "df_result = df_ocorrencia_csv[['aeronave_ano_fabricacao']].sample(2000)\n",
        "df_result.plot()"
      ],
      "metadata": {
        "id": "5pyp_a7DMW5_",
        "colab": {
          "base_uri": "https://localhost:8080/",
          "height": 297
        },
        "outputId": "441c169c-828e-41d1-d4a8-1efd19c495b1"
      },
      "execution_count": 171,
      "outputs": [
        {
          "output_type": "execute_result",
          "data": {
            "text/plain": [
              "<matplotlib.axes._subplots.AxesSubplot at 0x7f48f7363490>"
            ]
          },
          "metadata": {},
          "execution_count": 171
        },
        {
          "output_type": "display_data",
          "data": {
            "text/plain": [
              "<Figure size 432x288 with 1 Axes>"
            ],
            "image/png": "[encoded data removed]"
          },
          "metadata": {
            "needs_background": "light"
          }
        }
      ]
    },
    {
      "cell_type": "code",
      "source": [
        "import pandas as pd # para dados\n",
        "import numpy as np # trabalhar com arrays numéricos\n",
        "import matplotlib.pyplot as plt # biblioteca gráfica padrão, usada pelo Pandas\n",
        "import seaborn as sns # outra biblioteca gráfica\n",
        "\n",
        "# mostra os gráficos, suprimindo mensagens\n",
        "%matplotlib inline "
      ],
      "metadata": {
        "id": "C9c8jSaoJos3"
      },
      "execution_count": 172,
      "outputs": []
    },
    {
      "cell_type": "code",
      "source": [
        "df_ocorrencia_csv['aeronave_assentos'].plot(kind='hist')\n",
        "plt.title('Assentos da Aeronaves') # coloca um título no gráfico\n",
        "plt.show()"
      ],
      "metadata": {
        "id": "1GpB3qrPIOpA",
        "colab": {
          "base_uri": "https://localhost:8080/",
          "height": 281
        },
        "outputId": "d283f3be-ed8b-41d2-c00f-550501bea628"
      },
      "execution_count": 173,
      "outputs": [
        {
          "output_type": "display_data",
          "data": {
            "text/plain": [
              "<Figure size 432x288 with 1 Axes>"
            ],
            "image/png": "[encoded data removed]"
          },
          "metadata": {
            "needs_background": "light"
          }
        }
      ]
    },
    {
      "cell_type": "code",
      "source": [
        "df_ocorrencia_csv['aeronave_ano_fabricacao'].plot(kind='hist')\n",
        "plt.title('Acidentes por Ano') # coloca um título no gráfico\n",
        "plt.show()"
      ],
      "metadata": {
        "id": "DvOf5VIMqyS9",
        "colab": {
          "base_uri": "https://localhost:8080/",
          "height": 281
        },
        "outputId": "ff1ce476-5689-455d-df34-8bc4c4ed151a"
      },
      "execution_count": 175,
      "outputs": [
        {
          "output_type": "display_data",
          "data": {
            "text/plain": [
              "<Figure size 432x288 with 1 Axes>"
            ],
            "image/png": "[encoded data removed]"
          },
          "metadata": {
            "needs_background": "light"
          }
        }
      ]
    },
    {
      "cell_type": "code",
      "source": [
        "import numpy as np\n",
        "from matplotlib import pyplot as plt\n",
        "\n",
        "ys = 200 + np.random.randn(100)\n",
        "x = [x for x in range(len(ys))]\n",
        "\n",
        "plt.plot(x, ys, '-')\n",
        "plt.fill_between(x, ys, 195, where=(ys > 195), facecolor='g', alpha=0.6)\n",
        "\n",
        "plt.title(\"DEMONSTRAÇÃO GRÁFICO:  UTILIZANDO MATPLOTLIB - SEM PRECISAR INSTALAÇÃO - APENAS IMPORTAÇÃO\")\n",
        "\n",
        "plt.show()"
      ],
      "metadata": {
        "id": "o621LW9YnoHC",
        "colab": {
          "base_uri": "https://localhost:8080/",
          "height": 283
        },
        "outputId": "6b779aa2-fc72-477d-a8c4-11b277403671"
      },
      "execution_count": 179,
      "outputs": [
        {
          "output_type": "display_data",
          "data": {
            "text/plain": [
              "<Figure size 432x288 with 1 Axes>"
            ],
            "image/png": "[encoded data removed]"
          },
          "metadata": {
            "needs_background": "light"
          }
        }
      ]
    },
    {
      "cell_type": "code",
      "execution_count": 180,
      "metadata": {
        "id": "__3eqm3q3sr-",
        "colab": {
          "base_uri": "https://localhost:8080/"
        },
        "outputId": "c586d106-541c-498a-8c02-eeae10622356"
      },
      "outputs": [
        {
          "output_type": "stream",
          "name": "stdout",
          "text": [
            "Selecting previously unselected package libfluidsynth1:amd64.\n",
            "(Reading database ... 155632 files and directories currently installed.)\n",
            "Preparing to unpack .../libfluidsynth1_1.1.9-1_amd64.deb ...\n",
            "Unpacking libfluidsynth1:amd64 (1.1.9-1) ...\n",
            "Setting up libfluidsynth1:amd64 (1.1.9-1) ...\n",
            "Processing triggers for libc-bin (2.27-3ubuntu1.3) ...\n",
            "/sbin/ldconfig.real: /usr/local/lib/python3.7/dist-packages/ideep4py/lib/libmkldnn.so.0 is not a symbolic link\n",
            "\n"
          ]
        }
      ],
      "source": [
        "!apt-get -qq install -y libfluidsynth1"
      ]
    },
    {
      "cell_type": "markdown",
      "source": [
        "### Waffle"
      ],
      "metadata": {
        "id": "vI2G4mFMXyps"
      }
    },
    {
      "cell_type": "code",
      "source": [
        "!pip install pywaffle -q"
      ],
      "metadata": {
        "id": "V53l5-MVtScn",
        "outputId": "48af4d2d-8e3b-4e3c-9517-e543241a6ab0",
        "colab": {
          "base_uri": "https://localhost:8080/"
        }
      },
      "execution_count": 181,
      "outputs": [
        {
          "output_type": "stream",
          "name": "stdout",
          "text": [
            "\u001b[?25l\r\u001b[K     |▋                               | 10 kB 23.5 MB/s eta 0:00:01\r\u001b[K     |█▏                              | 20 kB 12.5 MB/s eta 0:00:01\r\u001b[K     |█▊                              | 30 kB 9.4 MB/s eta 0:00:01\r\u001b[K     |██▎                             | 40 kB 8.3 MB/s eta 0:00:01\r\u001b[K     |███                             | 51 kB 4.7 MB/s eta 0:00:01\r\u001b[K     |███▌                            | 61 kB 5.5 MB/s eta 0:00:01\r\u001b[K     |████                            | 71 kB 5.4 MB/s eta 0:00:01\r\u001b[K     |████▋                           | 81 kB 5.3 MB/s eta 0:00:01\r\u001b[K     |█████▏                          | 92 kB 5.9 MB/s eta 0:00:01\r\u001b[K     |█████▉                          | 102 kB 5.2 MB/s eta 0:00:01\r\u001b[K     |██████▍                         | 112 kB 5.2 MB/s eta 0:00:01\r\u001b[K     |███████                         | 122 kB 5.2 MB/s eta 0:00:01\r\u001b[K     |███████▌                        | 133 kB 5.2 MB/s eta 0:00:01\r\u001b[K     |████████                        | 143 kB 5.2 MB/s eta 0:00:01\r\u001b[K     |████████▊                       | 153 kB 5.2 MB/s eta 0:00:01\r\u001b[K     |█████████▎                      | 163 kB 5.2 MB/s eta 0:00:01\r\u001b[K     |█████████▉                      | 174 kB 5.2 MB/s eta 0:00:01\r\u001b[K     |██████████▍                     | 184 kB 5.2 MB/s eta 0:00:01\r\u001b[K     |███████████                     | 194 kB 5.2 MB/s eta 0:00:01\r\u001b[K     |███████████▋                    | 204 kB 5.2 MB/s eta 0:00:01\r\u001b[K     |████████████▏                   | 215 kB 5.2 MB/s eta 0:00:01\r\u001b[K     |████████████▊                   | 225 kB 5.2 MB/s eta 0:00:01\r\u001b[K     |█████████████▎                  | 235 kB 5.2 MB/s eta 0:00:01\r\u001b[K     |██████████████                  | 245 kB 5.2 MB/s eta 0:00:01\r\u001b[K     |██████████████▌                 | 256 kB 5.2 MB/s eta 0:00:01\r\u001b[K     |███████████████                 | 266 kB 5.2 MB/s eta 0:00:01\r\u001b[K     |███████████████▋                | 276 kB 5.2 MB/s eta 0:00:01\r\u001b[K     |████████████████▏               | 286 kB 5.2 MB/s eta 0:00:01\r\u001b[K     |████████████████▉               | 296 kB 5.2 MB/s eta 0:00:01\r\u001b[K     |█████████████████▍              | 307 kB 5.2 MB/s eta 0:00:01\r\u001b[K     |██████████████████              | 317 kB 5.2 MB/s eta 0:00:01\r\u001b[K     |██████████████████▌             | 327 kB 5.2 MB/s eta 0:00:01\r\u001b[K     |███████████████████             | 337 kB 5.2 MB/s eta 0:00:01\r\u001b[K     |███████████████████▊            | 348 kB 5.2 MB/s eta 0:00:01\r\u001b[K     |████████████████████▎           | 358 kB 5.2 MB/s eta 0:00:01\r\u001b[K     |████████████████████▉           | 368 kB 5.2 MB/s eta 0:00:01\r\u001b[K     |█████████████████████▍          | 378 kB 5.2 MB/s eta 0:00:01\r\u001b[K     |██████████████████████          | 389 kB 5.2 MB/s eta 0:00:01\r\u001b[K     |██████████████████████▋         | 399 kB 5.2 MB/s eta 0:00:01\r\u001b[K     |███████████████████████▏        | 409 kB 5.2 MB/s eta 0:00:01\r\u001b[K     |███████████████████████▊        | 419 kB 5.2 MB/s eta 0:00:01\r\u001b[K     |████████████████████████▎       | 430 kB 5.2 MB/s eta 0:00:01\r\u001b[K     |█████████████████████████       | 440 kB 5.2 MB/s eta 0:00:01\r\u001b[K     |█████████████████████████▌      | 450 kB 5.2 MB/s eta 0:00:01\r\u001b[K     |██████████████████████████      | 460 kB 5.2 MB/s eta 0:00:01\r\u001b[K     |██████████████████████████▋     | 471 kB 5.2 MB/s eta 0:00:01\r\u001b[K     |███████████████████████████▏    | 481 kB 5.2 MB/s eta 0:00:01\r\u001b[K     |███████████████████████████▉    | 491 kB 5.2 MB/s eta 0:00:01\r\u001b[K     |████████████████████████████▍   | 501 kB 5.2 MB/s eta 0:00:01\r\u001b[K     |█████████████████████████████   | 512 kB 5.2 MB/s eta 0:00:01\r\u001b[K     |█████████████████████████████▌  | 522 kB 5.2 MB/s eta 0:00:01\r\u001b[K     |██████████████████████████████▏ | 532 kB 5.2 MB/s eta 0:00:01\r\u001b[K     |██████████████████████████████▊ | 542 kB 5.2 MB/s eta 0:00:01\r\u001b[K     |███████████████████████████████▎| 552 kB 5.2 MB/s eta 0:00:01\r\u001b[K     |███████████████████████████████▉| 563 kB 5.2 MB/s eta 0:00:01\r\u001b[K     |████████████████████████████████| 565 kB 5.2 MB/s \n",
            "\u001b[?25h"
          ]
        }
      ]
    },
    {
      "cell_type": "code",
      "source": [
        "# importar o pandas\n",
        "import pandas as pd\n",
        "import matplotlib.pyplot as plt\n",
        "import matplotlib as mpl\n",
        "import seaborn \n",
        "from pywaffle import Waffle\n",
        "\n",
        "\n",
        "# importar dados do CENIPA\n",
        "df = pd.read_csv(\"https://raw.githubusercontent.com/carlosfab/curso_data_science_na_pratica/master/modulo_02/ocorrencias_aviacao.csv\")\n",
        "\n",
        "# extrair value counts da variavel ocorrencia_classificacao\n",
        "data = df.ocorrencia_classificacao.value_counts().to_dict()\n",
        "\n",
        "# plotar gráfico de waffle\n",
        "fig = plt.figure(\n",
        "                FigureClass=Waffle,\n",
        "                rows=10,\n",
        "                columns=25,\n",
        "                colors=(\"#232066\", \"#983D3D\", \"#DCB732\"),\n",
        "                values=data, icons='plane', icon_size=12,\n",
        "                legend={'loc': 'upper left', 'bbox_to_anchor': (1,1)},\n",
        "                icon_legend=True\n",
        "                )\n",
        "fig.set_tight_layout(False)\n",
        "plt.show();"
      ],
      "metadata": {
        "colab": {
          "base_uri": "https://localhost:8080/",
          "height": 165
        },
        "id": "52GJqPfBtNdw",
        "outputId": "91b4d704-53c6-4c53-9bf1-8329ee014d6c"
      },
      "execution_count": 182,
      "outputs": [
        {
          "output_type": "display_data",
          "data": {
            "text/plain": [
              "<Waffle size 432x288 with 1 Axes>"
            ],
            "image/png": "[encoded data removed]"
          },
          "metadata": {
            "needs_background": "light"
          }
        }
      ]
    },
    {
      "cell_type": "markdown",
      "source": [
        "#  <font color=lighblue> 8.1 Regressão Linear"
      ],
      "metadata": {
        "id": "XrpT38tFUv2U"
      }
    },
    {
      "cell_type": "code",
      "source": [
        "import seaborn as sns\n",
        "sns.set(style=\"ticks\")\n",
        "\n",
        "# Load the example dataset for Anscombe's quartet\n",
        "df = sns.load_dataset(\"anscombe\")\n",
        "\n",
        "# Show the results of a linear regression within each dataset\n",
        "sns.lmplot(x=\"x\", y=\"y\", col=\"dataset\", hue=\"dataset\", data=df,\n",
        "           col_wrap=2, ci=None, palette=\"muted\", height=4,\n",
        "           scatter_kws={\"s\": 50, \"alpha\": 1})"
      ],
      "metadata": {
        "id": "2cfDcsrfnQne",
        "colab": {
          "base_uri": "https://localhost:8080/",
          "height": 598
        },
        "outputId": "bb30cea7-ff8b-47f5-b4f7-0db4350822f0"
      },
      "execution_count": null,
      "outputs": [
        {
          "output_type": "execute_result",
          "data": {
            "text/plain": [
              "<seaborn.axisgrid.FacetGrid at 0x7f07596991d0>"
            ]
          },
          "metadata": {},
          "execution_count": 42
        },
        {
          "output_type": "display_data",
          "data": {
            "text/plain": [
              "<Figure size 576x576 with 4 Axes>"
            ],
            "image/png": "[encoded data removed]"
          },
          "metadata": {}
        }
      ]
    },
    {
      "cell_type": "code",
      "source": [
        ""
      ],
      "metadata": {
        "id": "FzmFVaYgUmi2"
      },
      "execution_count": null,
      "outputs": []
    },
    {
      "cell_type": "markdown",
      "source": [
        "# <font color=lighblue> 8.2  Plotagens de Gráficos Utilizando Microsoft Power BI"
      ],
      "metadata": {
        "id": "qE8uudalwVEB"
      }
    },
    {
      "cell_type": "markdown",
      "source": [
        "1"
      ],
      "metadata": {
        "id": "8irOhVa3wmjm"
      }
    },
    {
      "cell_type": "markdown",
      "source": [
        "2"
      ],
      "metadata": {
        "id": "SatI7iwkwowF"
      }
    },
    {
      "cell_type": "markdown",
      "source": [
        "#  <font color=lighblue> 9 - Dataframe (Ocorrências Aviação) - CURSO DATASCIENCE - PROF: CARLOS MELO - (F.A.B)\n",
        "\n",
        "O Intuito de trazer esse dataframe  `(Ocorrências Aviação)` (Conteúdo externo ao apresentado no material do Projeto em Governança de T.I, conforme as Aulas do Prof, Edson Melo de Souza em Ciência de Dados) de realizar análises, carregamento, funções, plotagens etc,  dos dados das informações contidos nos arquivos `.csv` e exibindo a Didática e Sintaxe de Python utilizando os formatos `.ipynb` Relacionando a um comparativo á disciplina estudada, como Intuito de complementar o estudo desse Projeto, pode ser consultado na página oficial.\n",
        "Acesse: https://github.com/carlosfab/curso_data_science_na_pratica"
      ],
      "metadata": {
        "id": "cx8dFov6XXjn"
      }
    },
    {
      "cell_type": "code",
      "source": [
        "# importar os pacotes necessários\n",
        "import pandas as pd\n",
        "\n",
        "# importar o arquivo csv\n",
        "df = pd.read_csv(\"https://raw.githubusercontent.com/carlosfab/curso_data_science_na_pratica/master/modulo_02/ocorrencias_aviacao.csv\",\n",
        "                index_col='codigo_ocorrencia')\n",
        "\n",
        "# ver as primeiras entradas\n",
        "df.head(15)"
      ],
      "metadata": {
        "colab": {
          "base_uri": "https://localhost:8080/",
          "height": 1000
        },
        "id": "t9YEp5liXcuk",
        "outputId": "6fff96f5-0c94-44e8-e942-0f16288e606c"
      },
      "execution_count": 183,
      "outputs": [
        {
          "output_type": "execute_result",
          "data": {
            "text/plain": [
              "                  ocorrencia_classificacao  \\\n",
              "codigo_ocorrencia                            \n",
              "201305055424986                   ACIDENTE   \n",
              "201605160250139            INCIDENTE GRAVE   \n",
              "201805021421302                  INCIDENTE   \n",
              "201311259977425            INCIDENTE GRAVE   \n",
              "201103187273112                  INCIDENTE   \n",
              "200808073991179                   ACIDENTE   \n",
              "201108118145873                   ACIDENTE   \n",
              "201604251335501            INCIDENTE GRAVE   \n",
              "201604062021424                   ACIDENTE   \n",
              "200902274965349                  INCIDENTE   \n",
              "200912289948837                   ACIDENTE   \n",
              "201211159478138                   ACIDENTE   \n",
              "201208018273083                   ACIDENTE   \n",
              "201106206058374                  INCIDENTE   \n",
              "200811167138358                   ACIDENTE   \n",
              "\n",
              "                                                     ocorrencia_tipo  \\\n",
              "codigo_ocorrencia                                                      \n",
              "201305055424986                                FALHA DO MOTOR EM VOO   \n",
              "201605160250139    COLISÃO COM OBSTÁCULO DURANTE A DECOLAGEM E POUSO   \n",
              "201805021421302                                            AERÓDROMO   \n",
              "201311259977425                                       POUSO SEM TREM   \n",
              "201103187273112                                               OUTROS   \n",
              "200808073991179                            PERDA DE CONTROLE NO SOLO   \n",
              "201108118145873                                          POUSO LONGO   \n",
              "201604251335501                                        TRÁFEGO AÉREO   \n",
              "201604062021424                            PERDA DE CONTROLE NO SOLO   \n",
              "200902274965349                            PERDA DE CONTROLE NO SOLO   \n",
              "200912289948837                             PERDA DE CONTROLE EM VOO   \n",
              "201211159478138                                FALHA DO MOTOR EM VOO   \n",
              "201208018273083                                    COM TREM DE POUSO   \n",
              "201106206058374                            PERDA DE CONTROLE NO SOLO   \n",
              "200811167138358                                FALHA DO MOTOR EM VOO   \n",
              "\n",
              "                                           ocorrencia_tipo_categoria  \\\n",
              "codigo_ocorrencia                                                      \n",
              "201305055424986                  FALHA OU MAU FUNCIONAMENTO DO MOTOR   \n",
              "201605160250139    COLISÃO COM OBSTÁCULO DURANTE A DECOLAGEM E POUSO   \n",
              "201805021421302                                            AERÓDROMO   \n",
              "201311259977425                          CONTATO ANORMAL COM A PISTA   \n",
              "201103187273112                                               OUTROS   \n",
              "200808073991179                            PERDA DE CONTROLE NO SOLO   \n",
              "201108118145873                                    EXCURSÃO DE PISTA   \n",
              "201604251335501                  PERDA DE SEPARAÇÃO / COLISÃO EM VOO   \n",
              "201604062021424                            PERDA DE CONTROLE NO SOLO   \n",
              "200902274965349                            PERDA DE CONTROLE NO SOLO   \n",
              "200912289948837                             PERDA DE CONTROLE EM VOO   \n",
              "201211159478138                  FALHA OU MAU FUNCIONAMENTO DO MOTOR   \n",
              "201208018273083    FALHA OU MAU FUNCIONAMENTO DE SISTEMA / COMPON...   \n",
              "201106206058374                            PERDA DE CONTROLE NO SOLO   \n",
              "200811167138358                  FALHA OU MAU FUNCIONAMENTO DO MOTOR   \n",
              "\n",
              "                  ocorrencia_tipo_icao  ocorrencia_latitude  \\\n",
              "codigo_ocorrencia                                             \n",
              "201305055424986                 SCF-PP              -9.9085   \n",
              "201605160250139                   CTOL             -11.2644   \n",
              "201805021421302                   ADRM             -11.4956   \n",
              "201311259977425                    ARC             -11.4956   \n",
              "201103187273112                   OTHR             -13.1950   \n",
              "200808073991179                  LOC-G              -9.1194   \n",
              "201108118145873                     RE               3.7119   \n",
              "201604251335501                    MAC               3.5544   \n",
              "201604062021424                  LOC-G               3.7633   \n",
              "200902274965349                  LOC-G               3.6521   \n",
              "200912289948837                  LOC-I             -31.6261   \n",
              "201211159478138                 SCF-PP             -16.7588   \n",
              "201208018273083                 SCF-NP              -2.6758   \n",
              "201106206058374                  LOC-G               2.9938   \n",
              "200811167138358                 SCF-PP               2.8100   \n",
              "\n",
              "                   ocorrencia_longitude ocorrencia_cidade ocorrencia_uf  \\\n",
              "codigo_ocorrencia                                                         \n",
              "201305055424986                -63.0333         ARIQUEMES            RO   \n",
              "201605160250139                -61.2589            CACOAL            RO   \n",
              "201805021421302                -61.4508            CACOAL            RO   \n",
              "201311259977425                -61.4508            CACOAL            RO   \n",
              "201103187273112                -60.8184        CEREJEIRAS            RO   \n",
              "200808073991179                -68.5978        CEREJEIRAS            RO   \n",
              "201108118145873                -64.1625           AMAJARI            RR   \n",
              "201604251335501                -61.8694           AMAJARI            RR   \n",
              "201604062021424                -62.4094           AMAJARI            RR   \n",
              "200902274965349                -61.4206           AMAJARI            RR   \n",
              "200912289948837                -54.2125            ACEGUÁ            RS   \n",
              "201211159478138                -49.4405   ABADIA DE GOIÁS            GO   \n",
              "201208018273083                -63.7469       ALTO ALEGRE            RR   \n",
              "201106206058374                -61.3140       ALTO ALEGRE            RR   \n",
              "200811167138358                -61.3831       ALTO ALEGRE            RR   \n",
              "\n",
              "                  ocorrencia_pais ocorrencia_aerodromo ocorrencia_dia  \\\n",
              "codigo_ocorrencia                                                       \n",
              "201305055424986            BRASIL                 SJOG     2013-05-05   \n",
              "201605160250139            BRASIL                 SSKW     2016-05-13   \n",
              "201805021421302            BRASIL                 SSKW     2018-03-09   \n",
              "201311259977425            BRASIL                 SSKW     2013-11-25   \n",
              "201103187273112            BRASIL                 ****     2011-03-18   \n",
              "200808073991179            BRASIL                 ****     2008-08-07   \n",
              "201108118145873            BRASIL                 ****     2011-08-11   \n",
              "201604251335501            BRASIL                 ****     2016-02-24   \n",
              "201604062021424            BRASIL                 SWAQ     2016-04-05   \n",
              "200902274965349            BRASIL                 ****     2009-02-27   \n",
              "200912289948837            BRASIL                 ****     2009-12-28   \n",
              "201211159478138            BRASIL                 ****     2012-11-15   \n",
              "201208018273083            BRASIL                 ****     2012-08-01   \n",
              "201106206058374            BRASIL                 ****     2011-06-20   \n",
              "200811167138358            BRASIL                 ****     2008-11-16   \n",
              "\n",
              "                  ocorrencia_horario investigacao_aeronave_liberada  \\\n",
              "codigo_ocorrencia                                                     \n",
              "201305055424986             11:00:00                            NaN   \n",
              "201605160250139             19:19:00                            SIM   \n",
              "201805021421302             22:40:00                            SIM   \n",
              "201311259977425             12:32:00                            NaN   \n",
              "201103187273112             13:30:00                            NaN   \n",
              "200808073991179             15:10:00                            NaN   \n",
              "201108118145873             17:00:00                            NaN   \n",
              "201604251335501             05:48:00                            SIM   \n",
              "201604062021424             16:05:00                            SIM   \n",
              "200902274965349             16:30:00                            NaN   \n",
              "200912289948837             17:30:00                            NaN   \n",
              "201211159478138             12:40:00                            NaN   \n",
              "201208018273083             16:20:00                            NaN   \n",
              "201106206058374             14:30:00                            NaN   \n",
              "200811167138358             12:25:00                            NaN   \n",
              "\n",
              "                  investigacao_status divulgacao_relatorio_numero  \\\n",
              "codigo_ocorrencia                                                   \n",
              "201305055424986            FINALIZADA                         ***   \n",
              "201605160250139                 ATIVA          IG-084/CENIPA/2016   \n",
              "201805021421302            FINALIZADA                         ***   \n",
              "201311259977425            FINALIZADA          IG-209/CENIPA/2013   \n",
              "201103187273112            FINALIZADA                         ***   \n",
              "200808073991179            FINALIZADA         A - 517/CENIPA/2016   \n",
              "201108118145873            FINALIZADA           A-105/CENIPA/2012   \n",
              "201604251335501                 ATIVA          IG-069/CENIPA/2016   \n",
              "201604062021424            FINALIZADA           A-063/CENIPA/2016   \n",
              "200902274965349            FINALIZADA                         ***   \n",
              "200912289948837                 ATIVA           A-512/CENIPA/2018   \n",
              "201211159478138            FINALIZADA                         ***   \n",
              "201208018273083            FINALIZADA           A-130/CENIPA/2013   \n",
              "201106206058374            FINALIZADA                         ***   \n",
              "200811167138358            FINALIZADA           A-566/CENIPA/2015   \n",
              "\n",
              "                  divulgacao_relatorio_publicado divulgacao_dia_publicacao  \\\n",
              "codigo_ocorrencia                                                            \n",
              "201305055424986                              NÃO                       NaN   \n",
              "201605160250139                              NÃO                       NaN   \n",
              "201805021421302                              NÃO                       NaN   \n",
              "201311259977425                              SIM                2014-04-07   \n",
              "201103187273112                              NÃO                       NaN   \n",
              "200808073991179                              SIM                2016-07-07   \n",
              "201108118145873                              SIM                2012-09-20   \n",
              "201604251335501                              NÃO                       NaN   \n",
              "201604062021424                              SIM                2017-06-22   \n",
              "200902274965349                              NÃO                       NaN   \n",
              "200912289948837                              NÃO                       NaN   \n",
              "201211159478138                              NÃO                       NaN   \n",
              "201208018273083                              SIM                2014-08-15   \n",
              "201106206058374                              NÃO                       NaN   \n",
              "200811167138358                              SIM                2016-03-18   \n",
              "\n",
              "                   total_recomendacoes  total_aeronaves_envolvidas  \\\n",
              "codigo_ocorrencia                                                    \n",
              "201305055424986                      0                           1   \n",
              "201605160250139                      0                           1   \n",
              "201805021421302                      0                           1   \n",
              "201311259977425                      0                           1   \n",
              "201103187273112                      0                           1   \n",
              "200808073991179                      0                           1   \n",
              "201108118145873                      4                           1   \n",
              "201604251335501                      0                           2   \n",
              "201604062021424                      2                           1   \n",
              "200902274965349                      0                           1   \n",
              "200912289948837                      0                           1   \n",
              "201211159478138                      0                           1   \n",
              "201208018273083                      1                           1   \n",
              "201106206058374                      0                           1   \n",
              "200811167138358                      3                           1   \n",
              "\n",
              "                  ocorrencia_saida_pista ocorrencia_dia_extracao  \n",
              "codigo_ocorrencia                                                 \n",
              "201305055424986                      NÃO              2018-08-28  \n",
              "201605160250139                      NÃO              2018-08-28  \n",
              "201805021421302                      NÃO              2018-08-28  \n",
              "201311259977425                      NÃO              2018-08-28  \n",
              "201103187273112                      NÃO              2018-08-28  \n",
              "200808073991179                      SIM              2018-08-28  \n",
              "201108118145873                      NÃO              2018-08-28  \n",
              "201604251335501                      NÃO              2018-08-28  \n",
              "201604062021424                      SIM              2018-08-28  \n",
              "200902274965349                      SIM              2018-08-28  \n",
              "200912289948837                      NÃO              2018-08-28  \n",
              "201211159478138                      NÃO              2018-08-28  \n",
              "201208018273083                      NÃO              2018-08-28  \n",
              "201106206058374                      NÃO              2018-08-28  \n",
              "200811167138358                      NÃO              2018-08-28  "
            ],
            "text/html": [
              "\n",
              "  <div id=\"df-d470cca6-c17c-4f44-a0e8-0ce2c541eeee\">\n",
              "    <div class=\"colab-df-container\">\n",
              "      <div>\n",
              "<style scoped>\n",
              "    .dataframe tbody tr th:only-of-type {\n",
              "        vertical-align: middle;\n",
              "    }\n",
              "\n",
              "    .dataframe tbody tr th {\n",
              "        vertical-align: top;\n",
              "    }\n",
              "\n",
              "    .dataframe thead th {\n",
              "        text-align: right;\n",
              "    }\n",
              "</style>\n",
              "<table border=\"1\" class=\"dataframe\">\n",
              "  <thead>\n",
              "    <tr style=\"text-align: right;\">\n",
              "      <th></th>\n",
              "      <th>ocorrencia_classificacao</th>\n",
              "      <th>ocorrencia_tipo</th>\n",
              "      <th>ocorrencia_tipo_categoria</th>\n",
              "      <th>ocorrencia_tipo_icao</th>\n",
              "      <th>ocorrencia_latitude</th>\n",
              "      <th>ocorrencia_longitude</th>\n",
              "      <th>ocorrencia_cidade</th>\n",
              "      <th>ocorrencia_uf</th>\n",
              "      <th>ocorrencia_pais</th>\n",
              "      <th>ocorrencia_aerodromo</th>\n",
              "      <th>ocorrencia_dia</th>\n",
              "      <th>ocorrencia_horario</th>\n",
              "      <th>investigacao_aeronave_liberada</th>\n",
              "      <th>investigacao_status</th>\n",
              "      <th>divulgacao_relatorio_numero</th>\n",
              "      <th>divulgacao_relatorio_publicado</th>\n",
              "      <th>divulgacao_dia_publicacao</th>\n",
              "      <th>total_recomendacoes</th>\n",
              "      <th>total_aeronaves_envolvidas</th>\n",
              "      <th>ocorrencia_saida_pista</th>\n",
              "      <th>ocorrencia_dia_extracao</th>\n",
              "    </tr>\n",
              "    <tr>\n",
              "      <th>codigo_ocorrencia</th>\n",
              "      <th></th>\n",
              "      <th></th>\n",
              "      <th></th>\n",
              "      <th></th>\n",
              "      <th></th>\n",
              "      <th></th>\n",
              "      <th></th>\n",
              "      <th></th>\n",
              "      <th></th>\n",
              "      <th></th>\n",
              "      <th></th>\n",
              "      <th></th>\n",
              "      <th></th>\n",
              "      <th></th>\n",
              "      <th></th>\n",
              "      <th></th>\n",
              "      <th></th>\n",
              "      <th></th>\n",
              "      <th></th>\n",
              "      <th></th>\n",
              "      <th></th>\n",
              "    </tr>\n",
              "  </thead>\n",
              "  <tbody>\n",
              "    <tr>\n",
              "      <th>201305055424986</th>\n",
              "      <td>ACIDENTE</td>\n",
              "      <td>FALHA DO MOTOR EM VOO</td>\n",
              "      <td>FALHA OU MAU FUNCIONAMENTO DO MOTOR</td>\n",
              "      <td>SCF-PP</td>\n",
              "      <td>-9.9085</td>\n",
              "      <td>-63.0333</td>\n",
              "      <td>ARIQUEMES</td>\n",
              "      <td>RO</td>\n",
              "      <td>BRASIL</td>\n",
              "      <td>SJOG</td>\n",
              "      <td>2013-05-05</td>\n",
              "      <td>11:00:00</td>\n",
              "      <td>NaN</td>\n",
              "      <td>FINALIZADA</td>\n",
              "      <td>***</td>\n",
              "      <td>NÃO</td>\n",
              "      <td>NaN</td>\n",
              "      <td>0</td>\n",
              "      <td>1</td>\n",
              "      <td>NÃO</td>\n",
              "      <td>2018-08-28</td>\n",
              "    </tr>\n",
              "    <tr>\n",
              "      <th>201605160250139</th>\n",
              "      <td>INCIDENTE GRAVE</td>\n",
              "      <td>COLISÃO COM OBSTÁCULO DURANTE A DECOLAGEM E POUSO</td>\n",
              "      <td>COLISÃO COM OBSTÁCULO DURANTE A DECOLAGEM E POUSO</td>\n",
              "      <td>CTOL</td>\n",
              "      <td>-11.2644</td>\n",
              "      <td>-61.2589</td>\n",
              "      <td>CACOAL</td>\n",
              "      <td>RO</td>\n",
              "      <td>BRASIL</td>\n",
              "      <td>SSKW</td>\n",
              "      <td>2016-05-13</td>\n",
              "      <td>19:19:00</td>\n",
              "      <td>SIM</td>\n",
              "      <td>ATIVA</td>\n",
              "      <td>IG-084/CENIPA/2016</td>\n",
              "      <td>NÃO</td>\n",
              "      <td>NaN</td>\n",
              "      <td>0</td>\n",
              "      <td>1</td>\n",
              "      <td>NÃO</td>\n",
              "      <td>2018-08-28</td>\n",
              "    </tr>\n",
              "    <tr>\n",
              "      <th>201805021421302</th>\n",
              "      <td>INCIDENTE</td>\n",
              "      <td>AERÓDROMO</td>\n",
              "      <td>AERÓDROMO</td>\n",
              "      <td>ADRM</td>\n",
              "      <td>-11.4956</td>\n",
              "      <td>-61.4508</td>\n",
              "      <td>CACOAL</td>\n",
              "      <td>RO</td>\n",
              "      <td>BRASIL</td>\n",
              "      <td>SSKW</td>\n",
              "      <td>2018-03-09</td>\n",
              "      <td>22:40:00</td>\n",
              "      <td>SIM</td>\n",
              "      <td>FINALIZADA</td>\n",
              "      <td>***</td>\n",
              "      <td>NÃO</td>\n",
              "      <td>NaN</td>\n",
              "      <td>0</td>\n",
              "      <td>1</td>\n",
              "      <td>NÃO</td>\n",
              "      <td>2018-08-28</td>\n",
              "    </tr>\n",
              "    <tr>\n",
              "      <th>201311259977425</th>\n",
              "      <td>INCIDENTE GRAVE</td>\n",
              "      <td>POUSO SEM TREM</td>\n",
              "      <td>CONTATO ANORMAL COM A PISTA</td>\n",
              "      <td>ARC</td>\n",
              "      <td>-11.4956</td>\n",
              "      <td>-61.4508</td>\n",
              "      <td>CACOAL</td>\n",
              "      <td>RO</td>\n",
              "      <td>BRASIL</td>\n",
              "      <td>SSKW</td>\n",
              "      <td>2013-11-25</td>\n",
              "      <td>12:32:00</td>\n",
              "      <td>NaN</td>\n",
              "      <td>FINALIZADA</td>\n",
              "      <td>IG-209/CENIPA/2013</td>\n",
              "      <td>SIM</td>\n",
              "      <td>2014-04-07</td>\n",
              "      <td>0</td>\n",
              "      <td>1</td>\n",
              "      <td>NÃO</td>\n",
              "      <td>2018-08-28</td>\n",
              "    </tr>\n",
              "    <tr>\n",
              "      <th>201103187273112</th>\n",
              "      <td>INCIDENTE</td>\n",
              "      <td>OUTROS</td>\n",
              "      <td>OUTROS</td>\n",
              "      <td>OTHR</td>\n",
              "      <td>-13.1950</td>\n",
              "      <td>-60.8184</td>\n",
              "      <td>CEREJEIRAS</td>\n",
              "      <td>RO</td>\n",
              "      <td>BRASIL</td>\n",
              "      <td>****</td>\n",
              "      <td>2011-03-18</td>\n",
              "      <td>13:30:00</td>\n",
              "      <td>NaN</td>\n",
              "      <td>FINALIZADA</td>\n",
              "      <td>***</td>\n",
              "      <td>NÃO</td>\n",
              "      <td>NaN</td>\n",
              "      <td>0</td>\n",
              "      <td>1</td>\n",
              "      <td>NÃO</td>\n",
              "      <td>2018-08-28</td>\n",
              "    </tr>\n",
              "    <tr>\n",
              "      <th>200808073991179</th>\n",
              "      <td>ACIDENTE</td>\n",
              "      <td>PERDA DE CONTROLE NO SOLO</td>\n",
              "      <td>PERDA DE CONTROLE NO SOLO</td>\n",
              "      <td>LOC-G</td>\n",
              "      <td>-9.1194</td>\n",
              "      <td>-68.5978</td>\n",
              "      <td>CEREJEIRAS</td>\n",
              "      <td>RO</td>\n",
              "      <td>BRASIL</td>\n",
              "      <td>****</td>\n",
              "      <td>2008-08-07</td>\n",
              "      <td>15:10:00</td>\n",
              "      <td>NaN</td>\n",
              "      <td>FINALIZADA</td>\n",
              "      <td>A - 517/CENIPA/2016</td>\n",
              "      <td>SIM</td>\n",
              "      <td>2016-07-07</td>\n",
              "      <td>0</td>\n",
              "      <td>1</td>\n",
              "      <td>SIM</td>\n",
              "      <td>2018-08-28</td>\n",
              "    </tr>\n",
              "    <tr>\n",
              "      <th>201108118145873</th>\n",
              "      <td>ACIDENTE</td>\n",
              "      <td>POUSO LONGO</td>\n",
              "      <td>EXCURSÃO DE PISTA</td>\n",
              "      <td>RE</td>\n",
              "      <td>3.7119</td>\n",
              "      <td>-64.1625</td>\n",
              "      <td>AMAJARI</td>\n",
              "      <td>RR</td>\n",
              "      <td>BRASIL</td>\n",
              "      <td>****</td>\n",
              "      <td>2011-08-11</td>\n",
              "      <td>17:00:00</td>\n",
              "      <td>NaN</td>\n",
              "      <td>FINALIZADA</td>\n",
              "      <td>A-105/CENIPA/2012</td>\n",
              "      <td>SIM</td>\n",
              "      <td>2012-09-20</td>\n",
              "      <td>4</td>\n",
              "      <td>1</td>\n",
              "      <td>NÃO</td>\n",
              "      <td>2018-08-28</td>\n",
              "    </tr>\n",
              "    <tr>\n",
              "      <th>201604251335501</th>\n",
              "      <td>INCIDENTE GRAVE</td>\n",
              "      <td>TRÁFEGO AÉREO</td>\n",
              "      <td>PERDA DE SEPARAÇÃO / COLISÃO EM VOO</td>\n",
              "      <td>MAC</td>\n",
              "      <td>3.5544</td>\n",
              "      <td>-61.8694</td>\n",
              "      <td>AMAJARI</td>\n",
              "      <td>RR</td>\n",
              "      <td>BRASIL</td>\n",
              "      <td>****</td>\n",
              "      <td>2016-02-24</td>\n",
              "      <td>05:48:00</td>\n",
              "      <td>SIM</td>\n",
              "      <td>ATIVA</td>\n",
              "      <td>IG-069/CENIPA/2016</td>\n",
              "      <td>NÃO</td>\n",
              "      <td>NaN</td>\n",
              "      <td>0</td>\n",
              "      <td>2</td>\n",
              "      <td>NÃO</td>\n",
              "      <td>2018-08-28</td>\n",
              "    </tr>\n",
              "    <tr>\n",
              "      <th>201604062021424</th>\n",
              "      <td>ACIDENTE</td>\n",
              "      <td>PERDA DE CONTROLE NO SOLO</td>\n",
              "      <td>PERDA DE CONTROLE NO SOLO</td>\n",
              "      <td>LOC-G</td>\n",
              "      <td>3.7633</td>\n",
              "      <td>-62.4094</td>\n",
              "      <td>AMAJARI</td>\n",
              "      <td>RR</td>\n",
              "      <td>BRASIL</td>\n",
              "      <td>SWAQ</td>\n",
              "      <td>2016-04-05</td>\n",
              "      <td>16:05:00</td>\n",
              "      <td>SIM</td>\n",
              "      <td>FINALIZADA</td>\n",
              "      <td>A-063/CENIPA/2016</td>\n",
              "      <td>SIM</td>\n",
              "      <td>2017-06-22</td>\n",
              "      <td>2</td>\n",
              "      <td>1</td>\n",
              "      <td>SIM</td>\n",
              "      <td>2018-08-28</td>\n",
              "    </tr>\n",
              "    <tr>\n",
              "      <th>200902274965349</th>\n",
              "      <td>INCIDENTE</td>\n",
              "      <td>PERDA DE CONTROLE NO SOLO</td>\n",
              "      <td>PERDA DE CONTROLE NO SOLO</td>\n",
              "      <td>LOC-G</td>\n",
              "      <td>3.6521</td>\n",
              "      <td>-61.4206</td>\n",
              "      <td>AMAJARI</td>\n",
              "      <td>RR</td>\n",
              "      <td>BRASIL</td>\n",
              "      <td>****</td>\n",
              "      <td>2009-02-27</td>\n",
              "      <td>16:30:00</td>\n",
              "      <td>NaN</td>\n",
              "      <td>FINALIZADA</td>\n",
              "      <td>***</td>\n",
              "      <td>NÃO</td>\n",
              "      <td>NaN</td>\n",
              "      <td>0</td>\n",
              "      <td>1</td>\n",
              "      <td>SIM</td>\n",
              "      <td>2018-08-28</td>\n",
              "    </tr>\n",
              "    <tr>\n",
              "      <th>200912289948837</th>\n",
              "      <td>ACIDENTE</td>\n",
              "      <td>PERDA DE CONTROLE EM VOO</td>\n",
              "      <td>PERDA DE CONTROLE EM VOO</td>\n",
              "      <td>LOC-I</td>\n",
              "      <td>-31.6261</td>\n",
              "      <td>-54.2125</td>\n",
              "      <td>ACEGUÁ</td>\n",
              "      <td>RS</td>\n",
              "      <td>BRASIL</td>\n",
              "      <td>****</td>\n",
              "      <td>2009-12-28</td>\n",
              "      <td>17:30:00</td>\n",
              "      <td>NaN</td>\n",
              "      <td>ATIVA</td>\n",
              "      <td>A-512/CENIPA/2018</td>\n",
              "      <td>NÃO</td>\n",
              "      <td>NaN</td>\n",
              "      <td>0</td>\n",
              "      <td>1</td>\n",
              "      <td>NÃO</td>\n",
              "      <td>2018-08-28</td>\n",
              "    </tr>\n",
              "    <tr>\n",
              "      <th>201211159478138</th>\n",
              "      <td>ACIDENTE</td>\n",
              "      <td>FALHA DO MOTOR EM VOO</td>\n",
              "      <td>FALHA OU MAU FUNCIONAMENTO DO MOTOR</td>\n",
              "      <td>SCF-PP</td>\n",
              "      <td>-16.7588</td>\n",
              "      <td>-49.4405</td>\n",
              "      <td>ABADIA DE GOIÁS</td>\n",
              "      <td>GO</td>\n",
              "      <td>BRASIL</td>\n",
              "      <td>****</td>\n",
              "      <td>2012-11-15</td>\n",
              "      <td>12:40:00</td>\n",
              "      <td>NaN</td>\n",
              "      <td>FINALIZADA</td>\n",
              "      <td>***</td>\n",
              "      <td>NÃO</td>\n",
              "      <td>NaN</td>\n",
              "      <td>0</td>\n",
              "      <td>1</td>\n",
              "      <td>NÃO</td>\n",
              "      <td>2018-08-28</td>\n",
              "    </tr>\n",
              "    <tr>\n",
              "      <th>201208018273083</th>\n",
              "      <td>ACIDENTE</td>\n",
              "      <td>COM TREM DE POUSO</td>\n",
              "      <td>FALHA OU MAU FUNCIONAMENTO DE SISTEMA / COMPON...</td>\n",
              "      <td>SCF-NP</td>\n",
              "      <td>-2.6758</td>\n",
              "      <td>-63.7469</td>\n",
              "      <td>ALTO ALEGRE</td>\n",
              "      <td>RR</td>\n",
              "      <td>BRASIL</td>\n",
              "      <td>****</td>\n",
              "      <td>2012-08-01</td>\n",
              "      <td>16:20:00</td>\n",
              "      <td>NaN</td>\n",
              "      <td>FINALIZADA</td>\n",
              "      <td>A-130/CENIPA/2013</td>\n",
              "      <td>SIM</td>\n",
              "      <td>2014-08-15</td>\n",
              "      <td>1</td>\n",
              "      <td>1</td>\n",
              "      <td>NÃO</td>\n",
              "      <td>2018-08-28</td>\n",
              "    </tr>\n",
              "    <tr>\n",
              "      <th>201106206058374</th>\n",
              "      <td>INCIDENTE</td>\n",
              "      <td>PERDA DE CONTROLE NO SOLO</td>\n",
              "      <td>PERDA DE CONTROLE NO SOLO</td>\n",
              "      <td>LOC-G</td>\n",
              "      <td>2.9938</td>\n",
              "      <td>-61.3140</td>\n",
              "      <td>ALTO ALEGRE</td>\n",
              "      <td>RR</td>\n",
              "      <td>BRASIL</td>\n",
              "      <td>****</td>\n",
              "      <td>2011-06-20</td>\n",
              "      <td>14:30:00</td>\n",
              "      <td>NaN</td>\n",
              "      <td>FINALIZADA</td>\n",
              "      <td>***</td>\n",
              "      <td>NÃO</td>\n",
              "      <td>NaN</td>\n",
              "      <td>0</td>\n",
              "      <td>1</td>\n",
              "      <td>NÃO</td>\n",
              "      <td>2018-08-28</td>\n",
              "    </tr>\n",
              "    <tr>\n",
              "      <th>200811167138358</th>\n",
              "      <td>ACIDENTE</td>\n",
              "      <td>FALHA DO MOTOR EM VOO</td>\n",
              "      <td>FALHA OU MAU FUNCIONAMENTO DO MOTOR</td>\n",
              "      <td>SCF-PP</td>\n",
              "      <td>2.8100</td>\n",
              "      <td>-61.3831</td>\n",
              "      <td>ALTO ALEGRE</td>\n",
              "      <td>RR</td>\n",
              "      <td>BRASIL</td>\n",
              "      <td>****</td>\n",
              "      <td>2008-11-16</td>\n",
              "      <td>12:25:00</td>\n",
              "      <td>NaN</td>\n",
              "      <td>FINALIZADA</td>\n",
              "      <td>A-566/CENIPA/2015</td>\n",
              "      <td>SIM</td>\n",
              "      <td>2016-03-18</td>\n",
              "      <td>3</td>\n",
              "      <td>1</td>\n",
              "      <td>NÃO</td>\n",
              "      <td>2018-08-28</td>\n",
              "    </tr>\n",
              "  </tbody>\n",
              "</table>\n",
              "</div>\n",
              "      <button class=\"colab-df-convert\" onclick=\"convertToInteractive('df-d470cca6-c17c-4f44-a0e8-0ce2c541eeee')\"\n",
              "              title=\"Convert this dataframe to an interactive table.\"\n",
              "              style=\"display:none;\">\n",
              "        \n",
              "  <svg xmlns=\"http://www.w3.org/2000/svg\" height=\"24px\"viewBox=\"0 0 24 24\"\n",
              "       width=\"24px\">\n",
              "    <path d=\"M0 0h24v24H0V0z\" fill=\"none\"/>\n",
              "    <path d=\"M18.56 5.44l.94 2.06.94-2.06 2.06-.94-2.06-.94-.94-2.06-.94 2.06-2.06.94zm-11 1L8.5 8.5l.94-2.06 2.06-.94-2.06-.94L8.5 2.5l-.94 2.06-2.06.94zm10 10l.94 2.06.94-2.06 2.06-.94-2.06-.94-.94-2.06-.94 2.06-2.06.94z\"/><path d=\"M17.41 7.96l-1.37-1.37c-.4-.4-.92-.59-1.43-.59-.52 0-1.04.2-1.43.59L10.3 9.45l-7.72 7.72c-.78.78-.78 2.05 0 2.83L4 21.41c.39.39.9.59 1.41.59.51 0 1.02-.2 1.41-.59l7.78-7.78 2.81-2.81c.8-.78.8-2.07 0-2.86zM5.41 20L4 18.59l7.72-7.72 1.47 1.35L5.41 20z\"/>\n",
              "  </svg>\n",
              "      </button>\n",
              "      \n",
              "  <style>\n",
              "    .colab-df-container {\n",
              "      display:flex;\n",
              "      flex-wrap:wrap;\n",
              "      gap: 12px;\n",
              "    }\n",
              "\n",
              "    .colab-df-convert {\n",
              "      background-color: #E8F0FE;\n",
              "      border: none;\n",
              "      border-radius: 50%;\n",
              "      cursor: pointer;\n",
              "      display: none;\n",
              "      fill: #1967D2;\n",
              "      height: 32px;\n",
              "      padding: 0 0 0 0;\n",
              "      width: 32px;\n",
              "    }\n",
              "\n",
              "    .colab-df-convert:hover {\n",
              "      background-color: #E2EBFA;\n",
              "      box-shadow: 0px 1px 2px rgba(60, 64, 67, 0.3), 0px 1px 3px 1px rgba(60, 64, 67, 0.15);\n",
              "      fill: #174EA6;\n",
              "    }\n",
              "\n",
              "    [theme=dark] .colab-df-convert {\n",
              "      background-color: #3B4455;\n",
              "      fill: #D2E3FC;\n",
              "    }\n",
              "\n",
              "    [theme=dark] .colab-df-convert:hover {\n",
              "      background-color: #434B5C;\n",
              "      box-shadow: 0px 1px 3px 1px rgba(0, 0, 0, 0.15);\n",
              "      filter: drop-shadow(0px 1px 2px rgba(0, 0, 0, 0.3));\n",
              "      fill: #FFFFFF;\n",
              "    }\n",
              "  </style>\n",
              "\n",
              "      <script>\n",
              "        const buttonEl =\n",
              "          document.querySelector('#df-d470cca6-c17c-4f44-a0e8-0ce2c541eeee button.colab-df-convert');\n",
              "        buttonEl.style.display =\n",
              "          google.colab.kernel.accessAllowed ? 'block' : 'none';\n",
              "\n",
              "        async function convertToInteractive(key) {\n",
              "          const element = document.querySelector('#df-d470cca6-c17c-4f44-a0e8-0ce2c541eeee');\n",
              "          const dataTable =\n",
              "            await google.colab.kernel.invokeFunction('convertToInteractive',\n",
              "                                                     [key], {});\n",
              "          if (!dataTable) return;\n",
              "\n",
              "          const docLinkHtml = 'Like what you see? Visit the ' +\n",
              "            '<a target=\"_blank\" href=https://colab.research.google.com/notebooks/data_table.ipynb>data table notebook</a>'\n",
              "            + ' to learn more about interactive tables.';\n",
              "          element.innerHTML = '';\n",
              "          dataTable['output_type'] = 'display_data';\n",
              "          await google.colab.output.renderOutput(dataTable, element);\n",
              "          const docLink = document.createElement('div');\n",
              "          docLink.innerHTML = docLinkHtml;\n",
              "          element.appendChild(docLink);\n",
              "        }\n",
              "      </script>\n",
              "    </div>\n",
              "  </div>\n",
              "  "
            ]
          },
          "metadata": {},
          "execution_count": 183
        }
      ]
    },
    {
      "cell_type": "markdown",
      "source": [
        "# <font color=lighblue> 10 - Refêrencias Bibliograficas\n"
      ],
      "metadata": {
        "id": "5ots3UJnTFuF"
      }
    },
    {
      "cell_type": "markdown",
      "source": [
        "## Alura\n",
        "Foram realizado Cursos na Modalidade Ciência de Dados - Python.\n",
        "- 1\n",
        "- 2\n",
        "- 3\n",
        "---\n",
        "\n",
        "## Pandas\n",
        "Documentação Oficial:\n",
        "\n",
        "> https://pandas.com.br \n",
        "\n",
        "---\n",
        " ## Numpy\n",
        "\n",
        "### Documentação Oficial\n",
        "> https://numpy.org/doc/stable/index.html\n",
        "\n",
        "(Documentação do Numpy-Load) \n",
        "\n",
        "> https://numpy.org/doc/1.16/reference/generated/numpy.loadtxt.html \n",
        "\n",
        "---\n",
        "\n",
        "\n",
        "# (Painel: SIPAER.qvw):\n",
        "> [http://painelsipaer.cenipa.aer.mil.br/](http://painelsipaer.cenipa.aer.mil.br/QvAJAXZfc/opendoc.htm?document=SIGAER%2Fgia%2Fqvw%2Fpainel_sipaer.qvw&host=QVS%40cirros31-37&anonymous=true)\n",
        "\n",
        "</center>\n",
        "\n",
        "- Página Web que Carrega-Visualização de Gráficos dos Relatórios de Investigações de Acidentes nos ultimos 10 anos, Armazenados no Sistema da CENIPA.\n",
        "\n",
        "---\n",
        "\n",
        "#Projeto Integrador: \n",
        "> https://github.com/rochawennis/Projeto_Integrador_2021 \n",
        "\n",
        "- Projeto realizado por alunos, executando programação em python com fundamentos do data-science, (utilizamos esse projeto como Referência)\n",
        "\n",
        "#Projeto Carlos Melo:\n",
        "> https://github.com/carlosfab/curso_data_science_na_pratica\n",
        "---\n",
        "\n",
        "<center>\n",
        "\n",
        " # Dataframes Hospedados\n",
        "\n",
        ">  (http://www.dados.gov.br/dataset/ocorrencias-aeronauticas-da-aviacao-civil-brasileira). \n",
        "\n",
        "---\n",
        "\n",
        "#Data Science Academy\n",
        "Foram realizado Cursos na Modalidade Gratuítos.\n",
        "- Introdução à Ciência de Dados 3.0\n",
        "- Python Fundamentos Para Análise de Dados 3.0\n",
        "\n",
        "> https://www.datascienceacademy.com.br/cursosgratuitos\n",
        "\n",
        "---\n",
        "\n",
        "# Microsoft Power B.I"
      ],
      "metadata": {
        "id": "xyE3_dXvRv5g"
      }
    },
    {
      "cell_type": "code",
      "source": [
        ""
      ],
      "metadata": {
        "id": "RCvdSzqScWu5"
      },
      "execution_count": null,
      "outputs": []
    }
  ]
}